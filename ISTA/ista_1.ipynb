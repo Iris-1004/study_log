{
 "cells": [
  {
   "cell_type": "code",
   "execution_count": 12,
   "id": "cc85a5b1-8c06-4122-ba9f-7e035a4c034d",
   "metadata": {
    "collapsed": true,
    "jupyter": {
     "outputs_hidden": true
    }
   },
   "outputs": [
    {
     "name": "stdout",
     "output_type": "stream",
     "text": [
      "Package                   Version\n",
      "------------------------- -----------\n",
      "absl-py                   2.1.0\n",
      "aiohappyeyeballs          2.4.4\n",
      "aiohttp                   3.11.10\n",
      "aiosignal                 1.2.0\n",
      "anyio                     4.6.2\n",
      "argon2-cffi               21.3.0\n",
      "argon2-cffi-bindings      21.2.0\n",
      "asttokens                 2.0.5\n",
      "astunparse                1.6.3\n",
      "async-lru                 2.0.4\n",
      "async-timeout             5.0.1\n",
      "attrs                     24.3.0\n",
      "babel                     2.16.0\n",
      "backcall                  0.2.0\n",
      "beautifulsoup4            4.12.3\n",
      "bleach                    6.2.0\n",
      "blinker                   1.9.0\n",
      "Bottleneck                1.4.2\n",
      "Brotli                    1.0.9\n",
      "cachetools                5.5.1\n",
      "certifi                   2025.1.31\n",
      "cffi                      1.17.1\n",
      "charset-normalizer        3.3.2\n",
      "click                     8.1.7\n",
      "colorama                  0.4.6\n",
      "comm                      0.2.1\n",
      "contourpy                 1.2.1\n",
      "cryptography              41.0.3\n",
      "cycler                    0.11.0\n",
      "debugpy                   1.8.11\n",
      "decorator                 5.1.1\n",
      "defusedxml                0.7.1\n",
      "exceptiongroup            1.2.0\n",
      "executing                 0.8.3\n",
      "fastjsonschema            2.20.0\n",
      "filelock                  3.13.1\n",
      "flatbuffers               24.3.25\n",
      "fonttools                 4.55.3\n",
      "frozenlist                1.5.0\n",
      "fsspec                    2024.12.0\n",
      "gast                      0.4.0\n",
      "gmpy2                     2.2.1\n",
      "google-auth               2.38.0\n",
      "google-auth-oauthlib      0.4.4\n",
      "google-pasta              0.2.0\n",
      "grpcio                    1.48.2\n",
      "h11                       0.14.0\n",
      "h5py                      3.12.1\n",
      "httpcore                  1.0.2\n",
      "httpx                     0.27.0\n",
      "idna                      3.7\n",
      "importlib_metadata        8.5.0\n",
      "importlib_resources       6.4.0\n",
      "ipykernel                 6.29.5\n",
      "ipython                   8.15.0\n",
      "jedi                      0.19.2\n",
      "Jinja2                    3.1.5\n",
      "json5                     0.9.25\n",
      "jsonschema                4.23.0\n",
      "jsonschema-specifications 2023.7.1\n",
      "jupyter_client            8.6.3\n",
      "jupyter_core              5.7.2\n",
      "jupyter-events            0.12.0\n",
      "jupyter-lsp               2.2.0\n",
      "jupyter_server            2.15.0\n",
      "jupyter_server_terminals  0.4.4\n",
      "jupyterlab                4.3.4\n",
      "jupyterlab_pygments       0.3.0\n",
      "jupyterlab_server         2.27.3\n",
      "kaggle                    1.6.17\n",
      "keras                     2.10.0\n",
      "Keras-Preprocessing       1.1.2\n",
      "kiwisolver                1.4.4\n",
      "Markdown                  3.4.1\n",
      "MarkupSafe                3.0.2\n",
      "matplotlib                3.9.2\n",
      "matplotlib-inline         0.1.6\n",
      "mistune                   3.1.2\n",
      "mkl_fft                   1.3.11\n",
      "mkl_random                1.2.8\n",
      "mkl-service               2.4.0\n",
      "mpmath                    1.3.0\n",
      "multidict                 6.1.0\n",
      "nbclient                  0.10.2\n",
      "nbconvert                 7.16.6\n",
      "nbformat                  5.10.4\n",
      "nest-asyncio              1.6.0\n",
      "networkx                  3.2.1\n",
      "notebook                  7.3.2\n",
      "notebook_shim             0.2.3\n",
      "numexpr                   2.10.1\n",
      "numpy                     1.26.4\n",
      "oauthlib                  3.2.2\n",
      "opt-einsum                3.3.0\n",
      "overrides                 7.4.0\n",
      "packaging                 24.2\n",
      "pandas                    2.2.3\n",
      "pandocfilters             1.5.0\n",
      "parso                     0.8.4\n",
      "pickleshare               0.7.5\n",
      "pillow                    11.1.0\n",
      "pip                       25.0\n",
      "platformdirs              3.10.0\n",
      "ply                       3.11\n",
      "prometheus_client         0.21.0\n",
      "prompt-toolkit            3.0.43\n",
      "propcache                 0.2.0\n",
      "protobuf                  3.20.3\n",
      "psutil                    5.9.0\n",
      "pure-eval                 0.2.2\n",
      "pyasn1                    0.4.8\n",
      "pyasn1-modules            0.2.8\n",
      "pycparser                 2.21\n",
      "Pygments                  2.15.1\n",
      "PyJWT                     2.10.1\n",
      "pyOpenSSL                 23.2.0\n",
      "pyparsing                 3.2.0\n",
      "PyQt5                     5.15.10\n",
      "PyQt5_sip                 12.13.0\n",
      "PySocks                   1.7.1\n",
      "python-dateutil           2.9.0.post0\n",
      "python-json-logger        3.2.1\n",
      "python-slugify            8.0.4\n",
      "pytz                      2024.1\n",
      "pywin32                   308\n",
      "pywinpty                  2.0.14\n",
      "PyYAML                    6.0.2\n",
      "pyzmq                     26.2.0\n",
      "referencing               0.30.2\n",
      "requests                  2.32.3\n",
      "requests-oauthlib         2.0.0\n",
      "rfc3339-validator         0.1.4\n",
      "rfc3986-validator         0.1.1\n",
      "rpds-py                   0.22.3\n",
      "rsa                       4.7.2\n",
      "scipy                     1.13.1\n",
      "seaborn                   0.13.2\n",
      "Send2Trash                1.8.2\n",
      "setuptools                75.8.0\n",
      "sip                       6.7.12\n",
      "six                       1.16.0\n",
      "sniffio                   1.3.0\n",
      "soupsieve                 2.5\n",
      "stack-data                0.2.0\n",
      "sympy                     1.13.3\n",
      "tensorboard               2.10.0\n",
      "tensorboard-data-server   0.6.1\n",
      "tensorboard-plugin-wit    1.8.1\n",
      "tensorflow                2.10.0\n",
      "tensorflow-estimator      2.10.0\n",
      "termcolor                 2.1.0\n",
      "terminado                 0.17.1\n",
      "text-unidecode            1.3\n",
      "tinycss2                  1.4.0\n",
      "tomli                     2.0.1\n",
      "torch                     2.3.1\n",
      "tornado                   6.4.2\n",
      "tqdm                      4.67.1\n",
      "traitlets                 5.14.3\n",
      "typing_extensions         4.12.2\n",
      "tzdata                    2023.3\n",
      "unicodedata2              15.1.0\n",
      "urllib3                   2.3.0\n",
      "wcwidth                   0.2.5\n",
      "webencodings              0.5.1\n",
      "websocket-client          1.8.0\n",
      "Werkzeug                  3.1.3\n",
      "wheel                     0.45.1\n",
      "win-inet-pton             1.1.0\n",
      "wrapt                     1.17.0\n",
      "yarl                      1.18.0\n",
      "zipp                      3.21.0\n"
     ]
    }
   ],
   "source": [
    "!pip list\n",
    "# 이 파일에 설치된 게 아니라 이 컴퓨터에 설치된 애라서 이 파일에서 사용하려면 import 해줘야 해"
   ]
  },
  {
   "cell_type": "code",
   "execution_count": 13,
   "id": "4c8ebb69-6c09-4053-9cb3-3aaecff53ea6",
   "metadata": {},
   "outputs": [],
   "source": [
    "import numpy as np # 관례적으로 numpy는 np로 별칭"
   ]
  },
  {
   "cell_type": "markdown",
   "id": "d4164457-595a-46c6-909d-39da2cb6392f",
   "metadata": {},
   "source": [
    "# 다차원 배열\n",
    "\n",
    "- 연속된 공간에 동일한 타입의 데이터의 모음 => 인공지능이 숫자로 만들어진 배열의 형태로만 받음"
   ]
  },
  {
   "cell_type": "code",
   "execution_count": 27,
   "id": "a63a469f-bf90-4521-b86d-7e97fa230f24",
   "metadata": {},
   "outputs": [
    {
     "name": "stdout",
     "output_type": "stream",
     "text": [
      "[1 2 3] <class 'numpy.ndarray'>\n",
      "[1, 2, 3] <class 'list'>\n"
     ]
    }
   ],
   "source": [
    "# rank: 배열의 차원 \n",
    "\n",
    "# rank가 1인 배열\n",
    "a = np.array([1,2,3]) # 파이썬의 리스트 형태를 numpy를 이용해서 배열로 선언(>)해준거야 (인공지능이 배열의 형태로 받으니까)\n",
    "b = [1,2,3] # b는 그냥 파이썬의 리스트\n",
    "\n",
    "print(a, type(a)) # [1 2 3] <class 'numpy.ndarray'>\n",
    "print(b, type(b)) # [1, 2, 3] <class 'list'>\n"
   ]
  },
  {
   "cell_type": "code",
   "execution_count": 28,
   "id": "38e7f34f-51e7-43c9-95c6-ad48c77abbc0",
   "metadata": {},
   "outputs": [
    {
     "name": "stdout",
     "output_type": "stream",
     "text": [
      "(3,) 1 int32\n"
     ]
    }
   ],
   "source": [
    "# shape: 각 차원의\n",
    "print(a.shape, a.ndim, a.dtype)\n",
    "\n",
    "# vector의 기본은 열백터여서 [1 2 3]이어도 (3,1)로 말해주는 것.\n"
   ]
  },
  {
   "cell_type": "code",
   "execution_count": 29,
   "id": "5cc7d517-128b-47ed-972b-56bf84dd12ec",
   "metadata": {},
   "outputs": [
    {
     "name": "stdout",
     "output_type": "stream",
     "text": [
      "<U11\n"
     ]
    }
   ],
   "source": [
    "c = np.array([1,2,'3'])\n",
    "print(c.dtype) # <U11\n",
    "# 문자열이 더 커서 이럴 땐 세 개 다 문자열 취급을 함.(동일한 형태의 자료형을 받기 때문에)"
   ]
  },
  {
   "cell_type": "code",
   "execution_count": 34,
   "id": "8c7acda6-0ae4-42c5-a1be-297a5a8f061b",
   "metadata": {},
   "outputs": [
    {
     "name": "stdout",
     "output_type": "stream",
     "text": [
      "[[1 2 3]\n",
      " [4 5 6]] <class 'numpy.ndarray'>\n",
      "(2, 3) 2 int32 4\n"
     ]
    }
   ],
   "source": [
    "# rank가 2인 배열\n",
    "a = np.array([[1,2,3],[4,5,6]])\n",
    "print(a, type(a))\n",
    "\n",
    "print(a.shape, a.ndim, a.dtype, a.itemsize) #itemsize: 각 배열요소가 메모리상에 차지하는 크기 / 강사님은 int64 8 인데 왜 나는?\n",
    "\n",
    "# 이건 또 행 벡터로 두 개 쌓여... rank가 1일때는 벡터로 인식하고 rank가 2부터는 행렬로 인색해서 그런가?"
   ]
  },
  {
   "cell_type": "code",
   "execution_count": 39,
   "id": "68053ad7-833d-4296-b33b-b7c1221cfe84",
   "metadata": {
    "scrolled": true
   },
   "outputs": [
    {
     "name": "stdout",
     "output_type": "stream",
     "text": [
      "[[[1 4 2 3 4]\n",
      "  [3 6 5 7 8]]\n",
      "\n",
      " [[2 3 8 4 5]\n",
      "  [4 5 1 6 7]]] <class 'numpy.ndarray'>\n",
      "(2, 2, 5) 3 int32 4\n"
     ]
    }
   ],
   "source": [
    "# rank가 3인 배열\n",
    "a = np.array([[[1,4,2,3,4],[3,6,5,7,8]],\n",
    "              [[2,3,8,4,5],[4,5,1,6,7]]])\n",
    "print(a, type(a))\n",
    "\n",
    "print(a.shape, a.ndim, a.dtype, a.itemsize) # shape (깊이, 행, 열)\n"
   ]
  },
  {
   "cell_type": "markdown",
   "id": "a3d1b81f-9218-4969-8adf-66499ab586d4",
   "metadata": {},
   "source": [
    "데이터의 양이 많아지고 규모가 커지면 형태를 하나하나 확인할 수 없기 때문에 데이터의 종류, 형태, 크기, 모양 등을 확인하기 위해 사용됨."
   ]
  },
  {
   "cell_type": "code",
   "execution_count": 43,
   "id": "c00bc3d1-6ae5-4fc0-9c92-bad4d5de2e69",
   "metadata": {},
   "outputs": [
    {
     "data": {
      "text/plain": [
       "array([ 0,  1,  2,  3,  4,  5,  6,  7,  8,  9, 10, 11])"
      ]
     },
     "execution_count": 43,
     "metadata": {},
     "output_type": "execute_result"
    }
   ],
   "source": [
    "# arange(): numpy에서 정수열을 생성해주는 함수, arange(n) 이면 0 ~ n-1 까지\n",
    "\n",
    "arr = np.arange(12)\n",
    "\n",
    "arr"
   ]
  },
  {
   "cell_type": "code",
   "execution_count": 52,
   "id": "fa05a43c-8f4f-4ec3-818b-9b2f420dcebd",
   "metadata": {},
   "outputs": [
    {
     "data": {
      "text/plain": [
       "array([[ 0,  1,  2,  3],\n",
       "       [ 4,  5,  6,  7],\n",
       "       [ 8,  9, 10, 11]])"
      ]
     },
     "execution_count": 52,
     "metadata": {},
     "output_type": "execute_result"
    }
   ],
   "source": [
    "# 3행 4열 형태로 데이터 만들기\n",
    "# reshape: 배열의 형태를 바꿔주는 함수, 배열.reshape(nnnn)로 사용\n",
    "\n",
    "## arr = np.arange(12) # 현재는 rank가 1\n",
    "arr = np.arange(12).reshape(3,4)\n",
    "\n",
    "arr\n"
   ]
  },
  {
   "cell_type": "code",
   "execution_count": 88,
   "id": "adbd69e8-a816-4847-b735-7d8a1595ea68",
   "metadata": {},
   "outputs": [
    {
     "name": "stdout",
     "output_type": "stream",
     "text": [
      "(3, 4)\n",
      "(12,)\n"
     ]
    }
   ],
   "source": [
    "# arr을 rank가 1인 형태로 바꾸고 싶을 때\n",
    "arr.reshape(-1)\n",
    "\n",
    "## reshaoe에서 -1은자동 크기 계산을 의미함. 즉, reshape(-1)은 기존 배열을 1차원 벡터로 flattening함.\n",
    "## reshape(-1, n): 특정 열 개수를 지정, 열을 n개로 맞추고 행 개수를 자동 조절함.\n",
    "## reshape(n, -1): 특정 행 개수를 지정, 행을 n개로 맞추고 열 개수를 자동 조절함.\n",
    "\n",
    "print(arr.shape)\n",
    "print(arr.reshape(-1).shape)"
   ]
  },
  {
   "cell_type": "markdown",
   "id": "0bb48cb6-2ac3-4906-a7ff-2c1e897ec31d",
   "metadata": {},
   "source": [
    "# numpy 배열 요소 다루기\n",
    "## 인덱싱, 슬라이싱"
   ]
  },
  {
   "cell_type": "code",
   "execution_count": 89,
   "id": "3569dc40-26d4-4295-bbd3-e3c340c2bcc0",
   "metadata": {},
   "outputs": [
    {
     "data": {
      "text/plain": [
       "array([[ 1,  2,  3,  4],\n",
       "       [ 5,  6,  7,  8],\n",
       "       [ 9, 10, 11, 12]])"
      ]
     },
     "execution_count": 89,
     "metadata": {},
     "output_type": "execute_result"
    }
   ],
   "source": [
    "a = np.array([[1,2,3,4],[5,6,7,8],[9,10,11,12]])\n",
    "a"
   ]
  },
  {
   "cell_type": "code",
   "execution_count": 90,
   "id": "4fb55313-d9e4-4240-9396-0e2a4aac32bb",
   "metadata": {},
   "outputs": [
    {
     "data": {
      "text/plain": [
       "array([[1, 2],\n",
       "       [5, 6]])"
      ]
     },
     "execution_count": 90,
     "metadata": {},
     "output_type": "execute_result"
    }
   ],
   "source": [
    "# 2행 2열로 추출하고 싶어\n",
    "# 1, 2\n",
    "# 5, 6 추출\n",
    "\n",
    "# numpy에서 슬라이싱 사용하기(python에도 슬라이싱 있고 numpy에도 슬라이싱 있음)\n",
    "b = a[:2, :2]; b"
   ]
  },
  {
   "cell_type": "code",
   "execution_count": 91,
   "id": "70b398ff-bf0f-4139-9921-f6409bdeb866",
   "metadata": {},
   "outputs": [
    {
     "data": {
      "text/plain": [
       "array([[2, 3],\n",
       "       [6, 7]])"
      ]
     },
     "execution_count": 91,
     "metadata": {},
     "output_type": "execute_result"
    }
   ],
   "source": [
    "# 2, 3\n",
    "# 6, 7 추출\n",
    "c = a[ :2, 1:3]; c # 열 * 행 형태네 열은 0, 1열 행은 1,2행 뽑고 싶으니까 :2, 1:3"
   ]
  },
  {
   "cell_type": "code",
   "execution_count": 92,
   "id": "2feb8572-4091-4977-ab4f-e0b10799b68f",
   "metadata": {},
   "outputs": [
    {
     "name": "stdout",
     "output_type": "stream",
     "text": [
      "[1, 2, 3]\n",
      "------------------------------\n",
      "[100, 2, 3]\n"
     ]
    }
   ],
   "source": [
    "# 파이썬 리스트에서 요소 값 수정\n",
    "\n",
    "list1 = [1,2,3]; list1\n",
    "print(list1)\n",
    "print('-' * 30)\n",
    "list1[0] =100; list1\n",
    "print(list1)"
   ]
  },
  {
   "cell_type": "code",
   "execution_count": 93,
   "id": "df212a8c-abe0-45b3-9ae6-1248b7621da1",
   "metadata": {},
   "outputs": [
    {
     "name": "stdout",
     "output_type": "stream",
     "text": [
      "[[1 2]\n",
      " [5 6]]\n",
      "------------------------------\n",
      "1\n"
     ]
    },
    {
     "data": {
      "text/plain": [
       "array([[100,   2],\n",
       "       [  5,   6]])"
      ]
     },
     "execution_count": 93,
     "metadata": {},
     "output_type": "execute_result"
    }
   ],
   "source": [
    "# 배열 요소 값 수정 - 호출 후 대입\n",
    "\n",
    "print(b)\n",
    "print('-' * 30)\n",
    "print(b[0,0])\n",
    "b[0,0] = 100; b"
   ]
  },
  {
   "cell_type": "code",
   "execution_count": 94,
   "id": "b76b0d50-1e56-48cb-9c75-11fdde56ddab",
   "metadata": {},
   "outputs": [
    {
     "data": {
      "text/plain": [
       "array([[100,   2,   3,   4],\n",
       "       [  5,   6,   7,   8],\n",
       "       [  9,  10,  11,  12]])"
      ]
     },
     "execution_count": 94,
     "metadata": {},
     "output_type": "execute_result"
    }
   ],
   "source": [
    "a  ### 슬라이싱한 b(부분배열)의 요소 값을 수정했더니 슬라이싱 전 a(원본배열)의 요소도 수정된다는 것을 확인할 수 있음."
   ]
  },
  {
   "cell_type": "raw",
   "id": "1989e74a-e69b-4364-bbe3-166f9fb53f75",
   "metadata": {},
   "source": [
    "'''\n",
    "# 일반적으로는 새로운 변수에 담으면 별개의 것이 새로 생기는데 numpy는 다름.\n",
    "# numpy 슬라이싱: 파이썬의 리스트 또는 문자열을 다루는 것처럼 유사하게 슬라이싱 사용 가능하다.\n",
    "               : 슬라이싱 된 배열(부분 배열)은 원본 배열을 참조하고 있음에 유의!!!\n",
    "            : 그러므로 슬라이싱 된 배열을 수정하면 원본 배열도 수정될 수 있음에 주의!\n",
    "'''"
   ]
  },
  {
   "cell_type": "code",
   "execution_count": null,
   "id": "711ab857-7082-4870-af19-b4d30a94a0b7",
   "metadata": {},
   "outputs": [],
   "source": []
  },
  {
   "cell_type": "code",
   "execution_count": null,
   "id": "ec5bb926-b69f-4327-b2cd-f273da39dba7",
   "metadata": {},
   "outputs": [],
   "source": []
  }
 ],
 "metadata": {
  "kernelspec": {
   "display_name": "Python 3 (ipykernel)",
   "language": "python",
   "name": "python3"
  },
  "language_info": {
   "codemirror_mode": {
    "name": "ipython",
    "version": 3
   },
   "file_extension": ".py",
   "mimetype": "text/x-python",
   "name": "python",
   "nbconvert_exporter": "python",
   "pygments_lexer": "ipython3",
   "version": "3.9.18"
  }
 },
 "nbformat": 4,
 "nbformat_minor": 5
}
