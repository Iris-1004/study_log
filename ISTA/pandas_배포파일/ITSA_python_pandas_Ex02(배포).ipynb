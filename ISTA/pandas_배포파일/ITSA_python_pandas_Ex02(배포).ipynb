{
  "nbformat": 4,
  "nbformat_minor": 0,
  "metadata": {
    "colab": {
      "provenance": []
    },
    "kernelspec": {
      "name": "python3",
      "display_name": "Python 3"
    },
    "language_info": {
      "name": "python"
    }
  },
  "cells": [
    {
      "cell_type": "code",
      "source": [
        "import pandas as pd\n",
        "from pandas import Series, DataFrame\n",
        "import numpy as np"
      ],
      "metadata": {
        "id": "OJfsMLAE24Td"
      },
      "execution_count": null,
      "outputs": []
    },
    {
      "cell_type": "markdown",
      "source": [
        "## 슬라이싱"
      ],
      "metadata": {
        "id": "jUJaop1u2zG-"
      }
    },
    {
      "cell_type": "code",
      "execution_count": null,
      "metadata": {
        "id": "16bDt3Og2kUO"
      },
      "outputs": [],
      "source": [
        "obj = Series(np.arange(4.), index=['a', 'b', 'c','d']); obj"
      ]
    },
    {
      "cell_type": "code",
      "source": [
        "obj['b':'c']"
      ],
      "metadata": {
        "id": "4FvnjnsD2oDc"
      },
      "execution_count": null,
      "outputs": []
    },
    {
      "cell_type": "code",
      "source": [
        "# 슬라이싱한 결과에 값 대입\n",
        "obj['b':'c'] = 10\n",
        "obj"
      ],
      "metadata": {
        "id": "KrrYJYZl2n_E"
      },
      "execution_count": null,
      "outputs": []
    },
    {
      "cell_type": "code",
      "source": [
        "df = DataFrame(np.arange(16).reshape(4, 4),\n",
        "               index=['Seoul', 'Busan', 'Daegu', 'Incheon'],\n",
        "               columns=['one', 'two', 'three', 'four'])\n",
        "df"
      ],
      "metadata": {
        "id": "YIm21-IA2n8t"
      },
      "execution_count": null,
      "outputs": []
    },
    {
      "cell_type": "code",
      "source": [
        "# 데이터 프레임 슬라이싱\n",
        "df[1:2]"
      ],
      "metadata": {
        "id": "aGg9k63u2n4E"
      },
      "execution_count": null,
      "outputs": []
    },
    {
      "cell_type": "code",
      "source": [
        "# 컬럼 index 기준으로 슬라이싱 하려면 [행, 열] 조합\n",
        "df.loc[:, 'one']"
      ],
      "metadata": {
        "id": "mXZNSOoZ2n1t"
      },
      "execution_count": null,
      "outputs": []
    },
    {
      "cell_type": "code",
      "source": [
        "# 두 축을 모두 지정해서 슬라이싱\n",
        "df.loc[:, ['two', 'three']]"
      ],
      "metadata": {
        "id": "or2s-n4E4Q5W"
      },
      "execution_count": null,
      "outputs": []
    },
    {
      "cell_type": "code",
      "source": [
        "df"
      ],
      "metadata": {
        "id": "mWoaE8-F4Q1F"
      },
      "execution_count": null,
      "outputs": []
    },
    {
      "cell_type": "code",
      "source": [
        "# [실습]\n",
        "# 6, 7\n",
        "# 10, 11      데이터프레임으로 리턴해서 출력해보세요 (2행 2열 데이터 프레임)\n"
      ],
      "metadata": {
        "id": "EBJe_R2M5pSd"
      },
      "execution_count": null,
      "outputs": []
    },
    {
      "cell_type": "code",
      "source": [
        "# iloc 도 가능\n"
      ],
      "metadata": {
        "id": "ZEbwGwJV5pN9"
      },
      "execution_count": null,
      "outputs": []
    },
    {
      "cell_type": "code",
      "source": [
        "df.iloc[[3, 2], [3, 0, 1]]"
      ],
      "metadata": {
        "id": "-dFslEsh5pK-"
      },
      "execution_count": null,
      "outputs": []
    },
    {
      "cell_type": "markdown",
      "source": [
        "### 조건 부여 가능 (filtering)"
      ],
      "metadata": {
        "id": "fAbkDWrS7Sud"
      }
    },
    {
      "cell_type": "code",
      "source": [
        "df"
      ],
      "metadata": {
        "id": "D5DNoX8v7EAW"
      },
      "execution_count": null,
      "outputs": []
    },
    {
      "cell_type": "code",
      "source": [
        "df.three"
      ],
      "metadata": {
        "id": "d9BGcvAS7D9V"
      },
      "execution_count": null,
      "outputs": []
    },
    {
      "cell_type": "code",
      "source": [
        "# 7보다 큰 값 찾기\n",
        "df.three > 7"
      ],
      "metadata": {
        "id": "G-M7en0N7D7N"
      },
      "execution_count": null,
      "outputs": []
    },
    {
      "cell_type": "code",
      "source": [
        "# 'three' 컬럼 기준으로 7보다 큰 값이 있는 데이터만 추출 : 데이터프레임[조건]\n",
        "# 추출할 때 True만 추출\n",
        "df[df.three > 7]"
      ],
      "metadata": {
        "id": "u5AoxcnM7D4d"
      },
      "execution_count": null,
      "outputs": []
    },
    {
      "cell_type": "code",
      "source": [
        "# [실습]\n",
        "# df을 df2로 복사 한 후\n",
        "# df2에서 5보다 작은값을 모두 0으로 수정해보세요\n",
        "# [Hint] True로 리턴되는 값만 인덱싱되는 것을 유의"
      ],
      "metadata": {
        "id": "EA6yAce77QZ1"
      },
      "execution_count": null,
      "outputs": []
    },
    {
      "cell_type": "code",
      "source": [],
      "metadata": {
        "id": "UVP1_v1y7QXs"
      },
      "execution_count": null,
      "outputs": []
    },
    {
      "cell_type": "code",
      "source": [],
      "metadata": {
        "id": "-QRPWDRA7QS0"
      },
      "execution_count": null,
      "outputs": []
    },
    {
      "cell_type": "code",
      "source": [
        "\n"
      ],
      "metadata": {
        "id": "fppK7EaYCUwd"
      },
      "execution_count": null,
      "outputs": []
    },
    {
      "cell_type": "code",
      "source": [
        "# 특정 조건을 만족하는 데이터 제한 가능 - 특성을 연결해서 사용할 수 있다\n",
        "df[df.three > 5].iloc[:2]"
      ],
      "metadata": {
        "id": "z5Nhi4_mCUt_"
      },
      "execution_count": null,
      "outputs": []
    },
    {
      "cell_type": "markdown",
      "source": [
        "## 정렬\n",
        "\n",
        "* 행 인덱스, 열 인덱스 순으로 정렬하는 등의 기준이 필요"
      ],
      "metadata": {
        "id": "wIwa0KN9Di5W"
      }
    },
    {
      "cell_type": "code",
      "source": [
        "# 임의의 정규분포 데이터 생성\n",
        "df = DataFrame(np.random.randn(4, 3), columns=list('dbe'),\n",
        "               index=['Seoul', 'Busan', 'Daegu', 'Incheon'])\n",
        "df"
      ],
      "metadata": {
        "id": "2TvXssm8CUrt"
      },
      "execution_count": null,
      "outputs": []
    },
    {
      "cell_type": "markdown",
      "source": [
        "* Series 객체 정렬"
      ],
      "metadata": {
        "id": "Og2q7gtUErdH"
      }
    },
    {
      "cell_type": "code",
      "source": [
        "s1 = df.e.copy()\n",
        "s1"
      ],
      "metadata": {
        "id": "HZtTV7M_CUpG"
      },
      "execution_count": null,
      "outputs": []
    },
    {
      "cell_type": "code",
      "source": [
        "# Series 객체\n",
        "s1.sort_index()"
      ],
      "metadata": {
        "id": "cE5f-GujDURe"
      },
      "execution_count": null,
      "outputs": []
    },
    {
      "cell_type": "code",
      "source": [
        "# 내림차순으로 정렬\n",
        "s1.sort_index(ascending=False)"
      ],
      "metadata": {
        "id": "5O-TVnxQDUOl"
      },
      "execution_count": null,
      "outputs": []
    },
    {
      "cell_type": "code",
      "source": [
        "# Series 객체\n",
        "s1.sort_values()"
      ],
      "metadata": {
        "id": "1x3AlKmEDUMd"
      },
      "execution_count": null,
      "outputs": []
    },
    {
      "cell_type": "markdown",
      "source": [
        "* 데이터프레임 정렬"
      ],
      "metadata": {
        "id": "G3pbH_glF3Cu"
      }
    },
    {
      "cell_type": "code",
      "source": [
        "df"
      ],
      "metadata": {
        "id": "wFncODraDUJu"
      },
      "execution_count": null,
      "outputs": []
    },
    {
      "cell_type": "code",
      "source": [
        "# 데이터 프레임\n",
        "df.sort_index()"
      ],
      "metadata": {
        "id": "gK8SoYJ9FoTe"
      },
      "execution_count": null,
      "outputs": []
    },
    {
      "cell_type": "code",
      "source": [
        "# 데이터 프레임 정렬\n",
        "df.sort_index(axis=1)"
      ],
      "metadata": {
        "id": "cn9j3fMyFoRt"
      },
      "execution_count": null,
      "outputs": []
    },
    {
      "cell_type": "code",
      "source": [
        "# value 기반 정렬 (by 속성에 기준 컬럼을 지정해야함에 유의)\n",
        "df.sort_values(by='b')"
      ],
      "metadata": {
        "id": "yWD1mX_kFoPY"
      },
      "execution_count": null,
      "outputs": []
    },
    {
      "cell_type": "code",
      "source": [
        "# 여러 개의 컬럼을 기준으로 사용 가능\n",
        "df2 = DataFrame({'b':[4, 7, -5, 2], 'a':[0, 1, 0, 1]})\n",
        "df2"
      ],
      "metadata": {
        "id": "bl4iZrZjFoMh"
      },
      "execution_count": null,
      "outputs": []
    },
    {
      "cell_type": "code",
      "source": [
        "df2.sort_values(by=['a', 'b'])"
      ],
      "metadata": {
        "id": "cEr2Ev0aGtgZ"
      },
      "execution_count": null,
      "outputs": []
    },
    {
      "cell_type": "code",
      "source": [
        "# NaN 있는 경우\n",
        "obj = Series([4, np.nan, 8, np.nan, -10, 2])\n",
        "obj"
      ],
      "metadata": {
        "id": "GMPCKeAbGtcG"
      },
      "execution_count": null,
      "outputs": []
    },
    {
      "cell_type": "code",
      "source": [
        "obj.sort_values()"
      ],
      "metadata": {
        "id": "g0neQguDGtZW"
      },
      "execution_count": null,
      "outputs": []
    },
    {
      "cell_type": "code",
      "source": [
        "obj.sort_values(ascending=False)"
      ],
      "metadata": {
        "id": "Qvvvs1kHJUcR"
      },
      "execution_count": null,
      "outputs": []
    },
    {
      "cell_type": "markdown",
      "source": [
        "## 순위\n",
        "\n",
        "* rank()\n",
        "\n",
        "* 원본데이터의 순서 정보"
      ],
      "metadata": {
        "id": "Xb8eLh6HOUfQ"
      }
    },
    {
      "cell_type": "code",
      "source": [
        "s1 = Series([7, -2, 7, 4, 2, 0, 4])\n",
        "s1"
      ],
      "metadata": {
        "id": "b0BHH9A0JUZf"
      },
      "execution_count": null,
      "outputs": []
    },
    {
      "cell_type": "code",
      "source": [
        "s1.rank()\n",
        "\n",
        "# 기본 오름차순 정렬을 했을 때 데이터 나열 순서 정보\n",
        "# 중복된 데이터는 순위의 평균값으로 처리하고 있음에 유의"
      ],
      "metadata": {
        "id": "th8U_R0zJUUY"
      },
      "execution_count": null,
      "outputs": []
    },
    {
      "cell_type": "code",
      "source": [
        "# 동점(률) 처리 중 먼저 입력된 것을 우선순위\n",
        "s1.rank(method='first')"
      ],
      "metadata": {
        "id": "3jfMbdqEOd_u"
      },
      "execution_count": null,
      "outputs": []
    },
    {
      "cell_type": "code",
      "source": [
        "# 내림차순 순위매기기 - 동점(률) 처리 - 그룹 지어서 순위 매기기\n",
        "print(s1)\n",
        "print('-'*40)\n",
        "print(s1.rank(ascending=False, method='min'))"
      ],
      "metadata": {
        "id": "O2OBQ2eIOd8w"
      },
      "execution_count": null,
      "outputs": []
    },
    {
      "cell_type": "markdown",
      "source": [
        "## 기술통계\n",
        "\n",
        "* 일반적인 수학/통계 함수들을 제공해주고 있음\n",
        "\n",
        "* 처음부터 결측치(누락 데이터)를 제외하도록 설계되어 있음."
      ],
      "metadata": {
        "id": "0UNz-XGsRlIe"
      }
    },
    {
      "cell_type": "code",
      "source": [
        "df = DataFrame([\n",
        "    [1.3, np.nan], [7.1, -4.5], [np.nan, np.nan], [0.75, -1.3]],\n",
        "    index=list('abcd'), columns=['one', 'two']\n",
        ")\n",
        "\n",
        "df"
      ],
      "metadata": {
        "id": "KAyjF49zOd6P"
      },
      "execution_count": null,
      "outputs": []
    },
    {
      "cell_type": "code",
      "source": [
        "# sum()\n",
        "df.sum()"
      ],
      "metadata": {
        "id": "odMuirAXOd3e"
      },
      "execution_count": null,
      "outputs": []
    },
    {
      "cell_type": "code",
      "source": [
        "# row 단위로 수행\n",
        "df.sum(axis=1)"
      ],
      "metadata": {
        "id": "-oLQqGVJOd02"
      },
      "execution_count": null,
      "outputs": []
    },
    {
      "cell_type": "code",
      "source": [
        "# NaN을 제외하지 않고 연산을 수행 : skipna 옵션 (default : True)\n",
        "df.sum(axis=1, skipna=False)"
      ],
      "metadata": {
        "id": "OqGFmD8XTJM-"
      },
      "execution_count": null,
      "outputs": []
    },
    {
      "cell_type": "code",
      "source": [
        "df"
      ],
      "metadata": {
        "id": "KbDcbV_UTJI-"
      },
      "execution_count": null,
      "outputs": []
    },
    {
      "cell_type": "code",
      "source": [
        "# 누산(누적합) : cumsum()\n",
        "df.cumsum()"
      ],
      "metadata": {
        "id": "dkm1cCkYTJGf"
      },
      "execution_count": null,
      "outputs": []
    },
    {
      "cell_type": "code",
      "source": [
        "df"
      ],
      "metadata": {
        "id": "yq2RHU90Xwdn"
      },
      "execution_count": null,
      "outputs": []
    },
    {
      "cell_type": "code",
      "source": [
        "df.cumsum(axis=1)"
      ],
      "metadata": {
        "id": "6HhnIdWsXCwX"
      },
      "execution_count": null,
      "outputs": []
    },
    {
      "cell_type": "code",
      "source": [
        "df.cumsum(axis=1, skipna=False)"
      ],
      "metadata": {
        "id": "9PbCFhO4XCuQ"
      },
      "execution_count": null,
      "outputs": []
    },
    {
      "cell_type": "code",
      "source": [
        "df"
      ],
      "metadata": {
        "id": "fq-zptF9crwe"
      },
      "execution_count": null,
      "outputs": []
    },
    {
      "cell_type": "code",
      "source": [
        "# value가 가장 큰 값이 있는 row 인덱스를 리턴\n",
        "df.idxmax()"
      ],
      "metadata": {
        "id": "wpp4nI7WXCru"
      },
      "execution_count": null,
      "outputs": []
    },
    {
      "cell_type": "code",
      "source": [
        "# value가 가장 작은 값이 있는 row 인덱스를 리턴\n",
        "df.idxmin()"
      ],
      "metadata": {
        "id": "EFUhMG-gXCo_"
      },
      "execution_count": null,
      "outputs": []
    },
    {
      "cell_type": "code",
      "source": [
        "# axis=1이면 value가 가장 큰 값이 있는 column 인덱스를 리턴\n",
        "df.idxmax(axis=1)"
      ],
      "metadata": {
        "id": "MSWO2q5bcGp4"
      },
      "execution_count": null,
      "outputs": []
    },
    {
      "cell_type": "code",
      "source": [
        "df.idxmin(axis=1)"
      ],
      "metadata": {
        "id": "QoRKtK9OcGmv"
      },
      "execution_count": null,
      "outputs": []
    },
    {
      "cell_type": "code",
      "source": [
        "# 도수 (값의 수를 계산)\n",
        "s1 = Series(['c', 'a', 'd', 'a', 'a', 'b', 'b', 'c', 'c'])\n",
        "len(s1)"
      ],
      "metadata": {
        "id": "TJzVDrSucGkJ"
      },
      "execution_count": null,
      "outputs": []
    },
    {
      "cell_type": "code",
      "source": [
        "s1.value_counts()"
      ],
      "metadata": {
        "id": "7z0RvEY3cGhP"
      },
      "execution_count": null,
      "outputs": []
    },
    {
      "cell_type": "code",
      "source": [
        "# 도수 => 그룹화 => 유일한 값\n",
        "s1.unique()"
      ],
      "metadata": {
        "id": "_QeEu5TaeITX"
      },
      "execution_count": null,
      "outputs": []
    },
    {
      "cell_type": "code",
      "source": [
        "# [실습] 유일한 값으로 되돌려진 결과를 최종적으로 정렬해보세요\n"
      ],
      "metadata": {
        "id": "O0oLm-v8eIPH"
      },
      "execution_count": null,
      "outputs": []
    },
    {
      "cell_type": "code",
      "source": [
        "# isin() : 어떤 값의 유무를 확인하는 함수 - T/F로 리턴"
      ],
      "metadata": {
        "id": "_LcFooh7gv7v"
      },
      "execution_count": null,
      "outputs": []
    },
    {
      "cell_type": "code",
      "source": [
        "s1"
      ],
      "metadata": {
        "id": "q1vT4YZFhDHu"
      },
      "execution_count": null,
      "outputs": []
    },
    {
      "cell_type": "code",
      "source": [
        "check = s1.isin(['b'])\n",
        "check"
      ],
      "metadata": {
        "id": "3BuXRgS6eIMx"
      },
      "execution_count": null,
      "outputs": []
    },
    {
      "cell_type": "code",
      "source": [
        "# 찾고자 하는 값이 여러 개인 경우도 가능\n",
        "check = s1.isin(['b', 'c'])\n",
        "check"
      ],
      "metadata": {
        "id": "ix2fxWWreIKP"
      },
      "execution_count": null,
      "outputs": []
    },
    {
      "cell_type": "code",
      "source": [
        "# 원하는 데이터(결과가 True인 값)만 인덱싱 가능\n",
        "s1[check]"
      ],
      "metadata": {
        "id": "DsHwydlWhPpe"
      },
      "execution_count": null,
      "outputs": []
    },
    {
      "cell_type": "markdown",
      "source": [
        "## NaN 처리\n",
        "\n",
        "* 결측치(누락된 데이터) 처리 : pandas 설계 목표 중 하나는 누락된 데이터를 쉽게 처리하도록 도와주는 것\n",
        "\n",
        "* pandas에서는 누락된 데이터를 모두 NaN(Not a Number) 로 취급"
      ],
      "metadata": {
        "id": "21-nKQurhsJx"
      }
    },
    {
      "cell_type": "code",
      "source": [
        "strData = Series(['aaa', 'bbb', np.nan, 'ddd'])\n",
        "strData"
      ],
      "metadata": {
        "id": "tkgHgHzqhPku"
      },
      "execution_count": null,
      "outputs": []
    },
    {
      "cell_type": "code",
      "source": [
        "# NaN 찾는 함수 : isnull(), notnull()\n",
        "strData.isnull()"
      ],
      "metadata": {
        "id": "J_m1g12-hZnx"
      },
      "execution_count": null,
      "outputs": []
    },
    {
      "cell_type": "code",
      "source": [
        "strData[0] = None\n",
        "strData"
      ],
      "metadata": {
        "id": "HDybJoPVhZlJ"
      },
      "execution_count": null,
      "outputs": []
    },
    {
      "cell_type": "code",
      "source": [
        "strData.isnull()"
      ],
      "metadata": {
        "id": "q1EnjU2Nhrxw"
      },
      "execution_count": null,
      "outputs": []
    },
    {
      "cell_type": "markdown",
      "source": [
        "### 누락된 데이터 골라내기 (삭제)"
      ],
      "metadata": {
        "id": "YYg7hacsjRa_"
      }
    },
    {
      "cell_type": "code",
      "source": [
        "data = Series([1, np.nan, 3.4, np.nan, 8]); data"
      ],
      "metadata": {
        "id": "G77he79chrs_"
      },
      "execution_count": null,
      "outputs": []
    },
    {
      "cell_type": "code",
      "source": [
        "# dropna()\n",
        "data.dropna()"
      ],
      "metadata": {
        "id": "T34_Az53hrqj"
      },
      "execution_count": null,
      "outputs": []
    },
    {
      "cell_type": "code",
      "source": [
        "# 불리언(boolean) 색인을 이용해서 직접 찾은 다음 골라내기\n",
        "data.notnull()"
      ],
      "metadata": {
        "id": "c8yfWdbbhrn_"
      },
      "execution_count": null,
      "outputs": []
    },
    {
      "cell_type": "code",
      "source": [
        "data[data.notnull()]"
      ],
      "metadata": {
        "id": "_zzxPq4-jQ4L"
      },
      "execution_count": null,
      "outputs": []
    },
    {
      "cell_type": "code",
      "source": [
        "data = DataFrame([\n",
        "    [1, 5.5, 3], [1, np.nan, np.nan], [np.nan, np.nan, np.nan], [np.nan, 3.3, 3]\n",
        "])\n",
        "\n",
        "data"
      ],
      "metadata": {
        "id": "5gCY4-A2jQ1i"
      },
      "execution_count": null,
      "outputs": []
    },
    {
      "cell_type": "code",
      "source": [
        "data.dropna()    # 기본적으로 NaN이 하나라도 있으면 그 행을 제외"
      ],
      "metadata": {
        "id": "114bObv0jQy4"
      },
      "execution_count": null,
      "outputs": []
    },
    {
      "cell_type": "code",
      "source": [
        "# 모든 행이 NaN인 행만 제외\n",
        "data.dropna(how='all')"
      ],
      "metadata": {
        "id": "y0mWbWdh-hDy"
      },
      "execution_count": null,
      "outputs": []
    },
    {
      "cell_type": "code",
      "source": [
        "data[4] = np.nan\n",
        "\n",
        "data"
      ],
      "metadata": {
        "id": "uYQLCmMs-hBJ"
      },
      "execution_count": null,
      "outputs": []
    },
    {
      "cell_type": "code",
      "source": [
        "# 모든 데이터가 NaN인 열을 제외\n",
        "data.dropna(how='all', axis=1)"
      ],
      "metadata": {
        "id": "ZO3cpNFi-g-y"
      },
      "execution_count": null,
      "outputs": []
    },
    {
      "cell_type": "code",
      "source": [
        "data"
      ],
      "metadata": {
        "id": "dI-uDYHg_zTC"
      },
      "execution_count": null,
      "outputs": []
    },
    {
      "cell_type": "code",
      "source": [
        "# tresh : 결측치(NaN)가 아닌 관찰값(value)가 지정한 인수값 미만인 경우에 제외\n",
        "data.dropna(thresh=2)"
      ],
      "metadata": {
        "id": "-UFS9fQm_zQi"
      },
      "execution_count": null,
      "outputs": []
    },
    {
      "cell_type": "markdown",
      "source": [
        "### 누락된 데이터 채우기 (권장)"
      ],
      "metadata": {
        "id": "8ilra7igAu1S"
      }
    },
    {
      "cell_type": "code",
      "source": [
        "data"
      ],
      "metadata": {
        "id": "GrYA1Wnm_zOD"
      },
      "execution_count": null,
      "outputs": []
    },
    {
      "cell_type": "code",
      "source": [
        "# dropna  <-> fillna\n",
        "data.fillna(0)"
      ],
      "metadata": {
        "id": "4aCrMZRF_zJT"
      },
      "execution_count": null,
      "outputs": []
    },
    {
      "cell_type": "code",
      "source": [
        "# fillna를 다양한 활용법에 따라서 채우는 형식을 다양하게 지정할 수 있음\n",
        "data"
      ],
      "metadata": {
        "id": "yrvnaKCWArGM"
      },
      "execution_count": null,
      "outputs": []
    },
    {
      "cell_type": "code",
      "source": [
        "# 특정 컬럼만 채우기\n",
        "data.fillna({1 : 10, 4 : 30})"
      ],
      "metadata": {
        "id": "9gKPees3ArCy"
      },
      "execution_count": null,
      "outputs": []
    },
    {
      "cell_type": "code",
      "source": [
        "data"
      ],
      "metadata": {
        "id": "eFVFO1REB3q6"
      },
      "execution_count": null,
      "outputs": []
    },
    {
      "cell_type": "code",
      "source": [
        "# 특정값(통계값) 채우기\n",
        "data.fillna(data.mean())"
      ],
      "metadata": {
        "id": "M_zKuaqhArAT"
      },
      "execution_count": null,
      "outputs": []
    },
    {
      "cell_type": "code",
      "source": [
        "# 바로 위에 있는 값으로 채우기\n",
        "data"
      ],
      "metadata": {
        "id": "UZccdTXjBd4P"
      },
      "execution_count": null,
      "outputs": []
    },
    {
      "cell_type": "code",
      "source": [
        "data.fillna(method='ffill')"
      ],
      "metadata": {
        "id": "kVJzqwbfBd1p"
      },
      "execution_count": null,
      "outputs": []
    },
    {
      "cell_type": "code",
      "source": [
        "data.fillna(method='ffill', limit=1)"
      ],
      "metadata": {
        "id": "mxV-RZCCBdzS"
      },
      "execution_count": null,
      "outputs": []
    },
    {
      "cell_type": "code",
      "source": [],
      "metadata": {
        "id": "RXLMf7RBBdw1"
      },
      "execution_count": null,
      "outputs": []
    }
  ]
}