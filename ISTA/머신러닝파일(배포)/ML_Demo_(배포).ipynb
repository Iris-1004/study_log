{
  "nbformat": 4,
  "nbformat_minor": 0,
  "metadata": {
    "colab": {
      "provenance": []
    },
    "kernelspec": {
      "name": "python3",
      "display_name": "Python 3"
    },
    "language_info": {
      "name": "python"
    }
  },
  "cells": [
    {
      "cell_type": "markdown",
      "source": [
        "# 사이킷런을 이용하여 붓꽃(Iris) 품종 예측하기"
      ],
      "metadata": {
        "id": "XMA3AohUrk_u"
      }
    },
    {
      "cell_type": "markdown",
      "source": [
        "* 데이터 로딩"
      ],
      "metadata": {
        "id": "15f1SsoRrvtu"
      }
    },
    {
      "cell_type": "code",
      "execution_count": null,
      "metadata": {
        "id": "vbFPuOFOrRKo"
      },
      "outputs": [],
      "source": [
        "# 사이킷런이 제공하는 iris 데이터 로딩\n",
        "from sklearn.datasets import load_iris\n",
        "import pandas as pd"
      ]
    },
    {
      "cell_type": "code",
      "source": [
        "# 붓꽃 데이터 로딩\n",
        "iris = load_iris()\n",
        "\n",
        "type(iris)"
      ],
      "metadata": {
        "id": "nkeM9X-hrSGQ"
      },
      "execution_count": null,
      "outputs": []
    },
    {
      "cell_type": "code",
      "source": [
        "iris"
      ],
      "metadata": {
        "collapsed": true,
        "id": "O01HbSq8rSCN"
      },
      "execution_count": null,
      "outputs": []
    },
    {
      "cell_type": "code",
      "source": [
        "'''\n",
        "# feature(특성) : 예측을 수행할 때 사용되는 입력(독립, 설명) 변수\n",
        "# target(label, 정답) : 예측을 수행할 때 사용되는 출력(종속, 목적) 변수\n",
        "\n",
        "--------------------------------------------------------------------------\n",
        "# Bunch 객체 데이터 세트\n",
        " - data : 피처의 데이터 세트\n",
        " - target : 레이블(정답) 값\n",
        " - target_name : 레이블 이름\n",
        " - featuer_names : 각 피처의 이름\n",
        " - DESCR : 데이터세트에 대한 설명, 각 피처에 대한 설명\n",
        "'''"
      ],
      "metadata": {
        "id": "A6f8s31crR_t"
      },
      "execution_count": null,
      "outputs": []
    },
    {
      "cell_type": "code",
      "source": [
        "# 데이터 세트에서 필요한 정보를 따로 추출해서 확인\n",
        "\n",
        "# 개별 확인\n",
        "print(iris['data'])\n",
        "print('-'*40)\n",
        "print(iris.feature_names)"
      ],
      "metadata": {
        "id": "HOqcwGiAstRd"
      },
      "execution_count": null,
      "outputs": []
    },
    {
      "cell_type": "code",
      "source": [
        "# target data 확인\n",
        "print(iris.target)\n",
        "print('-'*40)\n",
        "print(type(iris.target))"
      ],
      "metadata": {
        "id": "gTk_jTYOstPF"
      },
      "execution_count": null,
      "outputs": []
    },
    {
      "cell_type": "code",
      "source": [
        "# 간단한 데이터 탐색 - 데이터프레임 형태로 변경\n",
        "iris_df = pd.DataFrame(data=iris.data, columns=iris.feature_names)\n",
        "iris_df['label'] = iris.target\n",
        "\n",
        "iris_df.head()"
      ],
      "metadata": {
        "id": "Mh0B-SgsstMd"
      },
      "execution_count": null,
      "outputs": []
    },
    {
      "cell_type": "code",
      "source": [
        "iris_df.tail()"
      ],
      "metadata": {
        "id": "0W_OgfY1uwXg"
      },
      "execution_count": null,
      "outputs": []
    },
    {
      "cell_type": "code",
      "source": [
        "# 데이터 기본 요약 정보\n",
        "iris_df.info()"
      ],
      "metadata": {
        "id": "pjvnrNf-uwU9"
      },
      "execution_count": null,
      "outputs": []
    },
    {
      "cell_type": "code",
      "source": [
        "# 학습용 데이터세트와 테스트용데이터 세트를 분리\n",
        "from sklearn.model_selection import train_test_split\n",
        "\n",
        "X_train, X_test, y_train, y_test = train_test_split(iris.data, iris.target, test_size=0.2, random_state=11)"
      ],
      "metadata": {
        "id": "jCJlFrOuuwSP"
      },
      "execution_count": null,
      "outputs": []
    },
    {
      "cell_type": "code",
      "source": [
        "print(X_train.shape, X_test.shape)"
      ],
      "metadata": {
        "id": "sx_wSTyJvxGV"
      },
      "execution_count": null,
      "outputs": []
    },
    {
      "cell_type": "code",
      "source": [
        "print(y_train.shape, y_test.shape)"
      ],
      "metadata": {
        "id": "VAxhadYk4dtW"
      },
      "execution_count": null,
      "outputs": []
    },
    {
      "cell_type": "code",
      "source": [
        "# 모델 생성 - 결정트리알고리즘\n",
        "from sklearn.tree import DecisionTreeClassifier\n",
        "\n",
        "# 모델 객체 생성\n",
        "dt_clf = DecisionTreeClassifier(random_state=11)"
      ],
      "metadata": {
        "id": "qiuI0ZSF4dpG"
      },
      "execution_count": null,
      "outputs": []
    },
    {
      "cell_type": "code",
      "source": [
        "# 학습 수행 - 지도학습\n",
        "dt_clf.fit(X_train, y_train)"
      ],
      "metadata": {
        "id": "9Rn8qYFs4dmm"
      },
      "execution_count": null,
      "outputs": []
    },
    {
      "cell_type": "code",
      "source": [
        "# 예측 - 학습데이터로 쓰지 않았던 새로운 데이터로 예측을 하도록 하는 것이 권장사항\n",
        "pred = dt_clf.predict(X_test)\n",
        "\n",
        "pred"
      ],
      "metadata": {
        "id": "xHLf3Fc754uV"
      },
      "execution_count": null,
      "outputs": []
    },
    {
      "cell_type": "code",
      "source": [
        "len(pred)"
      ],
      "metadata": {
        "id": "sb2DFL4n54q2"
      },
      "execution_count": null,
      "outputs": []
    },
    {
      "cell_type": "code",
      "source": [
        "# 평가 - 모델이 예측한 결과를 바탕으로 이 모델의 예측 성능을 확인\n",
        "#      - 정확도\n",
        "from sklearn.metrics import accuracy_score\n",
        "\n",
        "print('학습모델의 예측 정확도 : {0:.4f}'.format(accuracy_score(y_test, pred)))"
      ],
      "metadata": {
        "id": "mT3g3Yey54oO"
      },
      "execution_count": null,
      "outputs": []
    },
    {
      "cell_type": "markdown",
      "source": [
        "## 머신러닝 프로세스 정리 (지도학습)\n",
        "\n",
        "* 데이터 로딩\n",
        "\n",
        "* 데이터 탐색\n",
        "\n",
        "* 데이터 전처리 (모델이 요구하는 형식)\n",
        "\n",
        "* 데이터 세트 분리 - 학습/<검정>/테스트로 분리\n",
        "\n",
        "* 모델 생성 -> 학습 : 학습데이터를 기반으로 최적의 ML 알고리즘을 적용해서 모델을 학습시킴\n",
        "\n",
        "* 예측 수행 - 학습된 ML 모델을 이용해서 새로운 데이터를 적용하여 예측을 수행\n",
        "\n",
        "* 평가 : 학습된 모델이 예측한 결과값과 새로운 데이터의 실제 결과값(label)을 비교해서 ML 모델의 성능을 평가"
      ],
      "metadata": {
        "id": "EDMkHML87no3"
      }
    },
    {
      "cell_type": "code",
      "source": [
        "# 데이터 세트를 분리하지 않은 경우\n",
        "from sklearn.datasets import load_iris\n",
        "from sklearn.tree import DecisionTreeClassifier\n",
        "from sklearn.metrics import accuracy_score"
      ],
      "metadata": {
        "id": "wfmysaRA7dk5"
      },
      "execution_count": null,
      "outputs": []
    },
    {
      "cell_type": "code",
      "source": [
        "iris = load_iris()\n",
        "\n",
        "dt_clf = DecisionTreeClassifier()\n",
        "\n",
        "# 학습데이터와 테스트데이터를 분리하지 않음\n",
        "train_feature = iris.data\n",
        "test_label = iris.target\n",
        "\n",
        "dt_clf.fit(train_feature, test_label)\n",
        "\n",
        "pred = dt_clf.predict(train_feature)\n",
        "\n",
        "print('모델의 예측 정확도 : ,', accuracy_score(test_label, pred))"
      ],
      "metadata": {
        "id": "V9SGAbuQ7dgX"
      },
      "execution_count": null,
      "outputs": []
    },
    {
      "cell_type": "markdown",
      "source": [
        "## 교차 검증\n",
        "\n",
        "* K-폴드 : 가장 보편적으로 사용하는 교차검증 기법\n",
        "\n",
        "* Stratified K-폴드 : 불균형한 분포도를 가진 레이블 데이터 집합을 위한 K-폴드 방식 (ex. 대출 사기, 금융 사기 데이터 예측)"
      ],
      "metadata": {
        "id": "NGcUY_Mx5DQ4"
      }
    },
    {
      "cell_type": "code",
      "source": [
        "from IPython.display import Image\n",
        "\n",
        "Image('./kfold.png')"
      ],
      "metadata": {
        "id": "FuCHE6YL7dds"
      },
      "execution_count": null,
      "outputs": []
    },
    {
      "cell_type": "code",
      "source": [
        "# K-fold를 이용한 교차 검증 모델\n",
        "from sklearn.datasets import load_iris\n",
        "from sklearn.tree import DecisionTreeClassifier\n",
        "from sklearn.metrics import accuracy_score\n",
        "from sklearn.model_selection import cross_val_score   # 교차검증 수행 객체\n",
        "import numpy as np"
      ],
      "metadata": {
        "id": "FWOOIIV27da2"
      },
      "execution_count": null,
      "outputs": []
    },
    {
      "cell_type": "code",
      "source": [
        "iris = load_iris()\n",
        "\n",
        "dt_clf = DecisionTreeClassifier(random_state=121)\n",
        "\n",
        "# 학습데이터와 테스트데이터를 분리하지 않음\n",
        "train_feature = iris.data\n",
        "test_label = iris.target\n",
        "\n",
        "# 교차검증 세트 3개, 성능 지표는 정확도, default는 Stratified K-폴드\n",
        "scores = cross_val_score(dt_clf, train_feature, test_label, cv=3, scoring='accuracy')\n",
        "\n",
        "print('교차 검증별 정확도 : ', np.round(scores, 4))\n",
        "print('평균 검증 정확도 : ', np.round(np.mean(scores), 4))"
      ],
      "metadata": {
        "id": "B97Hwitc6rDp"
      },
      "execution_count": null,
      "outputs": []
    },
    {
      "cell_type": "code",
      "source": [
        "import numpy as np\n",
        "\n",
        "np.random.seed(0)\n",
        "\n",
        "np.random.randint(1, 10, 10)"
      ],
      "metadata": {
        "id": "dgBPDivLvxDu"
      },
      "execution_count": null,
      "outputs": []
    },
    {
      "cell_type": "code",
      "source": [
        "np.random.randint(1, 10, 10)"
      ],
      "metadata": {
        "id": "mhbFOUkmvxA2"
      },
      "execution_count": null,
      "outputs": []
    },
    {
      "cell_type": "code",
      "source": [],
      "metadata": {
        "id": "b0zSdocr3IMS"
      },
      "execution_count": null,
      "outputs": []
    },
    {
      "cell_type": "code",
      "source": [],
      "metadata": {
        "id": "nXFKBmsx3IJ3"
      },
      "execution_count": null,
      "outputs": []
    },
    {
      "cell_type": "code",
      "source": [],
      "metadata": {
        "id": "RXhOSZtv3IH3"
      },
      "execution_count": null,
      "outputs": []
    }
  ]
}