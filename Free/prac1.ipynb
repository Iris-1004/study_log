{
 "cells": [
  {
   "cell_type": "markdown",
   "id": "e5d13367-7fd5-4b43-bae0-b65039954d89",
   "metadata": {},
   "source": [
    "# Jupyter Tutorial\n",
    "## 1. what is Juipyter Notebook?"
   ]
  },
  {
   "cell_type": "markdown",
   "id": "acafd290-fdef-4a32-ac02-3377731088c2",
   "metadata": {},
   "source": [
    "The Jupyter Notebook is the original web application for creating and sharing computational documents. It offers a simple, streamlined, document-centric experience"
   ]
  },
  {
   "cell_type": "markdown",
   "id": "58328aed-3775-4371-9f68-12a85e58c3ba",
   "metadata": {},
   "source": [
    "## 2. Live Code Example"
   ]
  },
  {
   "cell_type": "code",
   "execution_count": 6,
   "id": "02f0d917-4ab5-445e-bea7-ca908844d30d",
   "metadata": {},
   "outputs": [
    {
     "data": {
      "text/plain": [
       "7"
      ]
     },
     "execution_count": 6,
     "metadata": {},
     "output_type": "execute_result"
    }
   ],
   "source": [
    "3 + 4"
   ]
  },
  {
   "cell_type": "code",
   "execution_count": 13,
   "id": "1af32e01-2e13-4a1d-a39e-e0d444e76ff7",
   "metadata": {},
   "outputs": [],
   "source": [
    "# adding two parameter\n",
    "def add(a,b):\n",
    "    return a + b"
   ]
  },
  {
   "cell_type": "code",
   "execution_count": 14,
   "id": "7cde9489-a671-4c56-9745-f7b387de25b9",
   "metadata": {},
   "outputs": [
    {
     "data": {
      "text/plain": [
       "9"
      ]
     },
     "execution_count": 14,
     "metadata": {},
     "output_type": "execute_result"
    }
   ],
   "source": [
    "add(5,4)"
   ]
  },
  {
   "cell_type": "markdown",
   "id": "397fd28c-344d-43c8-af46-371ebc2c4e94",
   "metadata": {},
   "source": [
    "## 3. Equation"
   ]
  },
  {
   "cell_type": "code",
   "execution_count": 18,
   "id": "376ee4e4-7e34-438c-b832-942628dfb0ab",
   "metadata": {},
   "outputs": [],
   "source": [
    "# sqrt(x^2+y^2+z^2)"
   ]
  },
  {
   "cell_type": "markdown",
   "id": "3270ee61-e197-466a-adae-0ff91cffda37",
   "metadata": {},
   "source": [
    "The expression 호로록"
   ]
  },
  {
   "cell_type": "markdown",
   "id": "eaeff22f-9ef6-4f14-b41e-33f771081394",
   "metadata": {},
   "source": [
    "## 4. visualization"
   ]
  },
  {
   "cell_type": "markdown",
   "id": "6777ccd5-05d0-4132-a7cb-388da9ab3d46",
   "metadata": {},
   "source": [
    "### 4.1 image"
   ]
  },
  {
   "cell_type": "markdown",
   "id": "6521b22a-87de-4393-a6e9-6d96643ac496",
   "metadata": {},
   "source": [
    "### 4.2 video"
   ]
  },
  {
   "cell_type": "markdown",
   "id": "e5b64592-3a40-40b4-949e-0440517b2b9c",
   "metadata": {},
   "source": [
    "### 4.3 table"
   ]
  },
  {
   "cell_type": "markdown",
   "id": "0dc2529f-20b4-4c0f-a98a-e1c546271102",
   "metadata": {},
   "source": [
    "### 4.4 chart"
   ]
  },
  {
   "cell_type": "code",
   "execution_count": 21,
   "id": "f429a5cb-aa71-421a-b034-72b61cca637a",
   "metadata": {},
   "outputs": [
    {
     "data": {
      "image/png": "[encoded data removed]",
      "text/plain": [
       "<Figure size 640x480 with 1 Axes>"
      ]
     },
     "metadata": {},
     "output_type": "display_data"
    }
   ],
   "source": [
    "import matplotlib.pyplot as plt\n",
    "plt.plot([3,2,3,2,4])\n",
    "plt.ylabel('result')\n",
    "plt.show()"
   ]
  },
  {
   "cell_type": "markdown",
   "id": "367b05d1-4908-43e7-a4e7-15dcd781428d",
   "metadata": {},
   "source": [
    "## 5. Performance check"
   ]
  },
  {
   "cell_type": "code",
   "execution_count": 22,
   "id": "cf4d5615-f57e-45a8-bedf-d570c9074b2d",
   "metadata": {},
   "outputs": [
    {
     "name": "stdout",
     "output_type": "stream",
     "text": [
      "16.7 ns ± 5.1 ns per loop (mean ± std. dev. of 7 runs, 10,000,000 loops each)\n"
     ]
    }
   ],
   "source": [
    "%timeit 3+4"
   ]
  },
  {
   "cell_type": "code",
   "execution_count": 24,
   "id": "51256e86-875b-4df7-a3a7-ebe299ae8ca7",
   "metadata": {},
   "outputs": [
    {
     "name": "stdout",
     "output_type": "stream",
     "text": [
      "148 ns ± 18.8 ns per loop (mean ± std. dev. of 7 runs, 10,000,000 loops each)\n"
     ]
    }
   ],
   "source": [
    "%timeit add(3,4)"
   ]
  },
  {
   "cell_type": "code",
   "execution_count": 27,
   "id": "d268b519-19c6-40a8-a314-d124cf501b4b",
   "metadata": {},
   "outputs": [
    {
     "name": "stdout",
     "output_type": "stream",
     "text": [
      "540 ns ± 112 ns per loop (mean ± std. dev. of 7 runs, 1,000,000 loops each)\n"
     ]
    }
   ],
   "source": [
    "%%timeit \n",
    "a = [1,2,3]\n",
    "a = [x+1 for x in a]"
   ]
  },
  {
   "cell_type": "code",
   "execution_count": 28,
   "id": "119757e0-edfb-4472-9ad0-d422255da0ba",
   "metadata": {},
   "outputs": [
    {
     "name": "stdout",
     "output_type": "stream",
     "text": [
      "846 ns ± 184 ns per loop (mean ± std. dev. of 7 runs, 1,000,000 loops each)\n"
     ]
    }
   ],
   "source": [
    "%%timeit\n",
    "b = [1,2,3]\n",
    "for i in range(len(b)):\n",
    "    b[i] = b[i] + 1"
   ]
  },
  {
   "cell_type": "code",
   "execution_count": 2,
   "id": "d0c293a2-f442-459c-b7b4-98224988802d",
   "metadata": {},
   "outputs": [
    {
     "name": "stdout",
     "output_type": "stream",
     "text": [
      "Requirement already satisfied: jupyterthemes in c:\\users\\user\\anaconda3\\envs\\ju_env\\lib\\site-packages (0.20.0)\n",
      "Requirement already satisfied: jupyter-core in c:\\users\\user\\anaconda3\\envs\\ju_env\\lib\\site-packages (from jupyterthemes) (5.7.2)\n",
      "Requirement already satisfied: notebook>=5.6.0 in c:\\users\\user\\anaconda3\\envs\\ju_env\\lib\\site-packages (from jupyterthemes) (7.3.2)\n",
      "Requirement already satisfied: ipython>=5.4.1 in c:\\users\\user\\anaconda3\\envs\\ju_env\\lib\\site-packages (from jupyterthemes) (8.15.0)\n",
      "Requirement already satisfied: matplotlib>=1.4.3 in c:\\users\\user\\anaconda3\\envs\\ju_env\\lib\\site-packages (from jupyterthemes) (3.9.2)\n",
      "Requirement already satisfied: lesscpy>=0.11.2 in c:\\users\\user\\anaconda3\\envs\\ju_env\\lib\\site-packages (from jupyterthemes) (0.15.1)\n",
      "Requirement already satisfied: backcall in c:\\users\\user\\anaconda3\\envs\\ju_env\\lib\\site-packages (from ipython>=5.4.1->jupyterthemes) (0.2.0)\n",
      "Requirement already satisfied: decorator in c:\\users\\user\\anaconda3\\envs\\ju_env\\lib\\site-packages (from ipython>=5.4.1->jupyterthemes) (5.1.1)\n",
      "Requirement already satisfied: jedi>=0.16 in c:\\users\\user\\anaconda3\\envs\\ju_env\\lib\\site-packages (from ipython>=5.4.1->jupyterthemes) (0.19.2)\n",
      "Requirement already satisfied: matplotlib-inline in c:\\users\\user\\anaconda3\\envs\\ju_env\\lib\\site-packages (from ipython>=5.4.1->jupyterthemes) (0.1.6)\n",
      "Requirement already satisfied: pickleshare in c:\\users\\user\\anaconda3\\envs\\ju_env\\lib\\site-packages (from ipython>=5.4.1->jupyterthemes) (0.7.5)\n",
      "Requirement already satisfied: prompt-toolkit!=3.0.37,<3.1.0,>=3.0.30 in c:\\users\\user\\anaconda3\\envs\\ju_env\\lib\\site-packages (from ipython>=5.4.1->jupyterthemes) (3.0.43)\n",
      "Requirement already satisfied: pygments>=2.4.0 in c:\\users\\user\\anaconda3\\envs\\ju_env\\lib\\site-packages (from ipython>=5.4.1->jupyterthemes) (2.15.1)\n",
      "Requirement already satisfied: stack-data in c:\\users\\user\\anaconda3\\envs\\ju_env\\lib\\site-packages (from ipython>=5.4.1->jupyterthemes) (0.2.0)\n",
      "Requirement already satisfied: traitlets>=5 in c:\\users\\user\\anaconda3\\envs\\ju_env\\lib\\site-packages (from ipython>=5.4.1->jupyterthemes) (5.14.3)\n",
      "Requirement already satisfied: typing-extensions in c:\\users\\user\\anaconda3\\envs\\ju_env\\lib\\site-packages (from ipython>=5.4.1->jupyterthemes) (4.12.2)\n",
      "Requirement already satisfied: exceptiongroup in c:\\users\\user\\anaconda3\\envs\\ju_env\\lib\\site-packages (from ipython>=5.4.1->jupyterthemes) (1.2.0)\n",
      "Requirement already satisfied: colorama in c:\\users\\user\\anaconda3\\envs\\ju_env\\lib\\site-packages (from ipython>=5.4.1->jupyterthemes) (0.4.6)\n",
      "Requirement already satisfied: ply in c:\\users\\user\\anaconda3\\envs\\ju_env\\lib\\site-packages (from lesscpy>=0.11.2->jupyterthemes) (3.11)\n",
      "Requirement already satisfied: contourpy>=1.0.1 in c:\\users\\user\\anaconda3\\envs\\ju_env\\lib\\site-packages (from matplotlib>=1.4.3->jupyterthemes) (1.2.1)\n",
      "Requirement already satisfied: cycler>=0.10 in c:\\users\\user\\anaconda3\\envs\\ju_env\\lib\\site-packages (from matplotlib>=1.4.3->jupyterthemes) (0.11.0)\n",
      "Requirement already satisfied: fonttools>=4.22.0 in c:\\users\\user\\anaconda3\\envs\\ju_env\\lib\\site-packages (from matplotlib>=1.4.3->jupyterthemes) (4.55.3)\n",
      "Requirement already satisfied: kiwisolver>=1.3.1 in c:\\users\\user\\anaconda3\\envs\\ju_env\\lib\\site-packages (from matplotlib>=1.4.3->jupyterthemes) (1.4.4)\n",
      "Requirement already satisfied: numpy>=1.23 in c:\\users\\user\\anaconda3\\envs\\ju_env\\lib\\site-packages (from matplotlib>=1.4.3->jupyterthemes) (1.26.4)\n",
      "Requirement already satisfied: packaging>=20.0 in c:\\users\\user\\anaconda3\\envs\\ju_env\\lib\\site-packages (from matplotlib>=1.4.3->jupyterthemes) (24.2)\n",
      "Requirement already satisfied: pillow>=8 in c:\\users\\user\\anaconda3\\envs\\ju_env\\lib\\site-packages (from matplotlib>=1.4.3->jupyterthemes) (11.1.0)\n",
      "Requirement already satisfied: pyparsing>=2.3.1 in c:\\users\\user\\anaconda3\\envs\\ju_env\\lib\\site-packages (from matplotlib>=1.4.3->jupyterthemes) (3.2.0)\n",
      "Requirement already satisfied: python-dateutil>=2.7 in c:\\users\\user\\anaconda3\\envs\\ju_env\\lib\\site-packages (from matplotlib>=1.4.3->jupyterthemes) (2.9.0.post0)\n",
      "Requirement already satisfied: importlib-resources>=3.2.0 in c:\\users\\user\\anaconda3\\envs\\ju_env\\lib\\site-packages (from matplotlib>=1.4.3->jupyterthemes) (6.4.0)\n",
      "Requirement already satisfied: jupyter-server<3,>=2.4.0 in c:\\users\\user\\anaconda3\\envs\\ju_env\\lib\\site-packages (from notebook>=5.6.0->jupyterthemes) (2.15.0)\n",
      "Requirement already satisfied: jupyterlab-server<3,>=2.27.1 in c:\\users\\user\\anaconda3\\envs\\ju_env\\lib\\site-packages (from notebook>=5.6.0->jupyterthemes) (2.27.3)\n",
      "Requirement already satisfied: jupyterlab<4.4,>=4.3.4 in c:\\users\\user\\anaconda3\\envs\\ju_env\\lib\\site-packages (from notebook>=5.6.0->jupyterthemes) (4.3.4)\n",
      "Requirement already satisfied: notebook-shim<0.3,>=0.2 in c:\\users\\user\\anaconda3\\envs\\ju_env\\lib\\site-packages (from notebook>=5.6.0->jupyterthemes) (0.2.3)\n",
      "Requirement already satisfied: tornado>=6.2.0 in c:\\users\\user\\anaconda3\\envs\\ju_env\\lib\\site-packages (from notebook>=5.6.0->jupyterthemes) (6.4.2)\n",
      "Requirement already satisfied: platformdirs>=2.5 in c:\\users\\user\\anaconda3\\envs\\ju_env\\lib\\site-packages (from jupyter-core->jupyterthemes) (3.10.0)\n",
      "Requirement already satisfied: pywin32>=300 in c:\\users\\user\\anaconda3\\envs\\ju_env\\lib\\site-packages (from jupyter-core->jupyterthemes) (308)\n",
      "Requirement already satisfied: zipp>=3.1.0 in c:\\users\\user\\anaconda3\\envs\\ju_env\\lib\\site-packages (from importlib-resources>=3.2.0->matplotlib>=1.4.3->jupyterthemes) (3.21.0)\n",
      "Requirement already satisfied: parso<0.9.0,>=0.8.4 in c:\\users\\user\\anaconda3\\envs\\ju_env\\lib\\site-packages (from jedi>=0.16->ipython>=5.4.1->jupyterthemes) (0.8.4)\n",
      "Requirement already satisfied: anyio>=3.1.0 in c:\\users\\user\\anaconda3\\envs\\ju_env\\lib\\site-packages (from jupyter-server<3,>=2.4.0->notebook>=5.6.0->jupyterthemes) (4.6.2)\n",
      "Requirement already satisfied: argon2-cffi>=21.1 in c:\\users\\user\\anaconda3\\envs\\ju_env\\lib\\site-packages (from jupyter-server<3,>=2.4.0->notebook>=5.6.0->jupyterthemes) (21.3.0)\n",
      "Requirement already satisfied: jinja2>=3.0.3 in c:\\users\\user\\anaconda3\\envs\\ju_env\\lib\\site-packages (from jupyter-server<3,>=2.4.0->notebook>=5.6.0->jupyterthemes) (3.1.5)\n",
      "Requirement already satisfied: jupyter-client>=7.4.4 in c:\\users\\user\\anaconda3\\envs\\ju_env\\lib\\site-packages (from jupyter-server<3,>=2.4.0->notebook>=5.6.0->jupyterthemes) (8.6.3)\n",
      "Requirement already satisfied: jupyter-events>=0.11.0 in c:\\users\\user\\anaconda3\\envs\\ju_env\\lib\\site-packages (from jupyter-server<3,>=2.4.0->notebook>=5.6.0->jupyterthemes) (0.12.0)\n",
      "Requirement already satisfied: jupyter-server-terminals>=0.4.4 in c:\\users\\user\\anaconda3\\envs\\ju_env\\lib\\site-packages (from jupyter-server<3,>=2.4.0->notebook>=5.6.0->jupyterthemes) (0.4.4)\n",
      "Requirement already satisfied: nbconvert>=6.4.4 in c:\\users\\user\\anaconda3\\envs\\ju_env\\lib\\site-packages (from jupyter-server<3,>=2.4.0->notebook>=5.6.0->jupyterthemes) (7.16.6)\n",
      "Requirement already satisfied: nbformat>=5.3.0 in c:\\users\\user\\anaconda3\\envs\\ju_env\\lib\\site-packages (from jupyter-server<3,>=2.4.0->notebook>=5.6.0->jupyterthemes) (5.10.4)\n",
      "Requirement already satisfied: overrides>=5.0 in c:\\users\\user\\anaconda3\\envs\\ju_env\\lib\\site-packages (from jupyter-server<3,>=2.4.0->notebook>=5.6.0->jupyterthemes) (7.4.0)\n",
      "Requirement already satisfied: prometheus-client>=0.9 in c:\\users\\user\\anaconda3\\envs\\ju_env\\lib\\site-packages (from jupyter-server<3,>=2.4.0->notebook>=5.6.0->jupyterthemes) (0.21.0)\n",
      "Requirement already satisfied: pywinpty>=2.0.1 in c:\\users\\user\\anaconda3\\envs\\ju_env\\lib\\site-packages (from jupyter-server<3,>=2.4.0->notebook>=5.6.0->jupyterthemes) (2.0.14)\n",
      "Requirement already satisfied: pyzmq>=24 in c:\\users\\user\\anaconda3\\envs\\ju_env\\lib\\site-packages (from jupyter-server<3,>=2.4.0->notebook>=5.6.0->jupyterthemes) (26.2.0)\n",
      "Requirement already satisfied: send2trash>=1.8.2 in c:\\users\\user\\anaconda3\\envs\\ju_env\\lib\\site-packages (from jupyter-server<3,>=2.4.0->notebook>=5.6.0->jupyterthemes) (1.8.2)\n",
      "Requirement already satisfied: terminado>=0.8.3 in c:\\users\\user\\anaconda3\\envs\\ju_env\\lib\\site-packages (from jupyter-server<3,>=2.4.0->notebook>=5.6.0->jupyterthemes) (0.17.1)\n",
      "Requirement already satisfied: websocket-client>=1.7 in c:\\users\\user\\anaconda3\\envs\\ju_env\\lib\\site-packages (from jupyter-server<3,>=2.4.0->notebook>=5.6.0->jupyterthemes) (1.8.0)\n",
      "Requirement already satisfied: async-lru>=1.0.0 in c:\\users\\user\\anaconda3\\envs\\ju_env\\lib\\site-packages (from jupyterlab<4.4,>=4.3.4->notebook>=5.6.0->jupyterthemes) (2.0.4)\n",
      "Requirement already satisfied: httpx>=0.25.0 in c:\\users\\user\\anaconda3\\envs\\ju_env\\lib\\site-packages (from jupyterlab<4.4,>=4.3.4->notebook>=5.6.0->jupyterthemes) (0.27.0)\n",
      "Requirement already satisfied: importlib-metadata>=4.8.3 in c:\\users\\user\\anaconda3\\envs\\ju_env\\lib\\site-packages (from jupyterlab<4.4,>=4.3.4->notebook>=5.6.0->jupyterthemes) (8.5.0)\n",
      "Requirement already satisfied: ipykernel>=6.5.0 in c:\\users\\user\\anaconda3\\envs\\ju_env\\lib\\site-packages (from jupyterlab<4.4,>=4.3.4->notebook>=5.6.0->jupyterthemes) (6.29.5)\n",
      "Requirement already satisfied: jupyter-lsp>=2.0.0 in c:\\users\\user\\anaconda3\\envs\\ju_env\\lib\\site-packages (from jupyterlab<4.4,>=4.3.4->notebook>=5.6.0->jupyterthemes) (2.2.0)\n",
      "Requirement already satisfied: setuptools>=40.8.0 in c:\\users\\user\\anaconda3\\envs\\ju_env\\lib\\site-packages (from jupyterlab<4.4,>=4.3.4->notebook>=5.6.0->jupyterthemes) (75.8.0)\n",
      "Requirement already satisfied: tomli>=1.2.2 in c:\\users\\user\\anaconda3\\envs\\ju_env\\lib\\site-packages (from jupyterlab<4.4,>=4.3.4->notebook>=5.6.0->jupyterthemes) (2.0.1)\n",
      "Requirement already satisfied: babel>=2.10 in c:\\users\\user\\anaconda3\\envs\\ju_env\\lib\\site-packages (from jupyterlab-server<3,>=2.27.1->notebook>=5.6.0->jupyterthemes) (2.16.0)\n",
      "Requirement already satisfied: json5>=0.9.0 in c:\\users\\user\\anaconda3\\envs\\ju_env\\lib\\site-packages (from jupyterlab-server<3,>=2.27.1->notebook>=5.6.0->jupyterthemes) (0.9.25)\n",
      "Requirement already satisfied: jsonschema>=4.18.0 in c:\\users\\user\\anaconda3\\envs\\ju_env\\lib\\site-packages (from jupyterlab-server<3,>=2.27.1->notebook>=5.6.0->jupyterthemes) (4.23.0)\n",
      "Requirement already satisfied: requests>=2.31 in c:\\users\\user\\anaconda3\\envs\\ju_env\\lib\\site-packages (from jupyterlab-server<3,>=2.27.1->notebook>=5.6.0->jupyterthemes) (2.32.3)\n",
      "Requirement already satisfied: wcwidth in c:\\users\\user\\anaconda3\\envs\\ju_env\\lib\\site-packages (from prompt-toolkit!=3.0.37,<3.1.0,>=3.0.30->ipython>=5.4.1->jupyterthemes) (0.2.5)\n",
      "Requirement already satisfied: six>=1.5 in c:\\users\\user\\anaconda3\\envs\\ju_env\\lib\\site-packages (from python-dateutil>=2.7->matplotlib>=1.4.3->jupyterthemes) (1.16.0)\n",
      "Requirement already satisfied: executing in c:\\users\\user\\anaconda3\\envs\\ju_env\\lib\\site-packages (from stack-data->ipython>=5.4.1->jupyterthemes) (0.8.3)\n",
      "Requirement already satisfied: asttokens in c:\\users\\user\\anaconda3\\envs\\ju_env\\lib\\site-packages (from stack-data->ipython>=5.4.1->jupyterthemes) (2.0.5)\n",
      "Requirement already satisfied: pure-eval in c:\\users\\user\\anaconda3\\envs\\ju_env\\lib\\site-packages (from stack-data->ipython>=5.4.1->jupyterthemes) (0.2.2)\n",
      "Requirement already satisfied: idna>=2.8 in c:\\users\\user\\anaconda3\\envs\\ju_env\\lib\\site-packages (from anyio>=3.1.0->jupyter-server<3,>=2.4.0->notebook>=5.6.0->jupyterthemes) (3.7)\n",
      "Requirement already satisfied: sniffio>=1.1 in c:\\users\\user\\anaconda3\\envs\\ju_env\\lib\\site-packages (from anyio>=3.1.0->jupyter-server<3,>=2.4.0->notebook>=5.6.0->jupyterthemes) (1.3.0)\n",
      "Requirement already satisfied: argon2-cffi-bindings in c:\\users\\user\\anaconda3\\envs\\ju_env\\lib\\site-packages (from argon2-cffi>=21.1->jupyter-server<3,>=2.4.0->notebook>=5.6.0->jupyterthemes) (21.2.0)\n",
      "Requirement already satisfied: certifi in c:\\users\\user\\anaconda3\\envs\\ju_env\\lib\\site-packages (from httpx>=0.25.0->jupyterlab<4.4,>=4.3.4->notebook>=5.6.0->jupyterthemes) (2025.1.31)\n",
      "Requirement already satisfied: httpcore==1.* in c:\\users\\user\\anaconda3\\envs\\ju_env\\lib\\site-packages (from httpx>=0.25.0->jupyterlab<4.4,>=4.3.4->notebook>=5.6.0->jupyterthemes) (1.0.2)\n",
      "Requirement already satisfied: h11<0.15,>=0.13 in c:\\users\\user\\anaconda3\\envs\\ju_env\\lib\\site-packages (from httpcore==1.*->httpx>=0.25.0->jupyterlab<4.4,>=4.3.4->notebook>=5.6.0->jupyterthemes) (0.14.0)\n",
      "Requirement already satisfied: comm>=0.1.1 in c:\\users\\user\\anaconda3\\envs\\ju_env\\lib\\site-packages (from ipykernel>=6.5.0->jupyterlab<4.4,>=4.3.4->notebook>=5.6.0->jupyterthemes) (0.2.1)\n",
      "Requirement already satisfied: debugpy>=1.6.5 in c:\\users\\user\\anaconda3\\envs\\ju_env\\lib\\site-packages (from ipykernel>=6.5.0->jupyterlab<4.4,>=4.3.4->notebook>=5.6.0->jupyterthemes) (1.8.11)\n",
      "Requirement already satisfied: nest-asyncio in c:\\users\\user\\anaconda3\\envs\\ju_env\\lib\\site-packages (from ipykernel>=6.5.0->jupyterlab<4.4,>=4.3.4->notebook>=5.6.0->jupyterthemes) (1.6.0)\n",
      "Requirement already satisfied: psutil in c:\\users\\user\\anaconda3\\envs\\ju_env\\lib\\site-packages (from ipykernel>=6.5.0->jupyterlab<4.4,>=4.3.4->notebook>=5.6.0->jupyterthemes) (5.9.0)\n",
      "Requirement already satisfied: MarkupSafe>=2.0 in c:\\users\\user\\anaconda3\\envs\\ju_env\\lib\\site-packages (from jinja2>=3.0.3->jupyter-server<3,>=2.4.0->notebook>=5.6.0->jupyterthemes) (3.0.2)\n",
      "Requirement already satisfied: attrs>=22.2.0 in c:\\users\\user\\anaconda3\\envs\\ju_env\\lib\\site-packages (from jsonschema>=4.18.0->jupyterlab-server<3,>=2.27.1->notebook>=5.6.0->jupyterthemes) (24.3.0)\n",
      "Requirement already satisfied: jsonschema-specifications>=2023.03.6 in c:\\users\\user\\anaconda3\\envs\\ju_env\\lib\\site-packages (from jsonschema>=4.18.0->jupyterlab-server<3,>=2.27.1->notebook>=5.6.0->jupyterthemes) (2023.7.1)\n",
      "Requirement already satisfied: referencing>=0.28.4 in c:\\users\\user\\anaconda3\\envs\\ju_env\\lib\\site-packages (from jsonschema>=4.18.0->jupyterlab-server<3,>=2.27.1->notebook>=5.6.0->jupyterthemes) (0.30.2)\n",
      "Requirement already satisfied: rpds-py>=0.7.1 in c:\\users\\user\\anaconda3\\envs\\ju_env\\lib\\site-packages (from jsonschema>=4.18.0->jupyterlab-server<3,>=2.27.1->notebook>=5.6.0->jupyterthemes) (0.22.3)\n",
      "Requirement already satisfied: python-json-logger>=2.0.4 in c:\\users\\user\\anaconda3\\envs\\ju_env\\lib\\site-packages (from jupyter-events>=0.11.0->jupyter-server<3,>=2.4.0->notebook>=5.6.0->jupyterthemes) (3.2.1)\n",
      "Requirement already satisfied: pyyaml>=5.3 in c:\\users\\user\\anaconda3\\envs\\ju_env\\lib\\site-packages (from jupyter-events>=0.11.0->jupyter-server<3,>=2.4.0->notebook>=5.6.0->jupyterthemes) (6.0.2)\n",
      "Requirement already satisfied: rfc3339-validator in c:\\users\\user\\anaconda3\\envs\\ju_env\\lib\\site-packages (from jupyter-events>=0.11.0->jupyter-server<3,>=2.4.0->notebook>=5.6.0->jupyterthemes) (0.1.4)\n",
      "Requirement already satisfied: rfc3986-validator>=0.1.1 in c:\\users\\user\\anaconda3\\envs\\ju_env\\lib\\site-packages (from jupyter-events>=0.11.0->jupyter-server<3,>=2.4.0->notebook>=5.6.0->jupyterthemes) (0.1.1)\n",
      "Requirement already satisfied: beautifulsoup4 in c:\\users\\user\\anaconda3\\envs\\ju_env\\lib\\site-packages (from nbconvert>=6.4.4->jupyter-server<3,>=2.4.0->notebook>=5.6.0->jupyterthemes) (4.12.3)\n",
      "Requirement already satisfied: bleach!=5.0.0 in c:\\users\\user\\anaconda3\\envs\\ju_env\\lib\\site-packages (from bleach[css]!=5.0.0->nbconvert>=6.4.4->jupyter-server<3,>=2.4.0->notebook>=5.6.0->jupyterthemes) (6.2.0)\n",
      "Requirement already satisfied: defusedxml in c:\\users\\user\\anaconda3\\envs\\ju_env\\lib\\site-packages (from nbconvert>=6.4.4->jupyter-server<3,>=2.4.0->notebook>=5.6.0->jupyterthemes) (0.7.1)\n",
      "Requirement already satisfied: jupyterlab-pygments in c:\\users\\user\\anaconda3\\envs\\ju_env\\lib\\site-packages (from nbconvert>=6.4.4->jupyter-server<3,>=2.4.0->notebook>=5.6.0->jupyterthemes) (0.3.0)\n",
      "Requirement already satisfied: mistune<4,>=2.0.3 in c:\\users\\user\\anaconda3\\envs\\ju_env\\lib\\site-packages (from nbconvert>=6.4.4->jupyter-server<3,>=2.4.0->notebook>=5.6.0->jupyterthemes) (3.1.2)\n",
      "Requirement already satisfied: nbclient>=0.5.0 in c:\\users\\user\\anaconda3\\envs\\ju_env\\lib\\site-packages (from nbconvert>=6.4.4->jupyter-server<3,>=2.4.0->notebook>=5.6.0->jupyterthemes) (0.10.2)\n",
      "Requirement already satisfied: pandocfilters>=1.4.1 in c:\\users\\user\\anaconda3\\envs\\ju_env\\lib\\site-packages (from nbconvert>=6.4.4->jupyter-server<3,>=2.4.0->notebook>=5.6.0->jupyterthemes) (1.5.0)\n",
      "Requirement already satisfied: fastjsonschema>=2.15 in c:\\users\\user\\anaconda3\\envs\\ju_env\\lib\\site-packages (from nbformat>=5.3.0->jupyter-server<3,>=2.4.0->notebook>=5.6.0->jupyterthemes) (2.20.0)\n",
      "Requirement already satisfied: charset-normalizer<4,>=2 in c:\\users\\user\\anaconda3\\envs\\ju_env\\lib\\site-packages (from requests>=2.31->jupyterlab-server<3,>=2.27.1->notebook>=5.6.0->jupyterthemes) (3.3.2)\n",
      "Requirement already satisfied: urllib3<3,>=1.21.1 in c:\\users\\user\\anaconda3\\envs\\ju_env\\lib\\site-packages (from requests>=2.31->jupyterlab-server<3,>=2.27.1->notebook>=5.6.0->jupyterthemes) (2.3.0)\n",
      "Requirement already satisfied: webencodings in c:\\users\\user\\anaconda3\\envs\\ju_env\\lib\\site-packages (from bleach!=5.0.0->bleach[css]!=5.0.0->nbconvert>=6.4.4->jupyter-server<3,>=2.4.0->notebook>=5.6.0->jupyterthemes) (0.5.1)\n",
      "Requirement already satisfied: tinycss2<1.5,>=1.1.0 in c:\\users\\user\\anaconda3\\envs\\ju_env\\lib\\site-packages (from bleach[css]!=5.0.0->nbconvert>=6.4.4->jupyter-server<3,>=2.4.0->notebook>=5.6.0->jupyterthemes) (1.4.0)\n",
      "Requirement already satisfied: fqdn in c:\\users\\user\\anaconda3\\envs\\ju_env\\lib\\site-packages (from jsonschema[format-nongpl]>=4.18.0->jupyter-events>=0.11.0->jupyter-server<3,>=2.4.0->notebook>=5.6.0->jupyterthemes) (1.5.1)\n",
      "Requirement already satisfied: isoduration in c:\\users\\user\\anaconda3\\envs\\ju_env\\lib\\site-packages (from jsonschema[format-nongpl]>=4.18.0->jupyter-events>=0.11.0->jupyter-server<3,>=2.4.0->notebook>=5.6.0->jupyterthemes) (20.11.0)\n",
      "Requirement already satisfied: jsonpointer>1.13 in c:\\users\\user\\anaconda3\\envs\\ju_env\\lib\\site-packages (from jsonschema[format-nongpl]>=4.18.0->jupyter-events>=0.11.0->jupyter-server<3,>=2.4.0->notebook>=5.6.0->jupyterthemes) (3.0.0)\n",
      "Requirement already satisfied: uri-template in c:\\users\\user\\anaconda3\\envs\\ju_env\\lib\\site-packages (from jsonschema[format-nongpl]>=4.18.0->jupyter-events>=0.11.0->jupyter-server<3,>=2.4.0->notebook>=5.6.0->jupyterthemes) (1.3.0)\n",
      "Requirement already satisfied: webcolors>=24.6.0 in c:\\users\\user\\anaconda3\\envs\\ju_env\\lib\\site-packages (from jsonschema[format-nongpl]>=4.18.0->jupyter-events>=0.11.0->jupyter-server<3,>=2.4.0->notebook>=5.6.0->jupyterthemes) (24.11.1)\n",
      "Requirement already satisfied: cffi>=1.0.1 in c:\\users\\user\\anaconda3\\envs\\ju_env\\lib\\site-packages (from argon2-cffi-bindings->argon2-cffi>=21.1->jupyter-server<3,>=2.4.0->notebook>=5.6.0->jupyterthemes) (1.17.1)\n",
      "Requirement already satisfied: soupsieve>1.2 in c:\\users\\user\\anaconda3\\envs\\ju_env\\lib\\site-packages (from beautifulsoup4->nbconvert>=6.4.4->jupyter-server<3,>=2.4.0->notebook>=5.6.0->jupyterthemes) (2.5)\n",
      "Requirement already satisfied: pycparser in c:\\users\\user\\anaconda3\\envs\\ju_env\\lib\\site-packages (from cffi>=1.0.1->argon2-cffi-bindings->argon2-cffi>=21.1->jupyter-server<3,>=2.4.0->notebook>=5.6.0->jupyterthemes) (2.21)\n",
      "Requirement already satisfied: arrow>=0.15.0 in c:\\users\\user\\anaconda3\\envs\\ju_env\\lib\\site-packages (from isoduration->jsonschema[format-nongpl]>=4.18.0->jupyter-events>=0.11.0->jupyter-server<3,>=2.4.0->notebook>=5.6.0->jupyterthemes) (1.3.0)\n",
      "Requirement already satisfied: types-python-dateutil>=2.8.10 in c:\\users\\user\\anaconda3\\envs\\ju_env\\lib\\site-packages (from arrow>=0.15.0->isoduration->jsonschema[format-nongpl]>=4.18.0->jupyter-events>=0.11.0->jupyter-server<3,>=2.4.0->notebook>=5.6.0->jupyterthemes) (2.9.0.20241206)\n"
     ]
    }
   ],
   "source": [
    "!pip install jupyterthemes"
   ]
  },
  {
   "cell_type": "code",
   "execution_count": 6,
   "id": "578a47d1-938e-4bb3-a1a4-eb7c45941f9c",
   "metadata": {},
   "outputs": [
    {
     "name": "stdout",
     "output_type": "stream",
     "text": [
      "Available Themes: \n",
      "   chesterish\n",
      "   grade3\n",
      "   gruvboxd\n",
      "   gruvboxl\n",
      "   monokai\n",
      "   oceans16\n",
      "   onedork\n",
      "   solarizedd\n",
      "   solarizedl\n"
     ]
    }
   ],
   "source": [
    "!jt -l"
   ]
  },
  {
   "cell_type": "code",
   "execution_count": 11,
   "id": "0811a6cd-cce3-4b05-860b-6857ae35970e",
   "metadata": {},
   "outputs": [],
   "source": [
    "!jt"
   ]
  },
  {
   "cell_type": "code",
   "execution_count": null,
   "id": "8e6ca844-5dfe-45f2-a66d-06551f48f83f",
   "metadata": {},
   "outputs": [],
   "source": []
  }
 ],
 "metadata": {
  "kernelspec": {
   "display_name": "Python 3 (ipykernel)",
   "language": "python",
   "name": "python3"
  },
  "language_info": {
   "codemirror_mode": {
    "name": "ipython",
    "version": 3
   },
   "file_extension": ".py",
   "mimetype": "text/x-python",
   "name": "python",
   "nbconvert_exporter": "python",
   "pygments_lexer": "ipython3",
   "version": "3.9.18"
  }
 },
 "nbformat": 4,
 "nbformat_minor": 5
}
