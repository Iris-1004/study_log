{
  "nbformat": 4,
  "nbformat_minor": 0,
  "metadata": {
    "colab": {
      "provenance": []
    },
    "kernelspec": {
      "name": "python3",
      "display_name": "Python 3"
    },
    "language_info": {
      "name": "python"
    }
  },
  "cells": [
    {
      "cell_type": "markdown",
      "source": [
        "# 시각화 기본 패키지 - Matplotlib"
      ],
      "metadata": {
        "id": "aUUBc9gR__1a"
      }
    },
    {
      "cell_type": "code",
      "execution_count": null,
      "metadata": {
        "id": "Jrsr8cj7_2aG"
      },
      "outputs": [],
      "source": [
        "'''\n",
        "# 데이터를 차트(chart) 또는 플롯(plot)으로 시각화하는 기본 패키지\n",
        "# 여러 다양한 시각화 기능을 제공\n",
        "# line plot, scatter plot, bar chart, histogram ..\n",
        "\n",
        "# Matplotlit를 통해서 그려내는 그래프는 Figure 객체, Axes 객체, Axis 객체로 구성\n",
        "# Figure 객체 : 플롯이 그려지는 캔버스\n",
        "# Figure 객체는 한 개 이상의 Axes 객체 (각각의 플롯)를 포함할 수 있다.\n",
        "# 각 Axes 객체는 2개 이상의 Axis (x축, y축) 객체를 포함할 수 있다.\n",
        "\n",
        "# 기본적으로 플롯을 생성하면 하나의 Figure 객체, 하나의 Axes 는 자동으로 생성\n",
        "# 더 필요하면(여러 개의 플롯 객체를 더 배치하고 싶다면) 서브플롯(subplot) 함수를 사용\n",
        " - subplot(행, 열, 위치)\n",
        "'''"
      ]
    },
    {
      "cell_type": "code",
      "source": [
        "import matplotlib as mpl\n",
        "import matplotlib.pyplot as plt\n",
        "import numpy as np"
      ],
      "metadata": {
        "id": "jzrEnIK6_95J"
      },
      "execution_count": null,
      "outputs": []
    },
    {
      "cell_type": "markdown",
      "source": [
        "### **[line plot]**"
      ],
      "metadata": {
        "id": "VoZf2DitIUOa"
      }
    },
    {
      "cell_type": "code",
      "source": [
        "plt.plot([1, 5, 8, 15])\n",
        "plt.grid()\n",
        "plt.show()"
      ],
      "metadata": {
        "id": "lqBvXwfI_92R"
      },
      "execution_count": null,
      "outputs": []
    },
    {
      "cell_type": "code",
      "source": [
        "# x축, y축 모두 데이터 지정하고 line plot 그리기\n",
        "# 스타일 지정 : '색상(color), 마커(marker), 선종류(line style)'\n",
        "\n",
        "x = [100, 200, 300, 400]\n",
        "y = [1, 4, 10, 17]\n",
        "\n",
        "#plt.plot(x, y, 'rs--')\n",
        "plt.plot(x, y, 'm+--')\n",
        "plt.grid()\n",
        "plt.show()"
      ],
      "metadata": {
        "id": "gH1n14gT_9zx"
      },
      "execution_count": null,
      "outputs": []
    },
    {
      "cell_type": "code",
      "source": [
        "'''\n",
        "# np.linspace(start, stop, num, endpoint, retstep, dtype)\n",
        " - start : 시작값\n",
        " - stop : 끝 값 (endpoint가 True인 경우에 끝 값)\n",
        " - num : 생성할 샘플 수, 기본값 50, 음수는 지정할 수 없음\n",
        " - endpoint : 끝나는 지점 여부 (T/F) - default : True\n",
        " - retstep : 샘플간 간격을 설정할 수 있는 step을 반환\n",
        " - dtype : datatype\n",
        "'''"
      ],
      "metadata": {
        "id": "J02V1JiK_9xS"
      },
      "execution_count": null,
      "outputs": []
    },
    {
      "cell_type": "code",
      "source": [
        "np.linspace(2.0, 3.0, num=5)"
      ],
      "metadata": {
        "id": "ucdCVKkm_9u5"
      },
      "execution_count": null,
      "outputs": []
    },
    {
      "cell_type": "code",
      "source": [
        "np.linspace(2.0, 3.0, num=5, endpoint=False)"
      ],
      "metadata": {
        "id": "uHs7BTGH_9sa"
      },
      "execution_count": null,
      "outputs": []
    },
    {
      "cell_type": "code",
      "source": [
        "np.linspace(2.0, 3.0, num=5, endpoint=False, retstep=True)"
      ],
      "metadata": {
        "id": "qN5Jv2ou_9pp"
      },
      "execution_count": null,
      "outputs": []
    },
    {
      "cell_type": "code",
      "source": [
        "# plot\n",
        "N = 8\n",
        "y = np.zeros(N)\n",
        "\n",
        "y"
      ],
      "metadata": {
        "id": "40hz0dng_9nB"
      },
      "execution_count": null,
      "outputs": []
    },
    {
      "cell_type": "code",
      "source": [
        "x1 = np.linspace(0, 10, N, endpoint=True)\n",
        "x2 = np.linspace(0, 10, N, endpoint=False)"
      ],
      "metadata": {
        "id": "H3fu_Xkw_9ka"
      },
      "execution_count": null,
      "outputs": []
    },
    {
      "cell_type": "code",
      "source": [
        "plt.plot(x1, y, 'o')\n",
        "plt.show()"
      ],
      "metadata": {
        "id": "PdZRD_KtNXhi"
      },
      "execution_count": null,
      "outputs": []
    },
    {
      "cell_type": "code",
      "source": [
        "plt.plot(x2, y, 'o')\n",
        "plt.show()"
      ],
      "metadata": {
        "id": "HMTZWXjCNXeL"
      },
      "execution_count": null,
      "outputs": []
    },
    {
      "cell_type": "code",
      "source": [
        "# 위 두 그래프를 한 객체에 그리기\n",
        "plt.plot(x1, y, 'ro')\n",
        "plt.plot(x2, y, 'o')\n",
        "plt.grid()\n",
        "plt.show()"
      ],
      "metadata": {
        "id": "LHUmfAndNXae"
      },
      "execution_count": null,
      "outputs": []
    },
    {
      "cell_type": "code",
      "source": [
        "plt.plot(x1, y, 'ro')\n",
        "plt.plot(x2, y+0.2, 'o')\n",
        "plt.grid()\n",
        "plt.show()"
      ],
      "metadata": {
        "id": "4o8QxrGQNXYC"
      },
      "execution_count": null,
      "outputs": []
    },
    {
      "cell_type": "code",
      "source": [
        "'''\n",
        "# ylim() : y축 범위 지정\n",
        "# xlim() : x축 범위 지정\n",
        "'''"
      ],
      "metadata": {
        "id": "5xd358dINXVj"
      },
      "execution_count": null,
      "outputs": []
    },
    {
      "cell_type": "code",
      "source": [
        "plt.plot(x1, y, 'ro')\n",
        "plt.plot(x2, y+0.2, 'o')\n",
        "plt.ylim([-0.3, 0.5])\n",
        "plt.grid()\n",
        "plt.show()"
      ],
      "metadata": {
        "id": "16skN_1dRs78"
      },
      "execution_count": null,
      "outputs": []
    },
    {
      "cell_type": "code",
      "source": [
        "'''\n",
        "# tick : 플롯이나 차트에서 각 축상의 위치 표시 지점\n",
        "#      : tick에 쓰여진 숫자나 글자를 tick label(틱 라벨)이라고 하고\n",
        "         일반적으로 matplotlib가 자동으로 정해줌\n",
        "\n",
        "# 사용자 정의 tick\n",
        " : xticks(), yticks() 로 수동 지정 가능\n",
        "# 수학기호를 표시하고 싶으면 LaTex 수학 문자식도 지원 ($기호 사이에 지정)\n",
        "\n",
        "'''"
      ],
      "metadata": {
        "id": "G0e5-aDIRs5b"
      },
      "execution_count": null,
      "outputs": []
    },
    {
      "cell_type": "code",
      "source": [
        "X = np.linspace(-np.pi, np.pi, 256)\n",
        "C = np.cos(X)\n",
        "\n",
        "# tick 변경\n",
        "plt.yticks([-1, 0, 1], ['min', '0', 'max'])\n",
        "plt.xticks([-np.pi, -np.pi/2, 0, np.pi/2, np.pi], ['$-\\pi$', '$-\\pi/2$', '$0$', '$+\\pi/2$', '$+\\pi$'])\n",
        "plt.grid()\n",
        "plt.plot(X, C)\n",
        "plt.show()"
      ],
      "metadata": {
        "id": "GLnGw8KORs3M"
      },
      "execution_count": null,
      "outputs": []
    },
    {
      "cell_type": "markdown",
      "source": [
        "### **[bar chart]**\n",
        "\n",
        "* 막대 높이의 상대적 길이 차이를 통해 값의 크고 작음을 설명"
      ],
      "metadata": {
        "id": "P71nqgGtZx2c"
      }
    },
    {
      "cell_type": "code",
      "source": [
        "'''\n",
        "# 막대 그래프 - bar(세로 방향), barh(가로방향)\n",
        "# bar(x, y)\n",
        "'''"
      ],
      "metadata": {
        "id": "UxIEUtOxRs0b"
      },
      "execution_count": null,
      "outputs": []
    },
    {
      "cell_type": "code",
      "source": [
        "x = np.arange(3)\n",
        "y = [2, 3, 1]\n",
        "xlabel = ['2020', '2021', '2022']\n",
        "\n",
        "plt.bar(x, y)\n",
        "plt.xticks(x, xlabel)\n",
        "plt.grid()\n",
        "plt.show()"
      ],
      "metadata": {
        "id": "Mc_OMcu3XXC8"
      },
      "execution_count": null,
      "outputs": []
    },
    {
      "cell_type": "code",
      "source": [
        "# 막대 그래프 - 가로방향\n",
        "np.random.seed(0)\n",
        "\n",
        "yLabel = ['2020','2021','2022','2023']\n",
        "yPos = np.arange(4)\n",
        "yValue = 2+10*np.random.rand(4)\n",
        "\n",
        "plt.barh(yPos, yValue, alpha=0.2)    # alpha : 불투명도 (0~1사이의 실수) - 1이 가장 불투명\n",
        "plt.yticks(yPos, yLabel)\n",
        "plt.grid()\n",
        "plt.show()"
      ],
      "metadata": {
        "id": "urxPoR9lXXAc"
      },
      "execution_count": null,
      "outputs": []
    },
    {
      "cell_type": "markdown",
      "source": [
        "### **[histogram]**\n",
        "\n",
        "* 변수가 하나뿐인 단변수 데이터의 빈도수를 (막대)그래프로 표현"
      ],
      "metadata": {
        "id": "k8jPwstkct3H"
      }
    },
    {
      "cell_type": "code",
      "source": [
        "np.random.seed(0)\n",
        "\n",
        "data = np.random.randn(1000)\n",
        "\n",
        "plt.hist(data, bins=10)\n",
        "plt.show()"
      ],
      "metadata": {
        "id": "PBxxG-OhXW4k"
      },
      "execution_count": null,
      "outputs": []
    },
    {
      "cell_type": "markdown",
      "source": [
        "### **[Pie]**"
      ],
      "metadata": {
        "id": "axAoY_WKeINt"
      }
    },
    {
      "cell_type": "code",
      "source": [
        "'''\n",
        "# pie(ratio[비율], explode[간격], labels, colors, autopct[소수점자리수], shadow, startangle[시작각])\n",
        "'''"
      ],
      "metadata": {
        "id": "gcXsPsGneCVl"
      },
      "execution_count": null,
      "outputs": []
    },
    {
      "cell_type": "code",
      "source": [
        "labels = ['2020', '2021', '2022', '2023']\n",
        "\n",
        "ratio = [10, 30, 40, 20]       # 비율 총합 : 100\n",
        "color = ['red', 'skyblue', 'yellowgreen', 'pink']\n",
        "explode = (0, 0.1, 0, 0)\n",
        "\n",
        "plt.pie(ratio, explode=explode, labels=labels, colors=color, shadow=True,\n",
        "        autopct='%1.1f%%', startangle=90)\n",
        "\n",
        "plt.axis('equal')     # 원의 형태 유지\n",
        "plt.show()"
      ],
      "metadata": {
        "id": "u5sE5tZveCSf"
      },
      "execution_count": null,
      "outputs": []
    },
    {
      "cell_type": "markdown",
      "source": [
        "### **[Scatter plot]**\n",
        "\n",
        "* 두 개의 실수 데이터 집합의 상관관계를 살펴볼 때 많이 사용하는 차트"
      ],
      "metadata": {
        "id": "JcSB37B83N9T"
      }
    },
    {
      "cell_type": "code",
      "source": [
        "np.random.seed(0)\n",
        "\n",
        "# np.nandom.normal(평균, 표준편차, 샘플수) - 정규분포\n",
        "x = np.random.normal(0, 0.1, 100)\n",
        "y = np.random.normal(0, 0.1, 100)\n",
        "\n",
        "plt.scatter(x, y)\n",
        "plt.grid()\n",
        "plt.show()"
      ],
      "metadata": {
        "id": "B5Xyk0teeCP-"
      },
      "execution_count": null,
      "outputs": []
    },
    {
      "cell_type": "markdown",
      "source": [
        "### **[Bubble Chart]**\n",
        "\n",
        "* 데이터가 2차원이 아닌 3차원 이상인 경우에도 2차원의 공간에서 표현하고 싶을 때 사용하는 차트\n",
        "\n",
        "* 점 하나의 크기 또는 컬러를 다르게 해서 표현"
      ],
      "metadata": {
        "id": "2TA9BJnY4V9E"
      }
    },
    {
      "cell_type": "code",
      "source": [
        "np.random.seed(0)\n",
        "\n",
        "n = 30\n",
        "\n",
        "x = np.random.randn(n)\n",
        "y = np.random.randn(n)\n",
        "\n",
        "z1 = np.random.randn(n)\n",
        "z2 = np.pi * (15 * np.random.randn(n))**2\n",
        "\n",
        "plt.scatter(x, y, c=z1, s=z2)    # c : color, s : size\n",
        "plt.grid()\n",
        "plt.show()"
      ],
      "metadata": {
        "id": "Qdk5QMxLbgTn"
      },
      "execution_count": null,
      "outputs": []
    },
    {
      "cell_type": "markdown",
      "source": [
        "## **[2개의 y축을 갖는 그래프]**\n",
        "\n",
        "* 북한의 전년대비 발전량 증감율과 수력, 화력 추이"
      ],
      "metadata": {
        "id": "8JfNn3-X6HWW"
      }
    },
    {
      "cell_type": "code",
      "source": [
        "import pandas as pd"
      ],
      "metadata": {
        "id": "Z65CcxBW68o0"
      },
      "execution_count": null,
      "outputs": []
    },
    {
      "cell_type": "code",
      "source": [
        "# 데이터 로딩\n",
        "df = pd.read_excel('./남북한발전전력량.xlsx')\n",
        "\n",
        "df.head(10)"
      ],
      "metadata": {
        "id": "ohJhTbgJbgQ2"
      },
      "execution_count": null,
      "outputs": []
    },
    {
      "cell_type": "code",
      "source": [
        "# 필요한 데이터만 추출\n",
        "df_north = df.iloc[5:8]\n",
        "df_north"
      ],
      "metadata": {
        "id": "5xvsiX7bbgOV"
      },
      "execution_count": null,
      "outputs": []
    },
    {
      "cell_type": "code",
      "source": [
        "df_north = df_north.drop('전력량 (억㎾h)', axis='columns')\n",
        "df_north"
      ],
      "metadata": {
        "id": "2GVZlcmm579V"
      },
      "execution_count": null,
      "outputs": []
    },
    {
      "cell_type": "code",
      "source": [
        "# 발전전력별 컬럼을 행 인덱스로 선언\n",
        "df_north = df_north.set_index('발전 전력별')\n",
        "df_north"
      ],
      "metadata": {
        "id": "wF542m9C577T"
      },
      "execution_count": null,
      "outputs": []
    },
    {
      "cell_type": "code",
      "source": [
        "df_north.info()"
      ],
      "metadata": {
        "id": "P0SlXw-s5748"
      },
      "execution_count": null,
      "outputs": []
    },
    {
      "cell_type": "code",
      "source": [
        "df_north = df_north.astype('float')\n",
        "df_north.info()"
      ],
      "metadata": {
        "id": "CPCvr_jq572l"
      },
      "execution_count": null,
      "outputs": []
    },
    {
      "cell_type": "code",
      "source": [
        "df_north"
      ],
      "metadata": {
        "id": "cPG8qjcp570M"
      },
      "execution_count": null,
      "outputs": []
    },
    {
      "cell_type": "code",
      "source": [
        "# 합계 -> 총발전량 수정\n",
        "df_north = df_north.rename({'합계' : '총발전량'})\n",
        "df_north"
      ],
      "metadata": {
        "id": "RsCHgDYs57x7"
      },
      "execution_count": null,
      "outputs": []
    },
    {
      "cell_type": "code",
      "source": [
        "# 전치\n",
        "df_north = df_north.T\n",
        "df_north.head()"
      ],
      "metadata": {
        "id": "2k_ZLWjs57vU"
      },
      "execution_count": null,
      "outputs": []
    },
    {
      "cell_type": "code",
      "source": [
        "# 전년대비 증감율(변동율) 계산\n",
        "df_north['전년도총발전량'] = df_north.총발전량.shift(1)\n",
        "\n",
        "df_north['증감율'] = ((df_north['총발전량'] / df_north['전년도총발전량'])-1) * 100\n",
        "\n",
        "df_north.head()"
      ],
      "metadata": {
        "id": "4Y__qYD2-UVH"
      },
      "execution_count": null,
      "outputs": []
    },
    {
      "cell_type": "code",
      "source": [
        "# [참고] 사용 가능한 스타일 서식\n",
        "plt.style.available"
      ],
      "metadata": {
        "id": "bySfKnEu-USU"
      },
      "execution_count": null,
      "outputs": []
    },
    {
      "cell_type": "code",
      "source": [
        "!pip install koreanize-matplotlib"
      ],
      "metadata": {
        "id": "oFLENejCFG3O"
      },
      "execution_count": null,
      "outputs": []
    },
    {
      "cell_type": "code",
      "source": [
        "import koreanize_matplotlib"
      ],
      "metadata": {
        "id": "TDr5LGpMFr2H"
      },
      "execution_count": null,
      "outputs": []
    },
    {
      "cell_type": "code",
      "source": [
        "# 스타일 서식 지정\n",
        "plt.style.use('ggplot')\n",
        "\n",
        "# 2개의 y축을 갖는 그래프 그리기\n",
        "ax1 = df_north[['수력', '화력']].plot(kind='bar', figsize=(18, 10), width=0.7, stacked=True)\n",
        "ax2 = ax1.twinx()\n",
        "\n",
        "ax2.plot(df_north.index, df_north.증감율, ls='--', marker='o', markersize='15', color='olive',\n",
        "         label='전년대비 증감율(%)')\n",
        "\n",
        "ax1.set_ylim(0, 500)\n",
        "ax2.set_ylim(-70, 50)\n",
        "\n",
        "ax1.set_xlabel('기간(연도)', size=15)\n",
        "ax1.set_ylabel('발전량(억kWh)')\n",
        "ax2.set_ylabel('전년 대비 증감율(%)')\n",
        "\n",
        "plt.title('북한 전력 발전량(1990~2016)', size=18)\n",
        "\n",
        "plt.show()"
      ],
      "metadata": {
        "id": "vvOO1BSS-UPt"
      },
      "execution_count": null,
      "outputs": []
    },
    {
      "cell_type": "code",
      "source": [],
      "metadata": {
        "id": "Rgl6GMuxDu-q"
      },
      "execution_count": null,
      "outputs": []
    },
    {
      "cell_type": "code",
      "source": [],
      "metadata": {
        "id": "wwcrdewzDu8P"
      },
      "execution_count": null,
      "outputs": []
    },
    {
      "cell_type": "code",
      "source": [],
      "metadata": {
        "id": "-kpj9l6WDu5x"
      },
      "execution_count": null,
      "outputs": []
    }
  ]
}