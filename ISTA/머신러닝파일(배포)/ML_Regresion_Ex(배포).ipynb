{
  "nbformat": 4,
  "nbformat_minor": 0,
  "metadata": {
    "colab": {
      "provenance": []
    },
    "kernelspec": {
      "name": "python3",
      "display_name": "Python 3"
    },
    "language_info": {
      "name": "python"
    }
  },
  "cells": [
    {
      "cell_type": "markdown",
      "source": [
        "# 회귀\n",
        "\n",
        "* 가격, 매출, 주가, 환율, 수량 등 연속적인 값을 갖는 연속변수를 예측하고자 할 때 주로 사용\n",
        "\n",
        "  * 모델이 예측하고자 하는 목표 : 종속변수 또는 예측 변수\n",
        "\n",
        "  * 예측을 위해 모델이 사용하는 속성 : 독립변수 또는 설명 변수"
      ],
      "metadata": {
        "id": "Q2-FDB-yKHXY"
      }
    },
    {
      "cell_type": "code",
      "source": [
        "import numpy as np\n",
        "import pandas as pd\n",
        "import matplotlib.pyplot as plt\n",
        "import seaborn as sns"
      ],
      "metadata": {
        "id": "arPfysC9LBkn"
      },
      "execution_count": null,
      "outputs": []
    },
    {
      "cell_type": "markdown",
      "source": [
        "## 단순 회귀"
      ],
      "metadata": {
        "id": "rJ1AipqKK58x"
      }
    },
    {
      "cell_type": "code",
      "source": [
        "# 데이터 로딩\n",
        "df = pd.read_csv('./auto-mpg.csv', header=None)\n",
        "df.head()"
      ],
      "metadata": {
        "id": "r3ICs8MgKf63"
      },
      "execution_count": null,
      "outputs": []
    },
    {
      "cell_type": "code",
      "source": [
        "df.columns = ['mpg', 'cylinders', 'displacement', 'horsepower', 'weight',\n",
        "              'acceleration', 'model year', 'origin', 'car name']\n",
        "\n",
        "df.head()"
      ],
      "metadata": {
        "id": "f09dvOLWKf2Q"
      },
      "execution_count": null,
      "outputs": []
    },
    {
      "cell_type": "code",
      "source": [
        "df.to_csv('auto-mpg-header.csv')"
      ],
      "metadata": {
        "id": "9HA7oJukMrkg"
      },
      "execution_count": null,
      "outputs": []
    },
    {
      "cell_type": "code",
      "source": [
        "# 데이터 탐색\n",
        "df.info()"
      ],
      "metadata": {
        "id": "rr1hL2pvKfzw"
      },
      "execution_count": null,
      "outputs": []
    },
    {
      "cell_type": "code",
      "source": [
        "# horsepower column : object to float\n",
        "df.horsepower.unique()"
      ],
      "metadata": {
        "id": "F0jNK5Z8K3cT"
      },
      "execution_count": null,
      "outputs": []
    },
    {
      "cell_type": "code",
      "source": [
        "df.horsepower.replace('?', np.nan, inplace=True)\n",
        "df.dropna(subset=['horsepower'], axis=0, inplace=True)\n",
        "df.horsepower = df.horsepower.astype('float')\n",
        "\n",
        "df.info()"
      ],
      "metadata": {
        "id": "qa3u6qzlK3aI"
      },
      "execution_count": null,
      "outputs": []
    },
    {
      "cell_type": "code",
      "source": [
        "# 연비에 영향이 있을만 하다고 생각되는 컬럼을 추출\n",
        "ndf = df[['mpg', 'cylinders', 'displacement', 'horsepower', 'weight', 'acceleration']]\n",
        "ndf.head()"
      ],
      "metadata": {
        "id": "02DDQn1-K3X4"
      },
      "execution_count": null,
      "outputs": []
    },
    {
      "cell_type": "code",
      "source": [
        "# 변수 간 경우의 수 (상관관계)\n",
        "sns.pairplot(ndf)\n",
        "plt.show()\n",
        "plt.close()"
      ],
      "metadata": {
        "id": "TIoPnymgK3Vo"
      },
      "execution_count": null,
      "outputs": []
    },
    {
      "cell_type": "code",
      "source": [
        "# mpg, weight 간의 산점도 그리기\n",
        "fig = plt.figure(figsize=(14, 5))\n",
        "ax1 = fig.add_subplot(1, 2, 1)\n",
        "ax2 = fig.add_subplot(1, 2, 2)\n",
        "sns.regplot(x='weight', y='mpg', data=ndf, ax=ax1)\n",
        "sns.regplot(x='weight', y='mpg', data=ndf, ax=ax2, fit_reg=False)\n",
        "plt.show()\n",
        "plt.close()"
      ],
      "metadata": {
        "id": "cWAQJTCGNrRn"
      },
      "execution_count": null,
      "outputs": []
    },
    {
      "cell_type": "code",
      "source": [
        "# 회귀 : 모델이 학습하면서 최적의 회귀선(계수) 을 찾아가는 과정"
      ],
      "metadata": {
        "id": "Yko0ab0XNrPZ"
      },
      "execution_count": null,
      "outputs": []
    },
    {
      "cell_type": "code",
      "source": [
        "# 학습 데이터 /테스트 데이터 분리\n",
        "X = ndf[['weight']]\n",
        "y = ndf['mpg']\n",
        "\n",
        "print(X.shape, y.shape)"
      ],
      "metadata": {
        "id": "WzQzMWgGNrM3"
      },
      "execution_count": null,
      "outputs": []
    },
    {
      "cell_type": "code",
      "source": [
        "from sklearn.model_selection import train_test_split\n",
        "\n",
        "X_train, X_test, y_train, y_test = train_test_split(X, y, test_size=0.2, random_state=10)"
      ],
      "metadata": {
        "id": "QPSPvyLOP1yV"
      },
      "execution_count": null,
      "outputs": []
    },
    {
      "cell_type": "code",
      "source": [
        "# 학습 / 예측 / 평가\n",
        "from sklearn.linear_model import LinearRegression\n",
        "\n",
        "lr = LinearRegression()\n",
        "\n",
        "lr.fit(X_train, y_train)\n",
        "\n",
        "r_score = lr.score(X_test, y_test)\n",
        "r_score"
      ],
      "metadata": {
        "id": "HAwlyUsvP1uF"
      },
      "execution_count": null,
      "outputs": []
    },
    {
      "cell_type": "code",
      "source": [
        "# 회귀 계수 (기울기, 절편)\n",
        "print('기울기 : ', lr.coef_, ' , ' , '절편 : ', lr.intercept_)"
      ],
      "metadata": {
        "id": "Bdqgew1HQA61"
      },
      "execution_count": null,
      "outputs": []
    },
    {
      "cell_type": "code",
      "source": [
        "# 평가 - 그래프\n",
        "y_pred = lr.predict(X)\n",
        "\n",
        "plt.figure(figsize=(10, 5))\n",
        "sns.kdeplot(y, label='y', linewidth=2)\n",
        "sns.kdeplot(y_pred, label='y_pred', linewidth=2)\n",
        "plt.legend()\n",
        "plt.show()\n",
        "plt.close()"
      ],
      "metadata": {
        "id": "lMTUrpj1QA4N"
      },
      "execution_count": null,
      "outputs": []
    },
    {
      "cell_type": "markdown",
      "source": [
        "## 다항회귀\n",
        "\n",
        "* 독립변수 X와 종속변수 y 사이를 나타내는 관계가 직선보다 곡선으로 설명하는 것이 더 적합하다고 보일 때\n",
        "\n",
        "* 2차 함수 이상의 함수를 이용해서 두 변수 간의 선형관계를 설명하고자 하는 회귀 방법 ==> 비선형 회귀"
      ],
      "metadata": {
        "id": "kEVVbVTzYOVE"
      }
    },
    {
      "cell_type": "code",
      "source": [
        "# 데이터 로딩\n",
        "df = pd.read_csv('./auto-mpg.csv', header=None)\n",
        "\n",
        "df.columns = ['mpg', 'cylinders', 'displacement', 'horsepower', 'weight',\n",
        "              'acceleration', 'model year', 'origin', 'car name']\n",
        "\n",
        "df.horsepower.replace('?', np.nan, inplace=True)\n",
        "df.dropna(subset=['horsepower'], axis=0, inplace=True)\n",
        "df.horsepower = df.horsepower.astype('float')\n",
        "\n",
        "df.head()"
      ],
      "metadata": {
        "id": "lrNlMytkQA11"
      },
      "execution_count": null,
      "outputs": []
    },
    {
      "cell_type": "code",
      "source": [
        "# 연비에 영향이 있을만 하다고 생각되는 컬럼을 추출\n",
        "ndf = df[['mpg', 'cylinders', 'displacement', 'horsepower', 'weight', 'acceleration']]\n",
        "\n",
        "X = ndf[['weight']]\n",
        "y = ndf['mpg']"
      ],
      "metadata": {
        "id": "XvLkIYAIYOB7"
      },
      "execution_count": null,
      "outputs": []
    },
    {
      "cell_type": "code",
      "source": [
        "from sklearn.linear_model import LinearRegression\n",
        "from sklearn.model_selection import train_test_split\n",
        "from sklearn.preprocessing import PolynomialFeatures\n",
        "\n",
        "X_train, X_test, y_train, y_test = train_test_split(X, y, test_size=0.2, random_state=10)\n",
        "\n",
        "print(X_train)"
      ],
      "metadata": {
        "id": "Yne4d62zYN_k"
      },
      "execution_count": null,
      "outputs": []
    },
    {
      "cell_type": "code",
      "source": [
        "# 다항식 변환\n",
        "poly = PolynomialFeatures(degree=2)\n",
        "# train 데이터를 2차항으로 변환\n",
        "X_train_poly = poly.fit_transform(X_train)"
      ],
      "metadata": {
        "id": "f0p4Fd19YN8n"
      },
      "execution_count": null,
      "outputs": []
    },
    {
      "cell_type": "code",
      "source": [
        "print(X_train_poly)"
      ],
      "metadata": {
        "collapsed": true,
        "id": "SUUSHQ3oYN6F"
      },
      "execution_count": null,
      "outputs": []
    },
    {
      "cell_type": "code",
      "source": [
        "# 학습 / 예측 / 평가\n",
        "pr = LinearRegression()\n",
        "\n",
        "pr.fit(X_train_poly, y_train)"
      ],
      "metadata": {
        "id": "-J35HB4zYN3f"
      },
      "execution_count": null,
      "outputs": []
    },
    {
      "cell_type": "code",
      "source": [
        "# 모델의 결정 계수 추출\n",
        "X_test_poly = poly.fit_transform(X_test)\n",
        "r_score = pr.score(X_test_poly, y_test)\n",
        "r_score"
      ],
      "metadata": {
        "id": "Zs6DmqIVaJOB"
      },
      "execution_count": null,
      "outputs": []
    },
    {
      "cell_type": "code",
      "source": [
        "# 평가 - 그래프\n",
        "X_poly = poly.fit_transform(X)\n",
        "y_pred = pr.predict(X_poly)\n",
        "\n",
        "plt.figure(figsize=(10, 5))\n",
        "sns.kdeplot(y, label='y', linewidth=2)\n",
        "sns.kdeplot(y_pred, label='y_pred', linewidth=2)\n",
        "plt.legend()\n",
        "plt.show()\n",
        "plt.close()"
      ],
      "metadata": {
        "id": "jhfrbWSRaJL7"
      },
      "execution_count": null,
      "outputs": []
    },
    {
      "cell_type": "markdown",
      "source": [
        "### 다중회귀 (다변량 회귀)\n",
        "\n",
        "* 여러 개의 독립변수가 종속변수에 영향을 주고 선형관계를 갖을 경우 사용하는 방법"
      ],
      "metadata": {
        "id": "f8brGTL9KxNS"
      }
    },
    {
      "cell_type": "code",
      "source": [
        "# 데이터 로딩\n",
        "df = pd.read_csv('./auto-mpg.csv', header=None)\n",
        "\n",
        "df.columns = ['mpg', 'cylinders', 'displacement', 'horsepower', 'weight',\n",
        "              'acceleration', 'model year', 'origin', 'car name']\n",
        "\n",
        "df.horsepower.replace('?', np.nan, inplace=True)\n",
        "df.dropna(subset=['horsepower'], axis=0, inplace=True)\n",
        "df.horsepower = df.horsepower.astype('float')\n",
        "\n",
        "df.head()"
      ],
      "metadata": {
        "id": "9fSaat9GaJJi"
      },
      "execution_count": null,
      "outputs": []
    },
    {
      "cell_type": "code",
      "source": [
        "# 연비에 영향이 있을만 하다고 생각되는 컬럼을 추출\n",
        "ndf = df[['mpg', 'displacement', 'horsepower', 'weight', 'acceleration']]\n",
        "\n",
        "X = ndf[['weight']]\n",
        "y = ndf['mpg']"
      ],
      "metadata": {
        "id": "fjKM9iIbKvUN"
      },
      "execution_count": null,
      "outputs": []
    },
    {
      "cell_type": "code",
      "source": [
        "X_train, X_test, y_train, y_test = train_test_split(X, y, test_size=0.2, random_state=10)"
      ],
      "metadata": {
        "id": "L85P-shVKvQy"
      },
      "execution_count": null,
      "outputs": []
    },
    {
      "cell_type": "code",
      "source": [
        "# 학습 / 예측 / 평가\n",
        "lr = LinearRegression()\n",
        "\n",
        "lr.fit(X_train, y_train)\n",
        "\n",
        "r_score = lr.score(X_test, y_test)\n",
        "\n",
        "r_score"
      ],
      "metadata": {
        "id": "_xeM-G8yKvOT"
      },
      "execution_count": null,
      "outputs": []
    },
    {
      "cell_type": "code",
      "source": [
        "# 평가 - 그래프\n",
        "y_pred = lr.predict(X)\n",
        "\n",
        "plt.figure(figsize=(10, 5))\n",
        "sns.kdeplot(y, label='y', linewidth=2)\n",
        "sns.kdeplot(y_pred, label='y_pred', linewidth=2)\n",
        "plt.legend()\n",
        "plt.show()\n",
        "plt.close()"
      ],
      "metadata": {
        "id": "HoxSwu5PaJGz"
      },
      "execution_count": null,
      "outputs": []
    },
    {
      "cell_type": "code",
      "source": [],
      "metadata": {
        "id": "5iAQDY7ULyW6"
      },
      "execution_count": null,
      "outputs": []
    },
    {
      "cell_type": "markdown",
      "source": [
        "## 다항 + 다중 회귀\n",
        "\n",
        "*  **여러 특성(다중 회귀)**을 사용하면서, 각 특성들을 **다항식(2차 이상)**으로 확장하는 회귀 모델"
      ],
      "metadata": {
        "id": "nrvwM5Sv6zho"
      }
    },
    {
      "cell_type": "code",
      "source": [
        "import pandas as pd\n",
        "import numpy as np\n",
        "import matplotlib.pyplot as plt\n",
        "import seaborn as sns\n",
        "\n",
        "from sklearn.model_selection import train_test_split\n",
        "from sklearn.preprocessing import PolynomialFeatures\n",
        "from sklearn.linear_model import LinearRegression\n",
        "from sklearn.metrics import mean_squared_error, mean_absolute_error, r2_score"
      ],
      "metadata": {
        "id": "HibIrAeVLyUC"
      },
      "execution_count": null,
      "outputs": []
    },
    {
      "cell_type": "code",
      "source": [
        "# 1. 데이터 로딩 및 전처리\n",
        "df = pd.read_csv('/content/auto-mpg.csv', header=None)\n",
        "\n",
        "df.columns = ['mpg', 'cylinders', 'displacement', 'horsepower', 'weight',\n",
        "              'acceleration', 'model year', 'origin', 'car name']\n",
        "\n",
        "df['horsepower'].replace('?', np.nan, inplace=True)\n",
        "df.dropna(subset=['horsepower'], inplace=True)\n",
        "df['horsepower'] = df['horsepower'].astype('float')"
      ],
      "metadata": {
        "id": "5iArwK4K6lef"
      },
      "execution_count": null,
      "outputs": []
    },
    {
      "cell_type": "code",
      "source": [
        "# 2. 다중 특성 선택\n",
        "features = ['displacement', 'horsepower', 'weight', 'acceleration']\n",
        "X = df[features]\n",
        "y = df['mpg']"
      ],
      "metadata": {
        "id": "Y0U5tYbn6lb7"
      },
      "execution_count": null,
      "outputs": []
    },
    {
      "cell_type": "code",
      "source": [
        "# 3. 데이터 분할\n",
        "X_train, X_test, y_train, y_test = train_test_split(X, y, test_size=0.2, random_state=10)"
      ],
      "metadata": {
        "id": "YzD8rKhM6lZV"
      },
      "execution_count": null,
      "outputs": []
    },
    {
      "cell_type": "code",
      "source": [
        "# 4. 다항 특성 변환 (degree=2로 예제)\n",
        "poly = PolynomialFeatures(degree=2, include_bias=False)\n",
        "X_train_poly = poly.fit_transform(X_train)\n",
        "X_test_poly = poly.transform(X_test)"
      ],
      "metadata": {
        "id": "86SFSSv-7Br2"
      },
      "execution_count": null,
      "outputs": []
    },
    {
      "cell_type": "code",
      "source": [
        "# 5. 모델 학습\n",
        "model = LinearRegression()\n",
        "model.fit(X_train_poly, y_train)\n",
        "\n",
        "# 6. 예측\n",
        "y_pred = model.predict(X_test_poly)\n",
        "\n",
        "# 7. 평가\n",
        "mse = mean_squared_error(y_test, y_pred)\n",
        "mae = mean_absolute_error(y_test, y_pred)\n",
        "r2 = r2_score(y_test, y_pred)\n",
        "\n",
        "print(\"📊 다항 + 다중 회귀 평가 결과\")\n",
        "print(f\" MSE: {mse:.3f}\")\n",
        "print(f\" MAE: {mae:.3f}\")\n",
        "print(f\" R²: {r2:.3f}\")"
      ],
      "metadata": {
        "id": "1NwcI61Q7Bpd"
      },
      "execution_count": null,
      "outputs": []
    },
    {
      "cell_type": "code",
      "source": [
        "# 8. 예측 vs 실제 시각화\n",
        "plt.figure(figsize=(10, 6))\n",
        "sns.kdeplot(y_test, label='label mpg', linewidth=2)\n",
        "sns.kdeplot(y_pred, label='predcited mpg', linewidth=2, linestyle='--')\n",
        "plt.xlabel('MPG')\n",
        "plt.legend()\n",
        "plt.grid(True)\n",
        "plt.show()\n"
      ],
      "metadata": {
        "id": "Oy6JKTRa7BnO"
      },
      "execution_count": null,
      "outputs": []
    },
    {
      "cell_type": "code",
      "source": [],
      "metadata": {
        "id": "aWEBZkpn7Bkw"
      },
      "execution_count": null,
      "outputs": []
    }
  ]
}