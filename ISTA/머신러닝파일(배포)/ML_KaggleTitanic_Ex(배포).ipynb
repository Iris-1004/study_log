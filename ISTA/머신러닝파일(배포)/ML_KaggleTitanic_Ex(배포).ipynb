{
  "nbformat": 4,
  "nbformat_minor": 0,
  "metadata": {
    "colab": {
      "provenance": []
    },
    "kernelspec": {
      "name": "python3",
      "display_name": "Python 3"
    },
    "language_info": {
      "name": "python"
    }
  },
  "cells": [
    {
      "cell_type": "markdown",
      "source": [
        "# Kaggle 기본 예제\n",
        "\n",
        "* 타이타닉 탑승자 데이터를 기반으로 생존자 예측하는 모델 생성"
      ],
      "metadata": {
        "id": "lQn6kuYRCm4W"
      }
    },
    {
      "cell_type": "code",
      "execution_count": null,
      "metadata": {
        "id": "J-UzaTG8Cays"
      },
      "outputs": [],
      "source": [
        "import numpy as np\n",
        "import pandas as pd\n",
        "import matplotlib.pyplot as plt\n",
        "import seaborn as sns"
      ]
    },
    {
      "cell_type": "markdown",
      "source": [
        "### **[데이터 로딩]**"
      ],
      "metadata": {
        "id": "YGpNHjEeDQJE"
      }
    },
    {
      "cell_type": "code",
      "source": [
        "titanic_df = pd.read_csv('./titanic_train.csv')\n",
        "titanic_df.head()"
      ],
      "metadata": {
        "id": "kBcS2UpkCcf1"
      },
      "execution_count": null,
      "outputs": []
    },
    {
      "cell_type": "markdown",
      "source": [
        "### **[데이터 확인 및 전처리]**"
      ],
      "metadata": {
        "id": "p8FQuoUAD3X1"
      }
    },
    {
      "cell_type": "code",
      "source": [
        "# 기본 요약 정보\n",
        "titanic_df.info()"
      ],
      "metadata": {
        "id": "RDHQ4u5vCcd2"
      },
      "execution_count": null,
      "outputs": []
    },
    {
      "cell_type": "code",
      "source": [
        "titanic_df.Cabin.value_counts()"
      ],
      "metadata": {
        "id": "5r-eCKU4FFH0"
      },
      "execution_count": null,
      "outputs": []
    },
    {
      "cell_type": "code",
      "source": [
        "# 머신러닝 모델은 NULL을 허용하지 않으므로 결측치 처리 수행 - 대체값\n",
        "titanic_df['Age'].fillna(titanic_df['Age'].mean(), inplace=True)\n",
        "titanic_df['Cabin'].fillna('N', inplace=True)\n",
        "titanic_df['Embarked'].fillna('N', inplace=True)\n",
        "\n",
        "print('NULL 갯수 : \\n', titanic_df.isnull().sum())"
      ],
      "metadata": {
        "id": "hfSHIJjjCcbN"
      },
      "execution_count": null,
      "outputs": []
    },
    {
      "cell_type": "code",
      "source": [
        "# Cabin 컬럼의 분포 확인\n",
        "titanic_df.Cabin.value_counts()"
      ],
      "metadata": {
        "id": "LEMxwUnECcY0"
      },
      "execution_count": null,
      "outputs": []
    },
    {
      "cell_type": "code",
      "source": [
        "# Cabin Category를 크게 정리\n",
        "titanic_df['Cabin'] = titanic_df['Cabin'].str[:1]\n",
        "\n",
        "titanic_df.Cabin.value_counts()"
      ],
      "metadata": {
        "id": "5hpwaqOFCcWE"
      },
      "execution_count": null,
      "outputs": []
    },
    {
      "cell_type": "markdown",
      "source": [
        "### **[모델의 예측 수행 전 데이터 탐색]**\n",
        "\n",
        "* 어떤 유형의 승객이 생존확률이 더 높았을지 확인 (가설)\n",
        "\n",
        "\n",
        "    1. 여성 또는 노약자 먼저 구한다.\n",
        "\n",
        "    2. 부자 또는 유명인\n",
        "\n",
        "    3. 삼등실 승객들\n"
      ],
      "metadata": {
        "id": "5jRV8ohrG2v3"
      }
    },
    {
      "cell_type": "code",
      "source": [
        "# 성별에 따른 생존 결과 확인 (0 : 사망, 1 : 생존)\n",
        "titanic_df.groupby(['Sex', 'Survived'])['Survived'].count()"
      ],
      "metadata": {
        "id": "UatPCu42CcTc"
      },
      "execution_count": null,
      "outputs": []
    },
    {
      "cell_type": "code",
      "source": [
        "# 더 명확하게 확인하고 싶으면 시각화를 통해서 체크\n",
        "sns.barplot(x='Sex', y='Survived', data=titanic_df)\n",
        "plt.show()                               # 1 가설 중 여성이 상대적으로 더 많이 생존"
      ],
      "metadata": {
        "id": "J2r1I_ltCcQ1"
      },
      "execution_count": null,
      "outputs": []
    },
    {
      "cell_type": "code",
      "source": [
        "# 부자 또는 유명인의 생존 결과 확인\n",
        "sns.barplot(x='Pclass', y='Survived', data=titanic_df)\n",
        "plt.show()                   # 2, 3 가설 확인"
      ],
      "metadata": {
        "id": "6gBbFOpPGaGz"
      },
      "execution_count": null,
      "outputs": []
    },
    {
      "cell_type": "code",
      "source": [
        "# 부자 또는 유명인의, 그리고 성별에 따른 생존 결과 확인\n",
        "sns.barplot(x='Pclass', y='Survived', data=titanic_df, hue='Sex')\n",
        "plt.show()"
      ],
      "metadata": {
        "id": "rqA1CCXUGaEb"
      },
      "execution_count": null,
      "outputs": []
    },
    {
      "cell_type": "code",
      "source": [
        "# 1) 1 가설 중 노약자에 대한 확인이 필요\n",
        "#   Age 컬럼은 연속된 숫자값 형태 (continous) -> 범위별로 구별되도록 처리\n",
        "def get_category(age):\n",
        "  category = ''\n",
        "  if age <= -1 : category = 'Unknown'\n",
        "  elif age <= 5 : category = 'Baby'\n",
        "  elif age <= 12 : category = 'Child'\n",
        "  elif age <= 18 : category = 'Teenager'\n",
        "  elif age <= 25 : category = 'Student'\n",
        "  elif age <= 35 : category = 'Young Adult'\n",
        "  elif age <= 60 : category = 'Adult'\n",
        "  else : category = 'Elderly'\n",
        "  return category"
      ],
      "metadata": {
        "id": "WGCCVax6GaCM"
      },
      "execution_count": null,
      "outputs": []
    },
    {
      "cell_type": "code",
      "source": [
        "category_names = ['Unknown', 'Baby', 'Child', 'Teenager', 'Student', 'Young Adult', 'Adult', 'Elderly']\n",
        "\n",
        "titanic_df['Age_Category'] = titanic_df['Age'].apply(lambda x : get_category(x))\n",
        "\n",
        "plt.figure(figsize=(12, 5))\n",
        "\n",
        "sns.barplot(x='Age_Category', y='Survived', hue='Sex', data=titanic_df, order=category_names)\n",
        "plt.show()"
      ],
      "metadata": {
        "id": "QeKuFbOpLWEb"
      },
      "execution_count": null,
      "outputs": []
    },
    {
      "cell_type": "code",
      "source": [
        "titanic_df.head()"
      ],
      "metadata": {
        "id": "qZgONvE3GZ_k"
      },
      "execution_count": null,
      "outputs": []
    },
    {
      "cell_type": "code",
      "source": [
        "titanic_df.drop('Age_Category', axis=1, inplace=True)\n",
        "\n",
        "titanic_df.info()"
      ],
      "metadata": {
        "id": "tGTlMrCOLIL0"
      },
      "execution_count": null,
      "outputs": []
    },
    {
      "cell_type": "markdown",
      "source": [
        "### **[레이블 인코딩]**"
      ],
      "metadata": {
        "id": "PcQEkt6eTKPx"
      }
    },
    {
      "cell_type": "code",
      "source": [
        "from sklearn.preprocessing import LabelEncoder\n",
        "\n",
        "def encode_feature(data):\n",
        "  features = ['Sex', 'Embarked']\n",
        "  for feature in features :\n",
        "    encoder = LabelEncoder()\n",
        "    data[feature] = encoder.fit_transform(data[feature])\n",
        "\n",
        "  return data"
      ],
      "metadata": {
        "id": "9HvUeyAzLII7"
      },
      "execution_count": null,
      "outputs": []
    },
    {
      "cell_type": "code",
      "source": [
        "titanic_df = encode_feature(titanic_df)\n",
        "titanic_df.head()"
      ],
      "metadata": {
        "id": "8ZBjZtROLIGL"
      },
      "execution_count": null,
      "outputs": []
    },
    {
      "cell_type": "markdown",
      "source": [
        "### **[머신러닝 전처리 작업을 한 번에 수행할 수 있도록 처리]**"
      ],
      "metadata": {
        "id": "CuWp9xFvUimx"
      }
    },
    {
      "cell_type": "code",
      "source": [
        "# 결측치 처리 함수\n",
        "def fillna_nan(df):\n",
        "  df['Age'].fillna(df['Age'].mean(), inplace=True)\n",
        "  df['Cabin'].fillna('N', inplace=True)\n",
        "  df['Embarked'].fillna('N', inplace=True)\n",
        "  return df\n",
        "\n",
        "# 레이블 인코딩\n",
        "def label_encoding_features(df):\n",
        "  features = ['Sex', 'Embarked']\n",
        "  for feature in features :\n",
        "    encoder = LabelEncoder()\n",
        "    df[feature] = encoder.fit_transform(df[feature])\n",
        "  return df\n",
        "\n",
        "# 모델에게 불필요한 특성(feature) 제거\n",
        "def drop_feature(df):\n",
        "  df.drop(['PassengerId', 'Name', 'Ticket', 'Cabin'], axis=1, inplace=True)\n",
        "  return df\n",
        "\n",
        "# 최종적으로 전처리를 수행할 함수\n",
        "def transform_features(df):\n",
        "  df = fillna_nan(df)\n",
        "  df = drop_feature(df)\n",
        "  df = label_encoding_features(df)\n",
        "  return df\n",
        "\n",
        "# [유의] 최종 전처리 함수 내부에서 수행될 개별 함수의 순서는 신경쓰기"
      ],
      "metadata": {
        "id": "Y1BfM-Z1TJqB"
      },
      "execution_count": null,
      "outputs": []
    },
    {
      "cell_type": "markdown",
      "source": [
        "* 최종 전처리 함수를 이용해서 데이터를 다시 가공"
      ],
      "metadata": {
        "id": "8oyhi0_qWxXw"
      }
    },
    {
      "cell_type": "code",
      "source": [
        "# 데이터 로딩\n",
        "titanic_df = pd.read_csv('./titanic_train.csv')\n",
        "\n",
        "# target (label) 데이터\n",
        "y_titanic = titanic_df['Survived']\n",
        "\n",
        "# feature 데이터\n",
        "X_titanic = titanic_df.drop('Survived', axis=1)\n",
        "\n",
        "# feature 전처리\n",
        "X_titanic_df = transform_features(X_titanic)\n",
        "\n",
        "X_titanic_df.head()"
      ],
      "metadata": {
        "id": "cZHekoQYTJnQ"
      },
      "execution_count": null,
      "outputs": []
    },
    {
      "cell_type": "code",
      "source": [
        "X_titanic_df.info()"
      ],
      "metadata": {
        "id": "mqJjQgjsTJk5"
      },
      "execution_count": null,
      "outputs": []
    },
    {
      "cell_type": "markdown",
      "source": [
        "### **[모델 생성 , 학습, 평가]**"
      ],
      "metadata": {
        "id": "Q6356uZvYefB"
      }
    },
    {
      "cell_type": "code",
      "source": [
        "# 학습 세트, 테스트 세트 분리\n",
        "from sklearn.model_selection import train_test_split\n",
        "\n",
        "X_train, X_test, y_train, y_test = train_test_split(X_titanic_df, y_titanic, test_size=0.2, random_state=11)"
      ],
      "metadata": {
        "id": "drGGB89oUbXA"
      },
      "execution_count": null,
      "outputs": []
    },
    {
      "cell_type": "code",
      "source": [
        "# 예측 시 자주 사용하는 알고리즘 3가지로 각각 예측하고 평가\n",
        "from sklearn.tree import DecisionTreeClassifier\n",
        "from sklearn.ensemble import RandomForestClassifier\n",
        "from sklearn.linear_model import LogisticRegression\n",
        "from sklearn.metrics import accuracy_score\n",
        "\n",
        "# 각각 모델 객체 생성\n",
        "dt_cf = DecisionTreeClassifier(random_state=11)\n",
        "rf_cf = RandomForestClassifier(random_state=11)\n",
        "lr_crf = LogisticRegression(solver='liblinear', random_state=11)"
      ],
      "metadata": {
        "id": "q3_qLTK4UbUY"
      },
      "execution_count": null,
      "outputs": []
    },
    {
      "cell_type": "code",
      "source": [
        "# 각각 모델 학습 및 예측한 결과를 (정확도) 평가\n",
        "dt_cf.fit(X_train, y_train)\n",
        "dt_cf_pred = dt_cf.predict(X_test)\n",
        "print(f'결정트리 모델의 정확도 : {accuracy_score(y_test, dt_cf_pred)}')\n",
        "\n",
        "rf_cf.fit(X_train, y_train)\n",
        "rf_cf_pred = rf_cf.predict(X_test)\n",
        "print(f'랜덤포레스트 모델의 정확도 : {accuracy_score(y_test, rf_cf_pred)}')\n",
        "\n",
        "lr_crf.fit(X_train, y_train)\n",
        "lr_crf_pred = lr_crf.predict(X_test)\n",
        "print(f'로지스틱 회귀 모델의 정확도 : {accuracy_score(y_test, lr_crf_pred)}')\n"
      ],
      "metadata": {
        "id": "Ic8hqmLWUbRx"
      },
      "execution_count": null,
      "outputs": []
    },
    {
      "cell_type": "code",
      "source": [],
      "metadata": {
        "id": "qZdw3W1rZOSQ"
      },
      "execution_count": null,
      "outputs": []
    },
    {
      "cell_type": "code",
      "source": [],
      "metadata": {
        "id": "5sHFV882ZOPr"
      },
      "execution_count": null,
      "outputs": []
    },
    {
      "cell_type": "code",
      "source": [],
      "metadata": {
        "id": "9RkBNvBRZONP"
      },
      "execution_count": null,
      "outputs": []
    },
    {
      "cell_type": "code",
      "source": [],
      "metadata": {
        "id": "srWw_B-2ZOKv"
      },
      "execution_count": null,
      "outputs": []
    }
  ]
}