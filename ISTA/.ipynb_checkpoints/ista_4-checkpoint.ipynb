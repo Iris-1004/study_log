{
 "cells": [
  {
   "cell_type": "code",
   "execution_count": 1,
   "id": "c79c838c-d473-44a7-8dc9-c576a58a8370",
   "metadata": {},
   "outputs": [],
   "source": [
    "import numpy as np\n",
    "import pandas as pd"
   ]
  },
  {
   "cell_type": "code",
   "execution_count": 3,
   "id": "317a7338-f224-4ad8-b63e-f5478c522eb1",
   "metadata": {},
   "outputs": [
    {
     "data": {
      "text/plain": [
       "array([[0, 1],\n",
       "       [4, 7]])"
      ]
     },
     "execution_count": 3,
     "metadata": {},
     "output_type": "execute_result"
    }
   ],
   "source": [
    "# 재배치: resize(원데이터, (행, 열)) -> 원본 배열이 바뀔 수도 있음에 유의, 재배치되면서 사이즈가 커지면 기존의 데이터를 반복, 작아지면 삭제\n",
    "# c.f. 재배치: reshape -> 원본 배열의 사이즈가 변하지 않는다. size가 다르면 에러\n",
    "\n",
    "x = np.array([[0, 1], [4, 7]]); x"
   ]
  },
  {
   "cell_type": "code",
   "execution_count": 12,
   "id": "6300788c-28fd-4cd2-a141-883bad88d001",
   "metadata": {},
   "outputs": [
    {
     "data": {
      "text/plain": [
       "array([[0, 1, 4],\n",
       "       [7, 0, 1]])"
      ]
     },
     "execution_count": 12,
     "metadata": {},
     "output_type": "execute_result"
    }
   ],
   "source": [
    "# 2행 3열로 재배치\n",
    "x1 = np.resize(x, (2, 3)); x1 # 재배치되면서 사이즈가 커지면 기존의 데이터를 반본 0, 1, 4, 7, 0, 1, ..."
   ]
  },
  {
   "cell_type": "code",
   "execution_count": 13,
   "id": "72e353b6-9d78-440f-a8cc-9b216f40a641",
   "metadata": {},
   "outputs": [
    {
     "data": {
      "text/plain": [
       "array([[0, 1, 4, 7],\n",
       "       [0, 1, 4, 7]])"
      ]
     },
     "execution_count": 13,
     "metadata": {},
     "output_type": "execute_result"
    }
   ],
   "source": [
    "# 2행 4열로 재배치\n",
    "x2 = np.resize(x, (2, 4)); x2"
   ]
  },
  {
   "cell_type": "code",
   "execution_count": 17,
   "id": "caff8c56-f960-4d82-a4a5-34bc7aed17bd",
   "metadata": {},
   "outputs": [
    {
     "data": {
      "text/plain": [
       "array([[1, 2, 3],\n",
       "       [4, 5, 6]])"
      ]
     },
     "execution_count": 17,
     "metadata": {},
     "output_type": "execute_result"
    }
   ],
   "source": [
    "x3 = np.array([1,2,3,4,5,6,7,8,9])\n",
    "x3.resize(2,3); x3 # 재배치되면서 사이즈가 작아지면 초과된 값은 잘림"
   ]
  },
  {
   "cell_type": "code",
   "execution_count": 21,
   "id": "fb64abed-730e-4f04-a929-f405d4df4954",
   "metadata": {},
   "outputs": [
    {
     "data": {
      "text/plain": [
       "array([0, 0, 0, 0, 2, 4, 2, 2, 1, 6, 0, 0, 7, 0])"
      ]
     },
     "execution_count": 21,
     "metadata": {},
     "output_type": "execute_result"
    }
   ],
   "source": [
    "# trim_zeros: 0 제거, 앞과 뒤의 0을 지우는 것이 기본\n",
    "x = np.array([0,0,0,0,2,4,2,2,1,6,0,0,7,0]); x"
   ]
  },
  {
   "cell_type": "code",
   "execution_count": 22,
   "id": "33799f12-9e5a-4d41-b3bb-b24a5e7603b5",
   "metadata": {},
   "outputs": [
    {
     "data": {
      "text/plain": [
       "array([2, 4, 2, 2, 1, 6, 0, 0, 7])"
      ]
     },
     "execution_count": 22,
     "metadata": {},
     "output_type": "execute_result"
    }
   ],
   "source": [
    "x1 = np.trim_zeros(x); x1"
   ]
  },
  {
   "cell_type": "code",
   "execution_count": 26,
   "id": "691ce360-2ac4-4c71-a156-7feafe596351",
   "metadata": {},
   "outputs": [
    {
     "data": {
      "text/plain": [
       "array([2, 4, 2, 2, 1, 6, 0, 0, 7, 0])"
      ]
     },
     "execution_count": 26,
     "metadata": {},
     "output_type": "execute_result"
    }
   ],
   "source": [
    "x2 = np.trim_zeros(x, 'f'); x2 # 옵션 'f': front, 'b': back"
   ]
  },
  {
   "cell_type": "code",
   "execution_count": 28,
   "id": "eeaa8379-dc88-4a45-8360-d3de36ee1269",
   "metadata": {},
   "outputs": [
    {
     "data": {
      "text/plain": [
       "array([1, 1, 2, 2, 1, 1, 2, 2, 3, 3, 3, 4, 4, 4, 4, 5, 5, 5, 2, 1])"
      ]
     },
     "execution_count": 28,
     "metadata": {},
     "output_type": "execute_result"
    }
   ],
   "source": [
    "# 대표값: unique()\n",
    "x = np.array([1,1,2,2,1,1,2,2,3,3,3,4,4,4,4,5,5,5,2,1]); x"
   ]
  },
  {
   "cell_type": "code",
   "execution_count": 29,
   "id": "fd73fe8e-12be-4995-b40f-f06a56597d5d",
   "metadata": {},
   "outputs": [
    {
     "data": {
      "text/plain": [
       "array([1, 2, 3, 4, 5])"
      ]
     },
     "execution_count": 29,
     "metadata": {},
     "output_type": "execute_result"
    }
   ],
   "source": [
    "x1 = np.unique(x); x1"
   ]
  },
  {
   "cell_type": "code",
   "execution_count": 31,
   "id": "61620176-4e54-419d-96da-69f016f384c1",
   "metadata": {},
   "outputs": [
    {
     "data": {
      "text/plain": [
       "(array([1, 2, 3, 4, 5]), array([5, 5, 3, 4, 3], dtype=int64))"
      ]
     },
     "execution_count": 31,
     "metadata": {},
     "output_type": "execute_result"
    }
   ],
   "source": [
    "# 데이터 카운팅\n",
    "x2 = np.unique(x, return_counts = True); x2"
   ]
  },
  {
   "cell_type": "code",
   "execution_count": 32,
   "id": "2f9e8ba2-d722-44b0-98c8-aaf73f7a2460",
   "metadata": {},
   "outputs": [
    {
     "name": "stdout",
     "output_type": "stream",
     "text": [
      "[1 2 3 4 5]\n",
      "[5 5 3 4 3]\n"
     ]
    }
   ],
   "source": [
    "data, count = x2\n",
    "\n",
    "print(data)\n",
    "print(count)"
   ]
  },
  {
   "cell_type": "code",
   "execution_count": 33,
   "id": "fd584322-c2bc-42e3-89ef-b1fc0ac0800a",
   "metadata": {},
   "outputs": [
    {
     "data": {
      "text/plain": [
       "array(['a', 'b', 'c', 'b', 'c', 'a', 'd'], dtype='<U1')"
      ]
     },
     "execution_count": 33,
     "metadata": {},
     "output_type": "execute_result"
    }
   ],
   "source": [
    "# unique: 문자도 가능\n",
    "x = np.array(['a','b','c','b','c','a','d']); x"
   ]
  },
  {
   "cell_type": "code",
   "execution_count": 34,
   "id": "28e9cbca-668a-4ea0-89a2-ebd6487e703c",
   "metadata": {},
   "outputs": [
    {
     "data": {
      "text/plain": [
       "(array(['a', 'b', 'c', 'd'], dtype='<U1'), array([2, 2, 2, 1], dtype=int64))"
      ]
     },
     "execution_count": 34,
     "metadata": {},
     "output_type": "execute_result"
    }
   ],
   "source": [
    "x1 = np.unique(x, return_counts = True); x1"
   ]
  },
  {
   "cell_type": "code",
   "execution_count": 35,
   "id": "6b5f2ce6-36eb-4c7c-95ee-5f6fe19d1da7",
   "metadata": {},
   "outputs": [
    {
     "name": "stdout",
     "output_type": "stream",
     "text": [
      "['a' 'b' 'c' 'd']\n",
      "[2 2 2 1]\n"
     ]
    }
   ],
   "source": [
    "data, count = x1\n",
    "\n",
    "print(data)\n",
    "print(count)"
   ]
  },
  {
   "cell_type": "markdown",
   "id": "18e7894e-20bd-4154-a701-ad30ba30db2f",
   "metadata": {},
   "source": [
    "## 선형대수(Linear Algebra)\n",
    "\n",
    "- 벡터, 행렬, 선형변환, 선형방정식 등을 연구하는 대수학 분야\n",
    "- 데이터 분석이나 모델 연산 시 필요한 여러 계산을 도와주는 용도\n",
    "\n",
    "**[데이터 유형]**\n",
    "> 1. 스칼라(scalar): 하나의 숫자로 이루어진 데이터\n",
    "> 2. 벡터(vector): 여러개의 숫자로 이루어진 데이터(data record)\n",
    "> 3. 행렬(matrix): 벡터가 여러 개 있는 데이터 집합"
   ]
  },
  {
   "cell_type": "code",
   "execution_count": 36,
   "id": "cebfb269-5eda-41fc-9fff-d49e439a4a93",
   "metadata": {},
   "outputs": [
    {
     "data": {
      "text/plain": [
       "1"
      ]
     },
     "execution_count": 36,
     "metadata": {},
     "output_type": "execute_result"
    }
   ],
   "source": [
    "x = 1; x"
   ]
  },
  {
   "cell_type": "code",
   "execution_count": 37,
   "id": "12582af0-1270-4173-bfc5-26fa0b313844",
   "metadata": {},
   "outputs": [
    {
     "data": {
      "text/plain": [
       "100"
      ]
     },
     "execution_count": 37,
     "metadata": {},
     "output_type": "execute_result"
    }
   ],
   "source": [
    "# 스칼라\n",
    "x = 100; x"
   ]
  },
  {
   "cell_type": "code",
   "execution_count": 40,
   "id": "87348e7c-cae2-4dd4-b979-3020530f437e",
   "metadata": {},
   "outputs": [
    {
     "data": {
      "text/plain": [
       "array([[2],\n",
       "       [2],\n",
       "       [5]])"
      ]
     },
     "execution_count": 40,
     "metadata": {},
     "output_type": "execute_result"
    }
   ],
   "source": [
    "# 벡터\n",
    "# 선형대수에서는 열의 개수가 하나인 2차원 배열 형태로 표현하는 것을 더 권장\n",
    "x = np.array([[2],[2],[5]]); x # 3 x 1 형태의 벡터"
   ]
  },
  {
   "cell_type": "code",
   "execution_count": null,
   "id": "c903a100-23c3-40b1-b2f5-17ed40806dbd",
   "metadata": {},
   "outputs": [],
   "source": [
    "# rank가 1인 배열 객체도 대부분 벡터로 인정"
   ]
  },
  {
   "cell_type": "code",
   "execution_count": 41,
   "id": "27a18d88-6324-4f86-bb5f-b10b8a6579d0",
   "metadata": {},
   "outputs": [
    {
     "data": {
      "text/plain": [
       "array([[2, 2],\n",
       "       [3, 3],\n",
       "       [4, 4],\n",
       "       [5, 5]])"
      ]
     },
     "execution_count": 41,
     "metadata": {},
     "output_type": "execute_result"
    }
   ],
   "source": [
    "# 행렬: 복수의 데이터 집합\n",
    "x = np.array([[2,2],[3,3],[4,4],[5,5]]); x"
   ]
  },
  {
   "cell_type": "markdown",
   "id": "66c26b78-fcda-4f8d-aa86-747bf8c2e593",
   "metadata": {},
   "source": [
    "### [특수한 벡터와 행렬]\n",
    "영벡터: 모든 원소가 0인 n차원 벡터\n",
    "일벡터: 모든 원소가 1인 n차원 벡터\n",
    "\n",
    "영행렬: 모든 원소가 0인 행렬\n",
    "일행렬: 모든 원소가 1인 행렬\n",
    "\n",
    "정방행렬(정사각행렬, square matrix): 행의 개수, 열의 개수가 같은 행렬\n",
    "\n",
    "대각행렬(diagonal matrix): 주 대각선을 제외한 모든 원소가 0인 행렬\n",
    "                        : 모든 비대각요소(off-diagonal) 가 0인 정방행렬\n",
    "                        : np.diag()\n",
    " - 단위 행렬(identity matrix): 대각 행렬 중에서 모든 대각요소(주요소)가 1인 대각 행렬\n",
    "                            : np.identity(), np.eye()\n",
    "대칭행렬(sysmetric matrix): 전치 연산을 통해 얻는 전치행렬과 원행렬이 같은 행렬 (정방행렬만 가능)\n",
    "\n"
   ]
  },
  {
   "cell_type": "code",
   "execution_count": 42,
   "id": "bf4d946b-9b7f-4361-93b3-56d1238b6df4",
   "metadata": {},
   "outputs": [
    {
     "data": {
      "text/plain": [
       "array([[0., 0., 0., 0.],\n",
       "       [0., 0., 0., 0.],\n",
       "       [0., 0., 0., 0.]])"
      ]
     },
     "execution_count": 42,
     "metadata": {},
     "output_type": "execute_result"
    }
   ],
   "source": [
    "# 영행렬\n",
    "np.zeros((3,4))"
   ]
  },
  {
   "cell_type": "code",
   "execution_count": 43,
   "id": "04338f81-a9f6-4fb5-a169-2c5543bf5a3d",
   "metadata": {},
   "outputs": [
    {
     "data": {
      "text/plain": [
       "array([[1., 1., 1.],\n",
       "       [1., 1., 1.],\n",
       "       [1., 1., 1.]])"
      ]
     },
     "execution_count": 43,
     "metadata": {},
     "output_type": "execute_result"
    }
   ],
   "source": [
    "# 일행렬\n",
    "np.ones((3,3))"
   ]
  },
  {
   "cell_type": "code",
   "execution_count": 45,
   "id": "15cc05ee-1e41-406e-92e6-138d534c4d21",
   "metadata": {},
   "outputs": [
    {
     "data": {
      "text/plain": [
       "array([[100, 100, 100],\n",
       "       [100, 100, 100],\n",
       "       [100, 100, 100]])"
      ]
     },
     "execution_count": 45,
     "metadata": {},
     "output_type": "execute_result"
    }
   ],
   "source": [
    "np.full((3,3), 100) # 3행 3열, 모든 원소가 100으로 행렬 만들기"
   ]
  },
  {
   "cell_type": "code",
   "execution_count": 46,
   "id": "492758cc-a76c-4652-b5e4-7efdcd53903a",
   "metadata": {},
   "outputs": [
    {
     "data": {
      "text/plain": [
       "array([[1, 0, 0],\n",
       "       [0, 2, 0],\n",
       "       [0, 0, 3]])"
      ]
     },
     "execution_count": 46,
     "metadata": {},
     "output_type": "execute_result"
    }
   ],
   "source": [
    "# 대각행렬 -> 주요소의 값은 따로 지정해줘야 함)\n",
    "np.diag([1,2,3])"
   ]
  },
  {
   "cell_type": "code",
   "execution_count": 47,
   "id": "57e0b54f-f51c-4772-b0f0-ec2940ee7fda",
   "metadata": {},
   "outputs": [
    {
     "data": {
      "text/plain": [
       "array([[1., 0., 0.],\n",
       "       [0., 1., 0.],\n",
       "       [0., 0., 1.]])"
      ]
     },
     "execution_count": 47,
     "metadata": {},
     "output_type": "execute_result"
    }
   ],
   "source": [
    "# 대각행렬 - 단위행렬\n",
    "np.eye(3)"
   ]
  },
  {
   "cell_type": "code",
   "execution_count": 49,
   "id": "9d659d93-8e16-4b50-ae24-96ea18d0ace4",
   "metadata": {},
   "outputs": [
    {
     "data": {
      "text/plain": [
       "array([[1., 0., 0.],\n",
       "       [0., 1., 0.],\n",
       "       [0., 0., 1.]])"
      ]
     },
     "execution_count": 49,
     "metadata": {},
     "output_type": "execute_result"
    }
   ],
   "source": [
    "np. identity(3)"
   ]
  },
  {
   "cell_type": "markdown",
   "id": "0e5bd123-c292-484a-8abe-d8c873a0ba50",
   "metadata": {},
   "source": [
    "### **[내적]**\n",
    "- 합성곱: 모델이 데이터를 이해하는 핵심 연산\n",
    "- 신경망 학습에서 입력과 가중치 연산\n",
    "- 결과행렬은 앞 행렬의 행벡터와 뒤 행렬의 열벡터를 내적한 값을 스칼라로 가지는 행렬"
   ]
  },
  {
   "cell_type": "code",
   "execution_count": 53,
   "id": "5b393eb1-9e8f-4d94-8359-bcc5e09a1431",
   "metadata": {},
   "outputs": [
    {
     "data": {
      "text/plain": [
       "array([[1, 2],\n",
       "       [3, 4]])"
      ]
     },
     "execution_count": 53,
     "metadata": {},
     "output_type": "execute_result"
    }
   ],
   "source": [
    "# 행렬\n",
    "x = np.array([[1,2],\n",
    "              [3,4]]); x"
   ]
  },
  {
   "cell_type": "code",
   "execution_count": 54,
   "id": "a5b17ab3-f488-4186-8fd7-f66d013417b4",
   "metadata": {},
   "outputs": [
    {
     "data": {
      "text/plain": [
       "array([ 9, 10])"
      ]
     },
     "execution_count": 54,
     "metadata": {},
     "output_type": "execute_result"
    }
   ],
   "source": [
    "# 벡터\n",
    "v = np.array([9, 10]); v"
   ]
  },
  {
   "cell_type": "code",
   "execution_count": 55,
   "id": "d6a28f0c-e6b6-421f-bbd7-cc3765737120",
   "metadata": {},
   "outputs": [
    {
     "data": {
      "text/plain": [
       "array([39, 58])"
      ]
     },
     "execution_count": 55,
     "metadata": {},
     "output_type": "execute_result"
    }
   ],
   "source": [
    "# 내적\n",
    "np.dot(v, x)"
   ]
  },
  {
   "cell_type": "markdown",
   "id": "aabb7b13-0101-44e7-9295-2affe1a370b2",
   "metadata": {},
   "source": [
    "### **[브로드캐스팅(BroadCasting)]**\n",
    "- 모양(shape)이 다른 배열들 간의 연산이 어떤 조건을 만족했을 때 가능하도록 배열을 자동적으로 변환하는 것\n",
    "- 브로드캐스팅이 일어날 수 있는 조건\n",
    "1. 차원의 크기가 1 즉, 스칼라면 가능\n",
    "2. 차원의 크기가 1이 아니라면 차원의 짝이 맞는 조건이 필요(축의 길이가 같은 경우 등)"
   ]
  },
  {
   "cell_type": "raw",
   "id": "05acddad-82bc-4325-bf2b-10f2a9c67c89",
   "metadata": {},
   "source": [
    "# 배열 연산의 기본 원칙: 같은 위치의 요소끼리 연산\n",
    "'''\n",
    "1 2 + 10 10 = 11 12\n",
    "3 4   10 10   13 14\n",
    "'''"
   ]
  },
  {
   "cell_type": "code",
   "execution_count": 58,
   "id": "b88ffa55-b5bd-4f16-9d79-0bba031d9be9",
   "metadata": {},
   "outputs": [
    {
     "data": {
      "text/plain": [
       "array([[11, 12],\n",
       "       [13, 14]])"
      ]
     },
     "execution_count": 58,
     "metadata": {},
     "output_type": "execute_result"
    }
   ],
   "source": [
    "# 한 쪽이 스칼라인 경우 \n",
    "x = np.array([[1,2],\n",
    "              [3,4]])\n",
    "y = 10\n",
    "x + y"
   ]
  },
  {
   "cell_type": "code",
   "execution_count": 65,
   "id": "44692dec-aaef-48c9-8f61-d93960a55fcb",
   "metadata": {},
   "outputs": [
    {
     "ename": "ValueError",
     "evalue": "operands could not be broadcast together with shapes (4,) (2,) ",
     "output_type": "error",
     "traceback": [
      "\u001b[1;31m---------------------------------------------------------------------------\u001b[0m",
      "\u001b[1;31mValueError\u001b[0m                                Traceback (most recent call last)",
      "Cell \u001b[1;32mIn[65], line 3\u001b[0m\n\u001b[0;32m      1\u001b[0m a \u001b[38;5;241m=\u001b[39m np\u001b[38;5;241m.\u001b[39marray([\u001b[38;5;241m1\u001b[39m,\u001b[38;5;241m2\u001b[39m,\u001b[38;5;241m3\u001b[39m,\u001b[38;5;241m4\u001b[39m])\n\u001b[0;32m      2\u001b[0m b \u001b[38;5;241m=\u001b[39m np\u001b[38;5;241m.\u001b[39marray([\u001b[38;5;241m1\u001b[39m,\u001b[38;5;241m2\u001b[39m])\n\u001b[1;32m----> 3\u001b[0m \u001b[43ma\u001b[49m\u001b[43m \u001b[49m\u001b[38;5;241;43m+\u001b[39;49m\u001b[43m \u001b[49m\u001b[43mb\u001b[49m\n",
      "\u001b[1;31mValueError\u001b[0m: operands could not be broadcast together with shapes (4,) (2,) "
     ]
    }
   ],
   "source": [
    "a = np.array([1,2,3,4])\n",
    "b = np.array([1,2])\n",
    "a + b\n",
    "\n",
    "# 양쪽이 모두 배열인데 size가 달라"
   ]
  },
  {
   "cell_type": "code",
   "execution_count": 66,
   "id": "03e40ade-57b1-44d5-91e5-a2b56212b65d",
   "metadata": {},
   "outputs": [
    {
     "data": {
      "text/plain": [
       "array([5, 6, 7])"
      ]
     },
     "execution_count": 66,
     "metadata": {},
     "output_type": "execute_result"
    }
   ],
   "source": [
    "x = np.arange(3) # [0, 1, 2]\n",
    "y = 5\n",
    "x + y"
   ]
  },
  {
   "cell_type": "code",
   "execution_count": 67,
   "id": "38c67091-d50f-4c26-a3bb-6d3d6d38e10b",
   "metadata": {},
   "outputs": [
    {
     "data": {
      "text/plain": [
       "array([[1., 1., 1.],\n",
       "       [1., 1., 1.],\n",
       "       [1., 1., 1.]])"
      ]
     },
     "execution_count": 67,
     "metadata": {},
     "output_type": "execute_result"
    }
   ],
   "source": [
    "x = np.ones((3,3)); x"
   ]
  },
  {
   "cell_type": "code",
   "execution_count": 74,
   "id": "a20abf43-c417-465c-80af-2fac09b5cb24",
   "metadata": {},
   "outputs": [
    {
     "data": {
      "text/plain": [
       "array([[1., 1., 1.],\n",
       "       [1., 1., 1.],\n",
       "       [1., 1., 1.]])"
      ]
     },
     "execution_count": 74,
     "metadata": {},
     "output_type": "execute_result"
    }
   ],
   "source": [
    "# 양쪽 모두 배열인 경우(브로드캐스팅)\n",
    "x"
   ]
  },
  {
   "cell_type": "code",
   "execution_count": 75,
   "id": "c0f23460-d19a-4b46-8023-0dd58e653ce2",
   "metadata": {},
   "outputs": [
    {
     "data": {
      "text/plain": [
       "array([0, 1, 2])"
      ]
     },
     "execution_count": 75,
     "metadata": {},
     "output_type": "execute_result"
    }
   ],
   "source": [
    "y = np.arange(3); y"
   ]
  },
  {
   "cell_type": "code",
   "execution_count": 77,
   "id": "5ff234e7-2b97-4b30-b79d-a104f5e239fe",
   "metadata": {},
   "outputs": [
    {
     "data": {
      "text/plain": [
       "array([[1., 2., 3.],\n",
       "       [1., 2., 3.],\n",
       "       [1., 2., 3.]])"
      ]
     },
     "execution_count": 77,
     "metadata": {},
     "output_type": "execute_result"
    }
   ],
   "source": [
    "x + y # x와 y의 size가 다른 배열이지만 열의 크기가 동일하기 때문에 브로드캐스팅이 일어나 덧셈 가능"
   ]
  },
  {
   "cell_type": "code",
   "execution_count": 78,
   "id": "8cd91a2c-93ce-48dc-a44a-3704e2c91b77",
   "metadata": {},
   "outputs": [
    {
     "data": {
      "text/plain": [
       "array([[0],\n",
       "       [1],\n",
       "       [2]])"
      ]
     },
     "execution_count": 78,
     "metadata": {},
     "output_type": "execute_result"
    }
   ],
   "source": [
    "x = np.arange(3).reshape(3, 1); x"
   ]
  },
  {
   "cell_type": "code",
   "execution_count": 79,
   "id": "55baa3d9-7053-4099-8bdb-70db902d4c95",
   "metadata": {},
   "outputs": [
    {
     "data": {
      "text/plain": [
       "array([[0, 1, 2],\n",
       "       [1, 2, 3],\n",
       "       [2, 3, 4]])"
      ]
     },
     "execution_count": 79,
     "metadata": {},
     "output_type": "execute_result"
    }
   ],
   "source": [
    "x + y"
   ]
  },
  {
   "cell_type": "code",
   "execution_count": null,
   "id": "31171177-97be-4a1a-a460-00dcd26fcaa2",
   "metadata": {},
   "outputs": [],
   "source": [
    "# pandas는 데이터 조작 및 분석을 위해 python프로그래밍 언어로 작성된 소프트웨어 라이브러리\n",
    "# csv, excel, json 등의 데이터를 읽고 원하는 데이터 형식으로 변환\n",
    "# Series, DataFrame\n",
    "# 데이터 -> 모델\n"
   ]
  }
 ],
 "metadata": {
  "kernelspec": {
   "display_name": "Python 3 (ipykernel)",
   "language": "python",
   "name": "python3"
  },
  "language_info": {
   "codemirror_mode": {
    "name": "ipython",
    "version": 3
   },
   "file_extension": ".py",
   "mimetype": "text/x-python",
   "name": "python",
   "nbconvert_exporter": "python",
   "pygments_lexer": "ipython3",
   "version": "3.9.18"
  }
 },
 "nbformat": 4,
 "nbformat_minor": 5
}
