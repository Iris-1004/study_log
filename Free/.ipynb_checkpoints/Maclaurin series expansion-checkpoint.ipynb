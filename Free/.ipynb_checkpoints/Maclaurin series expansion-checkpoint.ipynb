{
 "cells": [
  {
   "cell_type": "code",
   "execution_count": 1,
   "id": "70a4fce6-fc05-478e-aa12-1cf0d21269c5",
   "metadata": {},
   "outputs": [],
   "source": [
    "import math"
   ]
  },
  {
   "cell_type": "code",
   "execution_count": 4,
   "id": "62c73441-d1e0-4e20-ab4d-10dfc7a8b1bd",
   "metadata": {},
   "outputs": [],
   "source": [
    "def itermeth(x, es = 1e-04):\n",
    "    iter = 1; sol = 1.0; ea = 100; \n",
    "\n",
    "    print(\"iter: {:>15s} | {:>15s} | {:>15s}\".format(\"result\",\"et\",\"ea\"))\n",
    "    while True:\n",
    "        et = abs((math.exp(x) - sol) / math.exp(x)) * 100\n",
    "        print(\"{:>4d}: {:>15.10f} | {:>15.10f} | {:>15.10f}\".format(iter, sol, et, ea))\n",
    "        if ea < es: break # Stopping criterion(멈춤조건보다 작아지면 break)\n",
    "        solold = sol\n",
    "        sol = sol + x ** iter / math.factorial(iter)\n",
    "        ea = abs((sol - solold) / sol) * 100\n",
    "        iter += 1"
   ]
  },
  {
   "cell_type": "code",
   "execution_count": 5,
   "id": "c15b9930-7732-4ae0-85a2-8c93b17ef6c8",
   "metadata": {},
   "outputs": [
    {
     "name": "stdout",
     "output_type": "stream",
     "text": [
      "iter:          result |              et |              ea\n",
      "   1:    1.0000000000 |   39.3469340287 |  100.0000000000\n",
      "   2:    1.5000000000 |    9.0204010431 |   33.3333333333\n",
      "   3:    1.6250000000 |    1.4387677967 |    7.6923076923\n",
      "   4:    1.6458333333 |    0.1751622556 |    1.2658227848\n",
      "   5:    1.6484375000 |    0.0172115630 |    0.1579778831\n",
      "   6:    1.6486979167 |    0.0014164937 |    0.0157952930\n",
      "   7:    1.6487196181 |    0.0001002380 |    0.0013162571\n",
      "   8:    1.6487211682 |    0.0000062197 |    0.0000940183\n"
     ]
    }
   ],
   "source": [
    "itermeth(0.5)"
   ]
  },
  {
   "cell_type": "code",
   "execution_count": 7,
   "id": "e4aa7a52-b2f5-4d1f-b007-afac19ccf95c",
   "metadata": {},
   "outputs": [
    {
     "name": "stdout",
     "output_type": "stream",
     "text": [
      "iter:          result |              et |              ea\n",
      "   1:    1.0000000000 |   39.3469340287 |  100.0000000000\n",
      "   2:    1.5000000000 |    9.0204010431 |   33.3333333333\n",
      "   3:    1.6250000000 |    1.4387677967 |    7.6923076923\n",
      "   4:    1.6458333333 |    0.1751622556 |    1.2658227848\n",
      "   5:    1.6484375000 |    0.0172115630 |    0.1579778831\n",
      "   6:    1.6486979167 |    0.0014164937 |    0.0157952930\n"
     ]
    }
   ],
   "source": [
    "itermeth(0.5, 0.05)"
   ]
  },
  {
   "cell_type": "code",
   "execution_count": null,
   "id": "445cce48-13bb-465c-af20-c25685e6d5c4",
   "metadata": {},
   "outputs": [],
   "source": [
    "import math\n",
    "\n",
    "def itermeth(x, maxit=10, es=1e-04):\n",
    "    iter = 1\n",
    "    sol = 1.0\n",
    "    ea = 100\n",
    "\n",
    "    print(\\\"iter: {:>15} | {:>15} | {:>15}\\\".format(\\\"result\\\", \\\"et\\\", \\\"ea\\\"))\n",
    "    \n",
    "    while True:\n",
    "        et = abs(math.exp(x) - sol) / math.exp(x) * 100\n",
    "        print(\\\"{:>4d}: {:>15.10f} | {:>15.10f}\\\".format(iter, sol, et, ea))\n",
    "        \n",
    "        if ea < es or iter == maxit:\n",
    "            break\n",
    "        \n",
    "        solold = sol\n",
    "        sol = sol + x**iter / math.factorial(iter)\n",
    "        ea = abs((sol - solold) / sol) * 100\n",
    "        \n",
    "        iter += 1\n"
   ]
  }
 ],
 "metadata": {
  "kernelspec": {
   "display_name": "Python 3 (ipykernel)",
   "language": "python",
   "name": "python3"
  },
  "language_info": {
   "codemirror_mode": {
    "name": "ipython",
    "version": 3
   },
   "file_extension": ".py",
   "mimetype": "text/x-python",
   "name": "python",
   "nbconvert_exporter": "python",
   "pygments_lexer": "ipython3",
   "version": "3.9.18"
  }
 },
 "nbformat": 4,
 "nbformat_minor": 5
}
