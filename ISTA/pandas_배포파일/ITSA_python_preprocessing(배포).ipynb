{
  "nbformat": 4,
  "nbformat_minor": 0,
  "metadata": {
    "colab": {
      "provenance": []
    },
    "kernelspec": {
      "name": "python3",
      "display_name": "Python 3"
    },
    "language_info": {
      "name": "python"
    }
  },
  "cells": [
    {
      "cell_type": "code",
      "execution_count": null,
      "metadata": {
        "id": "AGRUWYvX2U88"
      },
      "outputs": [],
      "source": [
        "import seaborn as sns\n",
        "import pandas as pd"
      ]
    },
    {
      "cell_type": "markdown",
      "source": [
        "# 데이터 (사)전처리\n",
        "\n",
        "## 결측치 (누락데이터) / NaN (Not a Number) 처리"
      ],
      "metadata": {
        "id": "eS040yQi23FR"
      }
    },
    {
      "cell_type": "code",
      "source": [
        "# 데이터 로딩\n",
        "df = sns.load_dataset('titanic')\n",
        "\n",
        "df.head()"
      ],
      "metadata": {
        "id": "7BqEz6vG2bQI"
      },
      "execution_count": null,
      "outputs": []
    },
    {
      "cell_type": "code",
      "source": [
        "df.tail()"
      ],
      "metadata": {
        "id": "q4OsmRov2bN5"
      },
      "execution_count": null,
      "outputs": []
    },
    {
      "cell_type": "markdown",
      "source": [
        "**[결측치 확인]**"
      ],
      "metadata": {
        "id": "PqKjGy-L4KUh"
      }
    },
    {
      "cell_type": "code",
      "source": [
        "# info() 로 기본 요약 정보 확인\n",
        "df.info()"
      ],
      "metadata": {
        "id": "tFfcdaUT2bLR"
      },
      "execution_count": null,
      "outputs": []
    },
    {
      "cell_type": "code",
      "source": [
        "# deck 컬럼에 NaN 개수 확인\n",
        "deck_nan = df['deck'].value_counts(dropna=False)\n",
        "\n",
        "deck_nan"
      ],
      "metadata": {
        "id": "3BwfsAKM2bIo"
      },
      "execution_count": null,
      "outputs": []
    },
    {
      "cell_type": "code",
      "source": [
        "# 직접 : isnull() / 간접 : notnull()  ==> T/F로 리턴\n",
        "df.head().isnull()"
      ],
      "metadata": {
        "id": "uX2seBzE2bGI"
      },
      "execution_count": null,
      "outputs": []
    },
    {
      "cell_type": "code",
      "source": [
        "df.tail().notnull()"
      ],
      "metadata": {
        "id": "K7CaZ2S72bDI"
      },
      "execution_count": null,
      "outputs": []
    },
    {
      "cell_type": "code",
      "source": [
        "df.head().isnull().sum(axis=0)"
      ],
      "metadata": {
        "id": "zv9Vv5Bi2bAY"
      },
      "execution_count": null,
      "outputs": []
    },
    {
      "cell_type": "code",
      "source": [
        "df.isnull().sum(axis=0)"
      ],
      "metadata": {
        "id": "JIgNyuGA2a96"
      },
      "execution_count": null,
      "outputs": []
    },
    {
      "cell_type": "markdown",
      "source": [
        "**[결측치 처리]**\n",
        "\n",
        "* 누락데이터 삭제"
      ],
      "metadata": {
        "id": "t3_cyIGH-ajJ"
      }
    },
    {
      "cell_type": "code",
      "source": [
        "df_tresh = df.dropna(axis=1, thresh=500)   # thresh : NaN 최소 기준치\n",
        "df_tresh.columns"
      ],
      "metadata": {
        "id": "O81c80cf6RLB"
      },
      "execution_count": null,
      "outputs": []
    },
    {
      "cell_type": "code",
      "source": [
        "df_tresh.head()"
      ],
      "metadata": {
        "id": "K0TW9KZ96RIh"
      },
      "execution_count": null,
      "outputs": []
    },
    {
      "cell_type": "code",
      "source": [
        "# age 컬럼에 나이 데이터가 없는 행을 삭제\n",
        "df_age = df.dropna(subset=['age'], how='any', axis=0)\n",
        "print(len(df_age))"
      ],
      "metadata": {
        "id": "VxgQODui6RF5"
      },
      "execution_count": null,
      "outputs": []
    },
    {
      "cell_type": "markdown",
      "source": [
        "* 누락데이터 치환(대치)"
      ],
      "metadata": {
        "id": "s5Z3fyLF_-qE"
      }
    },
    {
      "cell_type": "code",
      "source": [
        "df.head(10)"
      ],
      "metadata": {
        "id": "Dy8zkcOD_r6S"
      },
      "execution_count": null,
      "outputs": []
    },
    {
      "cell_type": "code",
      "source": [
        "df.info()"
      ],
      "metadata": {
        "id": "a30Y93Gb_r3q"
      },
      "execution_count": null,
      "outputs": []
    },
    {
      "cell_type": "code",
      "source": [
        "# age 컬럼 확인\n",
        "df.age.head(10)"
      ],
      "metadata": {
        "id": "VXvjyGutAHE6"
      },
      "execution_count": null,
      "outputs": []
    },
    {
      "cell_type": "code",
      "source": [
        "# 평균값으로 대치 : age 컬럼의 NaN값을 나머지 나이데이터의 평균값으로 대치\n",
        "mean_age = df.age.mean(axis=0)\n",
        "\n",
        "df.age = df.age.fillna(mean_age)"
      ],
      "metadata": {
        "id": "OedLhdAhAHCk"
      },
      "execution_count": null,
      "outputs": []
    },
    {
      "cell_type": "code",
      "source": [
        "df.age.head(10)"
      ],
      "metadata": {
        "id": "NAnEmr64AG9j"
      },
      "execution_count": null,
      "outputs": []
    },
    {
      "cell_type": "code",
      "source": [
        "df.age.isnull().sum(axis=0)"
      ],
      "metadata": {
        "id": "de5Enj8ECgvz"
      },
      "execution_count": null,
      "outputs": []
    },
    {
      "cell_type": "code",
      "source": [
        "# 최빈값으로 대치\n",
        "df.embark_town[825:831]"
      ],
      "metadata": {
        "id": "Itu8g7rOCgtT"
      },
      "execution_count": null,
      "outputs": []
    },
    {
      "cell_type": "code",
      "source": [
        "most_freq = df.embark_town.value_counts(dropna=True).idxmax()\n",
        "\n",
        "most_freq"
      ],
      "metadata": {
        "id": "ws-QuiHKCzFL"
      },
      "execution_count": null,
      "outputs": []
    },
    {
      "cell_type": "code",
      "source": [
        "df.embark_town = df.embark_town.fillna(most_freq)"
      ],
      "metadata": {
        "id": "IMqg2pWYCgqz"
      },
      "execution_count": null,
      "outputs": []
    },
    {
      "cell_type": "code",
      "source": [
        "df.embark_town[825:831]"
      ],
      "metadata": {
        "id": "TuRWss_xCy98"
      },
      "execution_count": null,
      "outputs": []
    },
    {
      "cell_type": "code",
      "source": [
        "# 이전값으로 대치\n",
        "df = sns.load_dataset('titanic')\n",
        "df.head()"
      ],
      "metadata": {
        "id": "F02qFaklCy7j"
      },
      "execution_count": null,
      "outputs": []
    },
    {
      "cell_type": "code",
      "source": [
        "df.embark_town[825:831]"
      ],
      "metadata": {
        "id": "9NEq4_MVCy5T"
      },
      "execution_count": null,
      "outputs": []
    },
    {
      "cell_type": "code",
      "source": [
        "# [실습] embark_town 컬럼의 NaN 값을 바로 이전행의 값으로 치환해 보세요"
      ],
      "metadata": {
        "id": "pfX7s9dbCy2r"
      },
      "execution_count": null,
      "outputs": []
    },
    {
      "cell_type": "markdown",
      "source": [
        "## 데이터 표준화\n",
        "\n",
        "* 동일한 대상을 표현하는 방법에 차이가 있으면, 분석의 정확도는 현저히 낮아짐."
      ],
      "metadata": {
        "id": "10EerwLLHzh0"
      }
    },
    {
      "cell_type": "markdown",
      "source": [
        "**[단위 환산]**"
      ],
      "metadata": {
        "id": "WuGxSgsiMXe-"
      }
    },
    {
      "cell_type": "code",
      "source": [
        "df = pd.read_csv('./auto-mpg-header.csv')\n",
        "df.head()"
      ],
      "metadata": {
        "id": "uw5mRZsOFCp1"
      },
      "execution_count": null,
      "outputs": []
    },
    {
      "cell_type": "code",
      "source": [
        "# mpg(mile per gallon) 을 kpl(kilometer per liter)로 변환\n",
        "mpg_to_kpl = 1.60934 / 3.75841\n",
        "\n",
        "# 데이터셋에 kpl 열을 추가\n",
        "df['kpl'] = df.mpg * mpg_to_kpl\n",
        "\n",
        "df.head()"
      ],
      "metadata": {
        "id": "ViUJgMX0FCnM"
      },
      "execution_count": null,
      "outputs": []
    },
    {
      "cell_type": "code",
      "source": [
        "# kpl 열 관측값을 소수점 2자리에 반올림 처리\n",
        "df.kpl = df.kpl.round(2)\n",
        "df.head()"
      ],
      "metadata": {
        "id": "GLATG3CjHzKk"
      },
      "execution_count": null,
      "outputs": []
    },
    {
      "cell_type": "markdown",
      "source": [
        "**[자료형 변환]**"
      ],
      "metadata": {
        "id": "cuI76uXTO5aY"
      }
    },
    {
      "cell_type": "code",
      "source": [
        "df.head()"
      ],
      "metadata": {
        "id": "tnhqmUuIHzHz"
      },
      "execution_count": null,
      "outputs": []
    },
    {
      "cell_type": "code",
      "source": [
        "# 전체 컬럼 자료형 확인\n",
        "df.dtypes"
      ],
      "metadata": {
        "id": "D6IQTCI5HzFM"
      },
      "execution_count": null,
      "outputs": []
    },
    {
      "cell_type": "code",
      "source": [
        "# horsepower 컬럼의 고유값 확인\n",
        "df.horsepower.unique()"
      ],
      "metadata": {
        "id": "IJm4S-qrHzCc"
      },
      "execution_count": null,
      "outputs": []
    },
    {
      "cell_type": "code",
      "source": [
        "import numpy as np\n",
        "\n",
        "df.horsepower = df.horsepower.replace('?', np.nan)\n",
        "\n",
        "df.horsepower.unique()"
      ],
      "metadata": {
        "id": "gN7ratoZPJuq"
      },
      "execution_count": null,
      "outputs": []
    },
    {
      "cell_type": "code",
      "source": [
        "# object 자료형을 float 으로 변환\n",
        "df.horsepower = df.horsepower.astype('float')\n",
        "df.horsepower.dtypes"
      ],
      "metadata": {
        "id": "xpGMPseTROEG"
      },
      "execution_count": null,
      "outputs": []
    },
    {
      "cell_type": "code",
      "source": [
        "# NaN 값을 평균값으로 대치\n",
        "horsepower_mean = df.horsepower.mean(axis=0)\n",
        "\n",
        "df.horsepower = df.horsepower.fillna(horsepower_mean)\n",
        "\n",
        "df.horsepower.unique()"
      ],
      "metadata": {
        "id": "u_j2g3-nPJsO"
      },
      "execution_count": null,
      "outputs": []
    },
    {
      "cell_type": "code",
      "source": [
        "df.info()"
      ],
      "metadata": {
        "id": "UCvCUzmCPJpu"
      },
      "execution_count": null,
      "outputs": []
    },
    {
      "cell_type": "code",
      "source": [
        "df.describe()"
      ],
      "metadata": {
        "id": "Iw_1hQtOPJnA"
      },
      "execution_count": null,
      "outputs": []
    },
    {
      "cell_type": "code",
      "source": [
        "# origin 컬럼 확인\n",
        "df.origin.unique()"
      ],
      "metadata": {
        "id": "LsccOH5GRzPQ"
      },
      "execution_count": null,
      "outputs": []
    },
    {
      "cell_type": "code",
      "source": [
        "# 정수형 데이터를 문자형 데이터로 변환\n",
        "df.origin = df.origin.replace({1 : 'USA', 2 : 'JPN', 3 : 'EU'})\n",
        "df.origin.unique()"
      ],
      "metadata": {
        "id": "rLQ2tdprRzKR"
      },
      "execution_count": null,
      "outputs": []
    },
    {
      "cell_type": "code",
      "source": [
        "df.head()"
      ],
      "metadata": {
        "id": "5-WQG0XxRzH3"
      },
      "execution_count": null,
      "outputs": []
    },
    {
      "cell_type": "code",
      "source": [
        "df.origin.dtypes"
      ],
      "metadata": {
        "id": "EE5sEcgMSTS3"
      },
      "execution_count": null,
      "outputs": []
    },
    {
      "cell_type": "code",
      "source": [
        "# object to 범주형 데이터형 변환\n",
        "df.origin = df.origin.astype('category')\n",
        "\n",
        "df.origin.dtypes"
      ],
      "metadata": {
        "id": "XdWrNOIfSTQJ"
      },
      "execution_count": null,
      "outputs": []
    },
    {
      "cell_type": "code",
      "source": [
        "# 범주형을 문자형으로 다시 변환\n",
        "df.origin = df.origin.astype('str')\n",
        "df.origin.dtypes"
      ],
      "metadata": {
        "id": "GIf0og9iSTNg"
      },
      "execution_count": null,
      "outputs": []
    },
    {
      "cell_type": "code",
      "source": [
        "# model year\n",
        "df['model year'].value_counts()"
      ],
      "metadata": {
        "id": "4lLqSr2sUALy"
      },
      "execution_count": null,
      "outputs": []
    },
    {
      "cell_type": "code",
      "source": [
        "df['year'] = df['model year'].astype('category')\n",
        "\n",
        "df['year']"
      ],
      "metadata": {
        "id": "G1eF8SNuUAI4"
      },
      "execution_count": null,
      "outputs": []
    },
    {
      "cell_type": "code",
      "source": [
        "pd.set_option('display.max_rows', None)\n",
        "\n",
        "df['year']"
      ],
      "metadata": {
        "id": "NsHw_7xfUAGP"
      },
      "execution_count": null,
      "outputs": []
    },
    {
      "cell_type": "code",
      "source": [
        "df['year'].sample(3)"
      ],
      "metadata": {
        "id": "eQX7ifu_WJtn"
      },
      "execution_count": null,
      "outputs": []
    },
    {
      "cell_type": "code",
      "source": [],
      "metadata": {
        "id": "9dq_PT-0WeKP"
      },
      "execution_count": null,
      "outputs": []
    }
  ]
}