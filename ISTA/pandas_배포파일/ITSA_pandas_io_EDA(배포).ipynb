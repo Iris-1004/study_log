{
  "nbformat": 4,
  "nbformat_minor": 0,
  "metadata": {
    "colab": {
      "provenance": []
    },
    "kernelspec": {
      "name": "python3",
      "display_name": "Python 3"
    },
    "language_info": {
      "name": "python"
    }
  },
  "cells": [
    {
      "cell_type": "code",
      "execution_count": null,
      "metadata": {
        "id": "4GvZKN1xC4Np"
      },
      "outputs": [],
      "source": [
        "import pandas as pd\n",
        "from pandas import Series, DataFrame\n",
        "import numpy as np"
      ]
    },
    {
      "cell_type": "markdown",
      "source": [
        "# 데이터 입출력\n",
        "\n",
        "## 외부 파일 읽어오기\n",
        "\n",
        "* 1) 파일의 경로를 찾기\n",
        "\n",
        "* 2) read_확장자() 함수로 데이터 읽어오기"
      ],
      "metadata": {
        "id": "Vili89jxDZcT"
      }
    },
    {
      "cell_type": "markdown",
      "source": [
        "**[csv 파일 읽어오기]**"
      ],
      "metadata": {
        "id": "h9mcEOT1E24i"
      }
    },
    {
      "cell_type": "code",
      "source": [
        "# 외부 데이터 파일의 경로(상대경로) 찾기\n",
        "file_path = './read_csv_sample.csv'"
      ],
      "metadata": {
        "id": "X2uOsMHZC45q"
      },
      "execution_count": null,
      "outputs": []
    },
    {
      "cell_type": "code",
      "source": [
        "# 확장자에 따른 데이터를 최종 읽어들이기\n",
        "df1 = pd.read_csv(file_path)\n",
        "\n",
        "df1"
      ],
      "metadata": {
        "id": "-PmiS5nmC43p"
      },
      "execution_count": null,
      "outputs": []
    },
    {
      "cell_type": "code",
      "source": [
        "# 기본적으로 csv 파일의 가장 첫번째 행을 컬럼(헤더) 취급리\n",
        "df2 = pd.read_csv(file_path, header=None)\n",
        "df2"
      ],
      "metadata": {
        "id": "kfYPspl9C41h"
      },
      "execution_count": null,
      "outputs": []
    },
    {
      "cell_type": "code",
      "source": [
        "# 특정 컬럼을 행 인덱스로 지정 가능 : index_col\n",
        "df3 = pd.read_csv(file_path, index_col=None)\n",
        "df3"
      ],
      "metadata": {
        "id": "WOEXKMbmC4zD"
      },
      "execution_count": null,
      "outputs": []
    },
    {
      "cell_type": "code",
      "source": [
        "df4 = pd.read_csv(file_path, index_col='c2')\n",
        "df4"
      ],
      "metadata": {
        "id": "hvuV0r4fC4wi"
      },
      "execution_count": null,
      "outputs": []
    },
    {
      "cell_type": "markdown",
      "source": [
        "**[excel 파일 읽어오기]**"
      ],
      "metadata": {
        "id": "fSE8sHidOJW5"
      }
    },
    {
      "cell_type": "code",
      "source": [
        "# 파일경로 찾기\n",
        "file_path = './남북한발전전력량.xlsx'"
      ],
      "metadata": {
        "id": "czkjP7uFMtrB"
      },
      "execution_count": null,
      "outputs": []
    },
    {
      "cell_type": "code",
      "source": [
        "# read_확장자()\n",
        "df1 = pd.read_excel(file_path)\n",
        "df1"
      ],
      "metadata": {
        "id": "BdLO2KUwMtly"
      },
      "execution_count": null,
      "outputs": []
    },
    {
      "cell_type": "code",
      "source": [
        "df2 = pd.read_excel(file_path, header=None)\n",
        "df2"
      ],
      "metadata": {
        "id": "tRnHxtYfOI6I"
      },
      "execution_count": null,
      "outputs": []
    },
    {
      "cell_type": "markdown",
      "source": [
        "**[json 파일 읽어오기]**"
      ],
      "metadata": {
        "id": "hb1hJ5JcP8Ap"
      }
    },
    {
      "cell_type": "code",
      "source": [
        "df1 = pd.read_json('./read_json_sample.json')\n",
        "df1"
      ],
      "metadata": {
        "id": "BYRLS6JNOI2Q"
      },
      "execution_count": null,
      "outputs": []
    },
    {
      "cell_type": "code",
      "source": [
        "# json 파일 읽어들일 때는 header option 사용 불가\n",
        "df2 = pd.read_json('./read_json_sample.json', header=None)\n",
        "df2"
      ],
      "metadata": {
        "id": "2ecIKt45OIz6"
      },
      "execution_count": null,
      "outputs": []
    },
    {
      "cell_type": "markdown",
      "source": [
        "**[웹(Web)에서 읽어오기]**"
      ],
      "metadata": {
        "id": "Iqhc8EbiR0eZ"
      }
    },
    {
      "cell_type": "code",
      "source": [
        "# HTML에서 읽어오기\n",
        "url = './sample.html'"
      ],
      "metadata": {
        "id": "sOy8y72mP7qx"
      },
      "execution_count": null,
      "outputs": []
    },
    {
      "cell_type": "code",
      "source": [
        "tables = pd.read_html(url)\n",
        "tables"
      ],
      "metadata": {
        "id": "7Tqgew0iP7oE"
      },
      "execution_count": null,
      "outputs": []
    },
    {
      "cell_type": "code",
      "source": [
        "df1 = tables[0]\n",
        "df1"
      ],
      "metadata": {
        "id": "vWTWOsQaP7lh"
      },
      "execution_count": null,
      "outputs": []
    },
    {
      "cell_type": "code",
      "source": [
        "df2 = tables[1]\n",
        "df2"
      ],
      "metadata": {
        "id": "yQi_ccbUTAsh"
      },
      "execution_count": null,
      "outputs": []
    },
    {
      "cell_type": "code",
      "source": [
        "# set_index() : 특정 컬럼을 행 인덱스로 지정\n",
        "df3 = df1.set_index(['Unnamed: 0'])\n",
        "\n",
        "df3"
      ],
      "metadata": {
        "id": "_aY1BztgTAqB"
      },
      "execution_count": null,
      "outputs": []
    },
    {
      "cell_type": "markdown",
      "source": [
        "## 데이터 파일 저장하기\n",
        "\n",
        "* 1) 파일이 저장될 경로 지정 + 파일명도 지정\n",
        "\n",
        "* 2) to_확장자() 함수로 파일 저장"
      ],
      "metadata": {
        "id": "el3vWkTvYKg4"
      }
    },
    {
      "cell_type": "markdown",
      "source": [
        "**[csv 파일로 저장]**"
      ],
      "metadata": {
        "id": "c_5mfNFFYfHy"
      }
    },
    {
      "cell_type": "code",
      "source": [
        "data = {\n",
        "    'name' : ['Jerry', 'Riah', 'Paul'],\n",
        "    'algo' : ['A', 'A+', 'B'],\n",
        "    'python' : ['C', 'B', 'B+'],\n",
        "    'pandas' : ['B+', 'C', 'C+']\n",
        "}\n",
        "\n",
        "data"
      ],
      "metadata": {
        "id": "shd2U_-oTAmi"
      },
      "execution_count": null,
      "outputs": []
    },
    {
      "cell_type": "code",
      "source": [
        "# 원본데이터(row data)를 데이터프레임으로 먼저 변환\n",
        "df = pd.DataFrame(data)\n",
        "df"
      ],
      "metadata": {
        "id": "ZbNrEJo2YJfq"
      },
      "execution_count": null,
      "outputs": []
    },
    {
      "cell_type": "code",
      "source": [
        "# to_csv() : csv 파일로 내보내기\n",
        "file_path = './df_sample.csv'\n",
        "\n",
        "df.to_csv(file_path)"
      ],
      "metadata": {
        "id": "aPRrbjA2YJdQ"
      },
      "execution_count": null,
      "outputs": []
    },
    {
      "cell_type": "code",
      "source": [
        "df2 = df.set_index('name')\n",
        "df2"
      ],
      "metadata": {
        "id": "ukE66zkaYJaq"
      },
      "execution_count": null,
      "outputs": []
    },
    {
      "cell_type": "code",
      "source": [
        "df2.to_csv('./df_sample.csv')"
      ],
      "metadata": {
        "id": "q0bpOSfBYJYB"
      },
      "execution_count": null,
      "outputs": []
    },
    {
      "cell_type": "markdown",
      "source": [
        "**[JSON 파일로 저장하기]**"
      ],
      "metadata": {
        "id": "ZEKKsYnnbQD_"
      }
    },
    {
      "cell_type": "code",
      "source": [
        "data = {\n",
        "    'name' : ['Jerry', 'Riah', 'Paul'],\n",
        "    'algo' : ['A', 'A+', 'B'],\n",
        "    'python' : ['C', 'B', 'B+'],\n",
        "    'pandas' : ['B+', 'C', 'C+']\n",
        "}\n",
        "\n",
        "data"
      ],
      "metadata": {
        "id": "FdRiBiktYJVR"
      },
      "execution_count": null,
      "outputs": []
    },
    {
      "cell_type": "code",
      "source": [
        "# [실습] df_sample.json 파일로 저장해보세요"
      ],
      "metadata": {
        "id": "DlB_iUmkbM8Q"
      },
      "execution_count": null,
      "outputs": []
    },
    {
      "cell_type": "code",
      "source": [],
      "metadata": {
        "id": "-gIRAXOxbM6S"
      },
      "execution_count": null,
      "outputs": []
    },
    {
      "cell_type": "markdown",
      "source": [
        "**[excel 파일 저장하기]**"
      ],
      "metadata": {
        "id": "zJ4HUEIicqIA"
      }
    },
    {
      "cell_type": "code",
      "source": [
        "df2.to_excel('./df_sample.xlsx')"
      ],
      "metadata": {
        "id": "r23FYdTubM3a"
      },
      "execution_count": null,
      "outputs": []
    },
    {
      "cell_type": "code",
      "source": [
        "# 여러 데이터프레임을 하나의 excel 파일에 각각 sheet 별로 저장\n",
        "data1 = data.copy()\n",
        "\n",
        "data2 = {\n",
        "    'c0' : [1, 2, 3],\n",
        "    'c1' : [4, 5, 6],\n",
        "    'c2' : [7, 8, 9],\n",
        "    'c3' : [10, 11, 12],\n",
        "    'c4' : [13, 14, 15]\n",
        "}"
      ],
      "metadata": {
        "id": "GbRWK1BAbM0o"
      },
      "execution_count": null,
      "outputs": []
    },
    {
      "cell_type": "code",
      "source": [
        "data1"
      ],
      "metadata": {
        "id": "_OC5tIyqcpy5"
      },
      "execution_count": null,
      "outputs": []
    },
    {
      "cell_type": "code",
      "source": [
        "data2"
      ],
      "metadata": {
        "id": "OopIFEbKcpuD"
      },
      "execution_count": null,
      "outputs": []
    },
    {
      "cell_type": "code",
      "source": [
        "df1 = pd.DataFrame(data1)\n",
        "df1.set_index('name', inplace=True)\n",
        "df1"
      ],
      "metadata": {
        "id": "t2vCbBIUcprh"
      },
      "execution_count": null,
      "outputs": []
    },
    {
      "cell_type": "code",
      "source": [
        "df2 = pd.DataFrame(data2)\n",
        "df2.set_index('c0', inplace=True)\n",
        "df2"
      ],
      "metadata": {
        "id": "lEvse8xydc4r"
      },
      "execution_count": null,
      "outputs": []
    },
    {
      "cell_type": "code",
      "source": [
        "# df1을 excel 파일의 sheet1, df2를 excel 파일의 sheet2에 각각 저장\n",
        "with pd.ExcelWriter('./df_excelwriter.xlsx', mode='w', engine='openpyxl') as writer :\n",
        "  df1.to_excel(writer, sheet_name='Sheet1')\n",
        "  df2.to_excel(writer, sheet_name='Sheet2')"
      ],
      "metadata": {
        "id": "fg0wBYkwdc2Z"
      },
      "execution_count": null,
      "outputs": []
    },
    {
      "cell_type": "code",
      "source": [],
      "metadata": {
        "id": "IMDTVxSddczr"
      },
      "execution_count": null,
      "outputs": []
    },
    {
      "cell_type": "markdown",
      "source": [
        "## 데이터 살펴보기"
      ],
      "metadata": {
        "id": "Fb3EqsAif4S7"
      }
    },
    {
      "cell_type": "code",
      "source": [
        "import pandas as pd\n",
        "from pandas import Series, DataFrame\n",
        "import numpy as np"
      ],
      "metadata": {
        "id": "a3-7sEnGfrtA"
      },
      "execution_count": null,
      "outputs": []
    },
    {
      "cell_type": "code",
      "source": [
        "'''\n",
        "# UC Irvine(UCI) Machine Learning Repository에서 제공하는 자동차 연비(auto mpg) 데이터 셋\n",
        "# 출처 : https://archive.ics.uci.edu/dataset/9/auto+mpg\n",
        "\n",
        "      속성(특성-feature)                       데이터 타입 - 범위(상세)\n",
        "\n",
        "    1. mpg:                  연비                 continuous                       연속값\n",
        "    2. cylinders:            실린더수             multi-valued discrete            이산값\n",
        "    3. displacement:         배기량               continuous\n",
        "    4. horsepower:           마력(출력)           continuous\n",
        "    5. weight:               차중(무게)           continuous\n",
        "    6. acceleration:         가속능력             continuous\n",
        "    7. model year:           출시년도             multi-valued discrete\n",
        "    8. origin:               제조국               multi-valued discrete (USA : 1, JPN : 2, EU : 3)\n",
        "    9. car name:             모델명               string (unique for each instance)\n",
        "\n",
        "\n",
        "'''"
      ],
      "metadata": {
        "id": "PmtJVhwgfrqx"
      },
      "execution_count": null,
      "outputs": []
    },
    {
      "cell_type": "markdown",
      "source": [
        "**[데이터 로딩 후 일부 확인 및 처리]**"
      ],
      "metadata": {
        "id": "uZiWuWf7tE3A"
      }
    },
    {
      "cell_type": "code",
      "source": [
        "# 서버에 있는 데이터 파일 경로 확인 후 파일 읽어들이기\n",
        "# csv to df\n",
        "\n",
        "df = pd.read_csv('./auto-mpg.csv')"
      ],
      "metadata": {
        "id": "w9K-hAGDfrob"
      },
      "execution_count": null,
      "outputs": []
    },
    {
      "cell_type": "code",
      "source": [
        "# 데이터파일을 읽어들인 후 전체데이터가 들어있는 변수를 호출해서 여는 것은 권장사항이 아니다\n",
        "#  (데이터가 매우 클 경우)\n",
        "\n",
        "# 일부만 확인하도록 하는 방법이 더 권장 - 관련 함수가 존재함\n",
        "df.head()"
      ],
      "metadata": {
        "id": "MZv8N4hMfrlr"
      },
      "execution_count": null,
      "outputs": []
    },
    {
      "cell_type": "code",
      "source": [
        "# 처음 5개 행 확인\n",
        "df = pd.read_csv('./auto-mpg.csv', header=None)\n",
        "\n",
        "df.head()"
      ],
      "metadata": {
        "id": "C4jeb8f5frdu"
      },
      "execution_count": null,
      "outputs": []
    },
    {
      "cell_type": "code",
      "source": [
        "# 컬럼 이름을 지정\n",
        "df.columns = ['mpg', 'cylinders', 'displacement', 'horsepower', 'weight', 'acceleration',\n",
        "              'model year', 'origin', 'car name']\n",
        "\n",
        "df.head()"
      ],
      "metadata": {
        "id": "z_KDem3Wfra6"
      },
      "execution_count": null,
      "outputs": []
    },
    {
      "cell_type": "code",
      "source": [
        "# 기본 데이터를 저장\n",
        "df2 = df.set_index('mpg')\n",
        "df2.to_csv('./auto-mpg-header.csv')"
      ],
      "metadata": {
        "id": "Y4o36qZIfrYe"
      },
      "execution_count": null,
      "outputs": []
    },
    {
      "cell_type": "code",
      "source": [
        "# 일부 데이터를 확인 : tail() - 아래서부터 일부 확인\n",
        "df.tail()"
      ],
      "metadata": {
        "id": "KA2b5HaBfrWK"
      },
      "execution_count": null,
      "outputs": []
    },
    {
      "cell_type": "code",
      "source": [
        "# 일부 확인할 행수를 지정 가능\n",
        "df.head(10)"
      ],
      "metadata": {
        "id": "QVpJB6oMfrTp"
      },
      "execution_count": null,
      "outputs": []
    },
    {
      "cell_type": "code",
      "source": [
        "df.tail(10)"
      ],
      "metadata": {
        "id": "bPU-U_gHfrQx"
      },
      "execution_count": null,
      "outputs": []
    },
    {
      "cell_type": "code",
      "source": [
        "df.head(3)"
      ],
      "metadata": {
        "id": "bO56tKjKsgCA"
      },
      "execution_count": null,
      "outputs": []
    },
    {
      "cell_type": "markdown",
      "source": [
        "**[데이터 요약 정보 확인]**"
      ],
      "metadata": {
        "id": "enr70eQPs_Uo"
      }
    },
    {
      "cell_type": "code",
      "source": [
        "# 모양과 크기 확인 : shape\n",
        "df.shape"
      ],
      "metadata": {
        "id": "-pvdwJlYsf_h"
      },
      "execution_count": null,
      "outputs": []
    },
    {
      "cell_type": "code",
      "source": [
        "# 데이터의 기본 정보 확인 : info()\n",
        "df.info()"
      ],
      "metadata": {
        "id": "g8FLPipasf9A"
      },
      "execution_count": null,
      "outputs": []
    },
    {
      "cell_type": "code",
      "source": [
        "# 데이터형(자료형) 확인\n",
        "df.dtypes"
      ],
      "metadata": {
        "id": "WRyHpsE1ttZo"
      },
      "execution_count": null,
      "outputs": []
    },
    {
      "cell_type": "code",
      "source": [
        "# 개별 컬럼의 자료형 확인\n",
        "print(df['mpg'].dtypes)\n",
        "print('-'*40)\n",
        "print(df.mpg.dtypes)"
      ],
      "metadata": {
        "id": "9b54yegZttWr"
      },
      "execution_count": null,
      "outputs": []
    },
    {
      "cell_type": "code",
      "source": [
        "# 기술통계 정보 확인 : describe()\n",
        "df.describe()"
      ],
      "metadata": {
        "id": "YWvHS37bttRq"
      },
      "execution_count": null,
      "outputs": []
    },
    {
      "cell_type": "code",
      "source": [
        "df.info()"
      ],
      "metadata": {
        "id": "sWCPlUOrk4hF"
      },
      "execution_count": null,
      "outputs": []
    },
    {
      "cell_type": "code",
      "source": [
        "# 기본적으로 기술통계는 산술데이터만 수행됨.\n",
        "# describe() 는 산술데이터가 아닌 컬럼은 출력시 제외하도록 설계되어 있음\n",
        "\n",
        "df.describe(include='all')"
      ],
      "metadata": {
        "id": "93Q3_mhJk4eX"
      },
      "execution_count": null,
      "outputs": []
    },
    {
      "cell_type": "code",
      "source": [
        "# 각 컬럼별 데이터(원소) 개수 확인\n",
        "df.count()"
      ],
      "metadata": {
        "id": "H9YYqXAmk4bu"
      },
      "execution_count": null,
      "outputs": []
    },
    {
      "cell_type": "code",
      "source": [
        "# 대표하는 고유값 개수 확인\n",
        "df.origin.value_counts()"
      ],
      "metadata": {
        "id": "8Px2E15Ek4V-"
      },
      "execution_count": null,
      "outputs": []
    },
    {
      "cell_type": "markdown",
      "source": [
        "**[통계함수 적용]**\n",
        "\n",
        "* 평균 등 적용"
      ],
      "metadata": {
        "id": "2WDwi640oR_t"
      }
    },
    {
      "cell_type": "code",
      "source": [
        "print(df.mean(numeric_only=True))\n",
        "print('-'*40)\n",
        "print(df.mpg.mean())"
      ],
      "metadata": {
        "id": "yXXJgHhNl9uW"
      },
      "execution_count": null,
      "outputs": []
    },
    {
      "cell_type": "markdown",
      "source": [
        "* 상관계수"
      ],
      "metadata": {
        "id": "rthOP1tXpN7-"
      }
    },
    {
      "cell_type": "code",
      "source": [
        "# 상관계수 : 두 변수가 얼마만큼의 상관이 있는지를 수치로 나타내주는 값\n",
        "# -1 <= r <= 1\n",
        "\n",
        "# corr()\n",
        "df.corr(numeric_only=True)"
      ],
      "metadata": {
        "id": "noVYeXMml9rp"
      },
      "execution_count": null,
      "outputs": []
    },
    {
      "cell_type": "code",
      "source": [
        "# 확인하려는 컬럼끼리만 상관계수 구하기\n",
        "df[['displacement', 'weight']].corr()"
      ],
      "metadata": {
        "id": "1dD2MTbuoLg-"
      },
      "execution_count": null,
      "outputs": []
    },
    {
      "cell_type": "markdown",
      "source": [
        "**[판다스 내장 그래프 도구]**"
      ],
      "metadata": {
        "id": "a674tJCirAUQ"
      }
    },
    {
      "cell_type": "code",
      "source": [
        "df2 = pd.read_excel('./남북한발전전력량.xlsx')\n",
        "\n",
        "df2.head(6)"
      ],
      "metadata": {
        "id": "-Ewp1YHToLee"
      },
      "execution_count": null,
      "outputs": []
    },
    {
      "cell_type": "code",
      "source": [
        "# 남한, 북한 발전전력량 중 합계 부분만 따로 추출\n",
        "df_south_north = df2.iloc[[0, 5], 2:]\n",
        "\n",
        "df_south_north"
      ],
      "metadata": {
        "id": "OezCgWnxq_8P"
      },
      "execution_count": null,
      "outputs": []
    },
    {
      "cell_type": "code",
      "source": [
        "# 기본 정보 확인\n",
        "df_south_north.info()"
      ],
      "metadata": {
        "id": "namHo-XGoLbm"
      },
      "execution_count": null,
      "outputs": []
    },
    {
      "cell_type": "code",
      "source": [
        "type(df_south_north.columns)"
      ],
      "metadata": {
        "id": "c5QdA9wooLZG"
      },
      "execution_count": null,
      "outputs": []
    },
    {
      "cell_type": "code",
      "source": [
        "# 행 인덱스 객체 이름 변경\n",
        "df_south_north.index = ['South', 'North']\n",
        "\n",
        "df_south_north"
      ],
      "metadata": {
        "id": "HT2gxZL7q_wu"
      },
      "execution_count": null,
      "outputs": []
    },
    {
      "cell_type": "markdown",
      "source": [
        "* 선그래프"
      ],
      "metadata": {
        "id": "rdccNI07yD3Q"
      }
    },
    {
      "cell_type": "code",
      "source": [
        "# 선 그래프 함수 : plot()\n",
        "df_south_north.plot()"
      ],
      "metadata": {
        "id": "kyiU_w9jq_uX"
      },
      "execution_count": null,
      "outputs": []
    },
    {
      "cell_type": "code",
      "source": [
        "# 행, 열을 전치해서 다시 그리기\n",
        "tdf_sn = df_south_north.T\n",
        "\n",
        "tdf_sn.head()"
      ],
      "metadata": {
        "id": "ePNVy0Gtq_r6"
      },
      "execution_count": null,
      "outputs": []
    },
    {
      "cell_type": "code",
      "source": [
        "tdf_sn.plot()"
      ],
      "metadata": {
        "id": "SyIanuzXyB-p"
      },
      "execution_count": null,
      "outputs": []
    },
    {
      "cell_type": "markdown",
      "source": [
        "* 막대 그래프"
      ],
      "metadata": {
        "id": "TOkYIeKgzNOQ"
      }
    },
    {
      "cell_type": "code",
      "source": [
        "tdf_sn.plot(kind='bar')"
      ],
      "metadata": {
        "id": "7F4HMxoYyB8B"
      },
      "execution_count": null,
      "outputs": []
    },
    {
      "cell_type": "markdown",
      "source": [
        "* 산점도"
      ],
      "metadata": {
        "id": "8mQdOF6azfL4"
      }
    },
    {
      "cell_type": "code",
      "source": [
        "df = pd.read_csv('./auto-mpg-header.csv')\n",
        "df.head()"
      ],
      "metadata": {
        "id": "oRkAmMfJyB5I"
      },
      "execution_count": null,
      "outputs": []
    },
    {
      "cell_type": "code",
      "source": [
        "df[['displacement', 'weight']].corr()"
      ],
      "metadata": {
        "id": "qh3sDzz-yB2p"
      },
      "execution_count": null,
      "outputs": []
    },
    {
      "cell_type": "code",
      "source": [
        "# 2개의 컬럼 선택해서 산점도 그리기\n",
        "df.plot(x='weight', y='displacement', kind='scatter')"
      ],
      "metadata": {
        "id": "N0FSS1Nbzs0w"
      },
      "execution_count": null,
      "outputs": []
    },
    {
      "cell_type": "code",
      "source": [
        "df.plot(x='origin', y='model year', kind='scatter')"
      ],
      "metadata": {
        "id": "DNH64XSFzsxv"
      },
      "execution_count": null,
      "outputs": []
    },
    {
      "cell_type": "markdown",
      "source": [
        "* 박스플롯"
      ],
      "metadata": {
        "id": "-RSJomek0-FK"
      }
    },
    {
      "cell_type": "code",
      "source": [
        "# describe() 와 비슷한 결과\n",
        "df[['mpg', 'cylinders']].plot(kind='box')"
      ],
      "metadata": {
        "id": "NgcikE3vzstA"
      },
      "execution_count": null,
      "outputs": []
    },
    {
      "cell_type": "code",
      "source": [],
      "metadata": {
        "id": "Sgk9a2Iu08UZ"
      },
      "execution_count": null,
      "outputs": []
    },
    {
      "cell_type": "code",
      "source": [],
      "metadata": {
        "id": "WMrdtOLk08Rh"
      },
      "execution_count": null,
      "outputs": []
    },
    {
      "cell_type": "code",
      "source": [],
      "metadata": {
        "id": "n2W6oT2T08PC"
      },
      "execution_count": null,
      "outputs": []
    }
  ]
}