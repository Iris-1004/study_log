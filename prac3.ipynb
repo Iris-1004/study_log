{
 "cells": [
  {
   "cell_type": "code",
   "execution_count": 1,
   "id": "2586dade-ea22-4d02-9ea1-6bee75fe3337",
   "metadata": {},
   "outputs": [],
   "source": [
    "import pandas as pd"
   ]
  },
  {
   "cell_type": "code",
   "execution_count": 2,
   "id": "6333218c-67dc-4b96-86b3-8b8ac8c226a4",
   "metadata": {},
   "outputs": [
    {
     "name": "stdout",
     "output_type": "stream",
     "text": [
      "hello    1\n",
      "iris     2\n",
      "dtype: int64\n"
     ]
    }
   ],
   "source": [
    "sr = pd.Series([1,2], index = [\"hello\",\"iris\"])\n",
    "deep = sr.copy(deep = True)\n",
    "shallow = sr.copy(deep = False)\n",
    "print(sr)"
   ]
  },
  {
   "cell_type": "code",
   "execution_count": 3,
   "id": "6777aa78-bd52-4e06-9124-ce7c809fef42",
   "metadata": {},
   "outputs": [
    {
     "data": {
      "text/plain": [
       "hello    1\n",
       "iris     2\n",
       "dtype: int64"
      ]
     },
     "execution_count": 3,
     "metadata": {},
     "output_type": "execute_result"
    }
   ],
   "source": [
    "deep"
   ]
  },
  {
   "cell_type": "code",
   "execution_count": 4,
   "id": "74c609ef-2432-4c4d-ab30-1f1cba6cd271",
   "metadata": {},
   "outputs": [
    {
     "data": {
      "text/plain": [
       "hello    1\n",
       "iris     2\n",
       "dtype: int64"
      ]
     },
     "execution_count": 4,
     "metadata": {},
     "output_type": "execute_result"
    }
   ],
   "source": [
    "shallow"
   ]
  },
  {
   "cell_type": "code",
   "execution_count": null,
   "id": "52fa7829-80c7-40d7-a2f3-cda6ef92a6ff",
   "metadata": {},
   "outputs": [],
   "source": []
  }
 ],
 "metadata": {
  "kernelspec": {
   "display_name": "Python 3 (ipykernel)",
   "language": "python",
   "name": "python3"
  },
  "language_info": {
   "codemirror_mode": {
    "name": "ipython",
    "version": 3
   },
   "file_extension": ".py",
   "mimetype": "text/x-python",
   "name": "python",
   "nbconvert_exporter": "python",
   "pygments_lexer": "ipython3",
   "version": "3.9.18"
  }
 },
 "nbformat": 4,
 "nbformat_minor": 5
}
