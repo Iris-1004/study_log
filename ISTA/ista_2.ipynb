{
 "cells": [
  {
   "cell_type": "code",
   "execution_count": 24,
   "id": "d9fe5c51-8e5d-4c2c-87c0-fddfa70a5dfc",
   "metadata": {},
   "outputs": [],
   "source": [
    "import numpy as np"
   ]
  },
  {
   "cell_type": "code",
   "execution_count": 25,
   "id": "868e2f34-539e-4261-9dc5-6ac9bac4c557",
   "metadata": {},
   "outputs": [
    {
     "data": {
      "text/plain": [
       "array([[ 1,  2,  3,  4],\n",
       "       [ 5,  6,  7,  8],\n",
       "       [ 9, 10, 11, 12]])"
      ]
     },
     "execution_count": 25,
     "metadata": {},
     "output_type": "execute_result"
    }
   ],
   "source": [
    "a = np.array([[1,2,3,4],[5,6,7,8],[9,10,11,12]]); a"
   ]
  },
  {
   "cell_type": "code",
   "execution_count": 26,
   "id": "b2393440-3dc5-4199-b6a4-33a219e87066",
   "metadata": {},
   "outputs": [
    {
     "data": {
      "text/plain": [
       "array([5, 6, 7, 8])"
      ]
     },
     "execution_count": 26,
     "metadata": {},
     "output_type": "execute_result"
    }
   ],
   "source": [
    "# 5,6,7,8(a의 2번째 행 요소값을 전부 출력)\n",
    "b = a[1, :]; b ## 전제 가져오고 싶으면 : 쓰면 돼"
   ]
  },
  {
   "cell_type": "code",
   "execution_count": 27,
   "id": "1e083783-f9f9-45f8-a7e7-bbc96534bc45",
   "metadata": {},
   "outputs": [
    {
     "data": {
      "text/plain": [
       "array([[ 2],\n",
       "       [ 6],\n",
       "       [10]])"
      ]
     },
     "execution_count": 27,
     "metadata": {},
     "output_type": "execute_result"
    }
   ],
   "source": [
    "# 2, 6, 10(a의 2번째 열 요소값을 전부 출력)\n",
    "c = a[:,1]; c ## array([ 2,  6, 10])\n",
    "# 왜 열 요소값을 출력했는데 행 형태로 출력되었는가?\n",
    "\n",
    "# 열 형태로 뽑기 위해서는 어떻게 해야 하는가?\n",
    "## 2번째 열 요소값을 전부 열 형태로 출력\n",
    "d = a[:,1:2]; d # 그냥 1 하면 행 형태 1:2 하면 열 형태로 출력됨. (왜?)"
   ]
  },
  {
   "cell_type": "code",
   "execution_count": 28,
   "id": "e775db6a-b473-410d-b4ce-007403d70e69",
   "metadata": {},
   "outputs": [
    {
     "name": "stdout",
     "output_type": "stream",
     "text": [
      "2 (3, 1)\n"
     ]
    }
   ],
   "source": [
    "print(d.ndim, d.shape) ## 이거 왜 rank 가 2야?"
   ]
  },
  {
   "cell_type": "code",
   "execution_count": 29,
   "id": "94fe128b-8e86-4535-97a6-df0dea252eff",
   "metadata": {},
   "outputs": [
    {
     "data": {
      "text/plain": [
       "array([[1, 2],\n",
       "       [3, 4],\n",
       "       [5, 6]])"
      ]
     },
     "execution_count": 29,
     "metadata": {},
     "output_type": "execute_result"
    }
   ],
   "source": [
    "a = np.array([[1,2],[3,4],[5,6]]); a"
   ]
  },
  {
   "cell_type": "code",
   "execution_count": 30,
   "id": "9299c24e-9c0d-4a2b-9927-e69a974dbb5a",
   "metadata": {},
   "outputs": [
    {
     "data": {
      "text/plain": [
       "array([1, 4, 5])"
      ]
     },
     "execution_count": 30,
     "metadata": {},
     "output_type": "execute_result"
    }
   ],
   "source": [
    "# 1, 4, 5 요소 추출(행)\n",
    "## 힌트: 리스트를 이용해서 원하는 행과 열을 각각 짝지을 수 있음\n",
    "\n",
    "b = a[[0,1,2],[0,1,0]]; b #a의 (0,0), (1, 0), (2,0)으로 짝 지어서 빼내기"
   ]
  },
  {
   "cell_type": "code",
   "execution_count": 46,
   "id": "55f3c336-5704-4124-8e95-6307973b8e1c",
   "metadata": {},
   "outputs": [
    {
     "data": {
      "text/plain": [
       "'\\nnumpy 인덱싱: (기본) 행렬의 각 행에서 하나의 요소를 선택하거나 수정하는 기능\\n            : numpy의 인덱싱은 팬시 인덱싱(fancy indexing) 이라고소 함. \\n            인덱스에 없는 번호로 하면 오류\\n'"
      ]
     },
     "execution_count": 46,
     "metadata": {},
     "output_type": "execute_result"
    }
   ],
   "source": [
    "'''\n",
    "numpy 인덱싱: (기본) 행렬의 각 행에서 하나의 요소를 선택하거나 수정하는 기능\n",
    "            : numpy의 인덱싱은 팬시 인덱싱(fancy indexing) 이라고소 함. \n",
    "            : 인덱스에 없는 번호로 하면 오류\n",
    "            : 이를 이용해서 원본 배열과 다른 배열을 만들 때 유용 \n",
    "'''"
   ]
  },
  {
   "cell_type": "code",
   "execution_count": 59,
   "id": "33a2c165-1787-4e7b-833a-2fc0eee69704",
   "metadata": {},
   "outputs": [
    {
     "data": {
      "text/plain": [
       "array([1, 2, 3, 4, 5, 6, 7, 8, 9])"
      ]
     },
     "execution_count": 59,
     "metadata": {},
     "output_type": "execute_result"
    }
   ],
   "source": [
    "a = np.array([1,2,3,4,5,6,7,8,9]); a"
   ]
  },
  {
   "cell_type": "code",
   "execution_count": 60,
   "id": "28f0e341-f8ca-475c-838b-590a959d4a3d",
   "metadata": {},
   "outputs": [
    {
     "data": {
      "text/plain": [
       "array([0, 0, 0, 0, 1, 1, 1, 1, 2, 2, 2, 2, 6])"
      ]
     },
     "execution_count": 60,
     "metadata": {},
     "output_type": "execute_result"
    }
   ],
   "source": [
    "idx = np.array([0,0,0,0,1,1,1,1,2,2,2,2,6]); idx"
   ]
  },
  {
   "cell_type": "code",
   "execution_count": 61,
   "id": "f2e11c10-08ba-4a20-a675-326ad4576514",
   "metadata": {},
   "outputs": [
    {
     "data": {
      "text/plain": [
       "array([1, 1, 1, 1, 2, 2, 2, 2, 3, 3, 3, 3, 7])"
      ]
     },
     "execution_count": 61,
     "metadata": {},
     "output_type": "execute_result"
    }
   ],
   "source": [
    "a[idx] ## numpy의 정수 인덱싱"
   ]
  },
  {
   "cell_type": "code",
   "execution_count": 62,
   "id": "e1d1e608-2efd-4c76-bd53-a88faa6c2d35",
   "metadata": {},
   "outputs": [],
   "source": [
    "# a[2,4,5] -> 이렇게 하면 안돼\n",
    "# a[[2,4,5]] -> 이렇게는 됨."
   ]
  },
  {
   "cell_type": "code",
   "execution_count": 63,
   "id": "b76d97bd-9afd-49a7-8dad-aac2b4748cef",
   "metadata": {},
   "outputs": [
    {
     "data": {
      "text/plain": [
       "array([[1, 2],\n",
       "       [3, 4],\n",
       "       [5, 6]])"
      ]
     },
     "execution_count": 63,
     "metadata": {},
     "output_type": "execute_result"
    }
   ],
   "source": [
    "a = np.array([[1,2],[3,4],[5,6]]); a"
   ]
  },
  {
   "cell_type": "code",
   "execution_count": 64,
   "id": "ea5c0354-2509-4cd5-89bf-3579fa64ca07",
   "metadata": {},
   "outputs": [
    {
     "data": {
      "text/plain": [
       "array([[1],\n",
       "       [3],\n",
       "       [5]])"
      ]
     },
     "execution_count": 64,
     "metadata": {},
     "output_type": "execute_result"
    }
   ],
   "source": [
    "# [1,3,5] 추출 -> 열 형태로 추출\n",
    "b = a[:,0:1]; b"
   ]
  },
  {
   "cell_type": "code",
   "execution_count": 65,
   "id": "5b987839-8e3f-41b0-8da0-ff7344953a0b",
   "metadata": {},
   "outputs": [
    {
     "data": {
      "text/plain": [
       "array([[1],\n",
       "       [3],\n",
       "       [5]])"
      ]
     },
     "execution_count": 65,
     "metadata": {},
     "output_type": "execute_result"
    }
   ],
   "source": [
    "# 추출하고 싶은 열을 True 처리\n",
    "# bool 인덱싱\n",
    "c = a[:,[True, False]]; c"
   ]
  },
  {
   "cell_type": "markdown",
   "id": "1cc99e4f-8511-4f50-9722-c30102439ad4",
   "metadata": {},
   "source": [
    "## 배열 연산\n",
    "\n",
    "- 배열 연산의 기본은 같은 위치에 있는 각각의 요소 별로 연산(동작)한다.\n",
    "- numpy에서 제공하는 함수, 산술 연산자로 배열 연산이 가능\n",
    "- "
   ]
  },
  {
   "cell_type": "code",
   "execution_count": 66,
   "id": "d77428e8-972d-4d16-b983-3c79a2c6150c",
   "metadata": {},
   "outputs": [
    {
     "name": "stdout",
     "output_type": "stream",
     "text": [
      "[[1 2]\n",
      " [3 4]]\n",
      "------------------------------\n",
      "[[5 6]\n",
      " [7 8]]\n"
     ]
    }
   ],
   "source": [
    "x = np.array([[1,2],[3,4]])\n",
    "y = np.array([[5,6],[7,8]])\n",
    "\n",
    "print(x)\n",
    "print('-' * 30)\n",
    "print(y)"
   ]
  },
  {
   "cell_type": "code",
   "execution_count": 68,
   "id": "d61e8cf5-80f1-4af8-a245-e74450236188",
   "metadata": {},
   "outputs": [
    {
     "data": {
      "text/plain": [
       "array([[ 6,  8],\n",
       "       [10, 12]])"
      ]
     },
     "execution_count": 68,
     "metadata": {},
     "output_type": "execute_result"
    }
   ],
   "source": [
    "# 산술 연산이 가능하다.\n",
    "x + y"
   ]
  },
  {
   "cell_type": "code",
   "execution_count": 69,
   "id": "eae2c3ef-b185-4b30-9914-eff4a7b9dbc2",
   "metadata": {},
   "outputs": [
    {
     "data": {
      "text/plain": [
       "array([[ 6,  8],\n",
       "       [10, 12]])"
      ]
     },
     "execution_count": 69,
     "metadata": {},
     "output_type": "execute_result"
    }
   ],
   "source": [
    "np.add(x,y)"
   ]
  },
  {
   "cell_type": "code",
   "execution_count": 70,
   "id": "833dfd13-ebd6-4486-80a3-c0abe2165cb6",
   "metadata": {},
   "outputs": [
    {
     "data": {
      "text/plain": [
       "array([[-4, -4],\n",
       "       [-4, -4]])"
      ]
     },
     "execution_count": 70,
     "metadata": {},
     "output_type": "execute_result"
    }
   ],
   "source": [
    "x - y"
   ]
  },
  {
   "cell_type": "code",
   "execution_count": 71,
   "id": "94e7a898-ce30-4be7-b38f-8089e68bca8f",
   "metadata": {},
   "outputs": [
    {
     "data": {
      "text/plain": [
       "array([[-4, -4],\n",
       "       [-4, -4]])"
      ]
     },
     "execution_count": 71,
     "metadata": {},
     "output_type": "execute_result"
    }
   ],
   "source": [
    "np.subtract(x,y)"
   ]
  },
  {
   "cell_type": "code",
   "execution_count": 72,
   "id": "7134f8bd-d283-422c-96f0-2a6cb0dcdba5",
   "metadata": {},
   "outputs": [
    {
     "data": {
      "text/plain": [
       "array([[ 5, 12],\n",
       "       [21, 32]])"
      ]
     },
     "execution_count": 72,
     "metadata": {},
     "output_type": "execute_result"
    }
   ],
   "source": [
    "x * y"
   ]
  },
  {
   "cell_type": "code",
   "execution_count": 73,
   "id": "faf036de-9cb5-4b60-bd5e-9ab91b3f08f1",
   "metadata": {},
   "outputs": [
    {
     "data": {
      "text/plain": [
       "array([[ 5, 12],\n",
       "       [21, 32]])"
      ]
     },
     "execution_count": 73,
     "metadata": {},
     "output_type": "execute_result"
    }
   ],
   "source": [
    "np.multiply(x, y)"
   ]
  },
  {
   "cell_type": "code",
   "execution_count": 75,
   "id": "7ffc3855-d9ff-46e0-aebd-faf13cf9d4cd",
   "metadata": {},
   "outputs": [
    {
     "data": {
      "text/plain": [
       "array([[0.2       , 0.33333333],\n",
       "       [0.42857143, 0.5       ]])"
      ]
     },
     "execution_count": 75,
     "metadata": {},
     "output_type": "execute_result"
    }
   ],
   "source": [
    "x / y # 나눗셈 결과가 실수면 실수로 리턴"
   ]
  },
  {
   "cell_type": "code",
   "execution_count": 76,
   "id": "65fa951c-541c-4104-9498-1f18c0e1ea49",
   "metadata": {},
   "outputs": [
    {
     "data": {
      "text/plain": [
       "array([[0.2       , 0.33333333],\n",
       "       [0.42857143, 0.5       ]])"
      ]
     },
     "execution_count": 76,
     "metadata": {},
     "output_type": "execute_result"
    }
   ],
   "source": [
    "np.divide(x, y)"
   ]
  },
  {
   "cell_type": "code",
   "execution_count": 79,
   "id": "4fcb4111-69e4-446d-97c0-0f3dc5c90670",
   "metadata": {},
   "outputs": [
    {
     "name": "stdout",
     "output_type": "stream",
     "text": [
      "[[1 2]\n",
      " [3 4]]\n",
      "------------------------------\n",
      "[[False  True]\n",
      " [False False]]\n"
     ]
    }
   ],
   "source": [
    "# 비교 연산도 가능 => 결과값을 True/False로 리턴\n",
    "print(x)\n",
    "print('-' * 30)\n",
    "print(x == 2) ## Broadcasting"
   ]
  },
  {
   "cell_type": "code",
   "execution_count": 81,
   "id": "6d68e370-3632-41da-998e-5c92549a5eac",
   "metadata": {},
   "outputs": [
    {
     "name": "stdout",
     "output_type": "stream",
     "text": [
      "[[5 6]\n",
      " [7 8]]\n",
      "------------------------------\n",
      "[[False False]\n",
      " [ True  True]]\n"
     ]
    }
   ],
   "source": [
    "print(y)\n",
    "print('-'*30)\n",
    "print(y > 6)"
   ]
  },
  {
   "cell_type": "code",
   "execution_count": 85,
   "id": "4c134817-5565-4aee-881b-d9adbf53f030",
   "metadata": {},
   "outputs": [
    {
     "data": {
      "text/plain": [
       "array([[False, False],\n",
       "       [False,  True]])"
      ]
     },
     "execution_count": 85,
     "metadata": {},
     "output_type": "execute_result"
    }
   ],
   "source": [
    "# [실습]\n",
    "## x배열에 3보다 크고, y배열에 6보다 큰 값을 모두 만족하는 결과를 찾아보세요.\n",
    "## 논리연산과 조합 가능\n",
    "(x > 3) & (y > 6)"
   ]
  },
  {
   "cell_type": "code",
   "execution_count": 86,
   "id": "da318b3f-17a1-4de9-ad56-f648fdd19f10",
   "metadata": {},
   "outputs": [
    {
     "data": {
      "text/plain": [
       "1.3333333333333333"
      ]
     },
     "execution_count": 86,
     "metadata": {},
     "output_type": "execute_result"
    }
   ],
   "source": [
    "4/3"
   ]
  },
  {
   "cell_type": "markdown",
   "id": "4fdd235e-79a9-466a-8c92-026b56dba723",
   "metadata": {},
   "source": [
    "### 표준수학함수 - 기술 통계"
   ]
  },
  {
   "cell_type": "code",
   "execution_count": 89,
   "id": "f47b4d38-f00e-4c18-8c1b-672ec12a5913",
   "metadata": {},
   "outputs": [
    {
     "data": {
      "text/plain": [
       "array([ 18,   5,  10,   2,   3,  11,  -3,  -5,   9, -30,   0,   5,  60,\n",
       "        80,  -4])"
      ]
     },
     "execution_count": 89,
     "metadata": {},
     "output_type": "execute_result"
    }
   ],
   "source": [
    "x = np.array([18,5,10,2,3,11,-3,-5,9,-30,0,5,60,80,-4]); x"
   ]
  },
  {
   "cell_type": "code",
   "execution_count": 91,
   "id": "1e09d1ba-d75e-4d37-ac5d-36dde9c54686",
   "metadata": {},
   "outputs": [
    {
     "data": {
      "text/plain": [
       "15"
      ]
     },
     "execution_count": 91,
     "metadata": {},
     "output_type": "execute_result"
    }
   ],
   "source": [
    "len(x) # python 내장 함수"
   ]
  },
  {
   "cell_type": "code",
   "execution_count": 92,
   "id": "40495561-69bb-491e-a675-9bc2f358fdfd",
   "metadata": {},
   "outputs": [
    {
     "data": {
      "text/plain": [
       "10.733333333333333"
      ]
     },
     "execution_count": 92,
     "metadata": {},
     "output_type": "execute_result"
    }
   ],
   "source": [
    "# 평균: 전체합 / 모수\n",
    "np.mean(x)"
   ]
  },
  {
   "cell_type": "code",
   "execution_count": 93,
   "id": "c70636e1-09bd-470e-8346-4d0fd9d261e7",
   "metadata": {},
   "outputs": [
    {
     "data": {
      "text/plain": [
       "660.7288888888888"
      ]
     },
     "execution_count": 93,
     "metadata": {},
     "output_type": "execute_result"
    }
   ],
   "source": [
    "# 분산 (variance): 데이터와 샘플 평균 간의 거리의 제곱의 평균\n",
    "#                : 이 값이 작으면 데이터가 모여 있는 것, 이 값이 크면 데이터가 흩어져 있는 것\n",
    "np.var(x)"
   ]
  },
  {
   "cell_type": "code",
   "execution_count": 94,
   "id": "877b98f0-d883-44c3-98b9-e14348f942e3",
   "metadata": {},
   "outputs": [
    {
     "data": {
      "text/plain": [
       "25.70464722358369"
      ]
     },
     "execution_count": 94,
     "metadata": {},
     "output_type": "execute_result"
    }
   ],
   "source": [
    "# 표준편차 (Standar Deviaion): 분산의 제곱근 값\n",
    "np.std(x)"
   ]
  },
  {
   "cell_type": "code",
   "execution_count": 96,
   "id": "cae5f33b-6148-45e5-8cc2-e4d20c72b85a",
   "metadata": {},
   "outputs": [
    {
     "name": "stdout",
     "output_type": "stream",
     "text": [
      "80\n",
      "-30\n",
      "5.0\n"
     ]
    }
   ],
   "source": [
    "# 최댓값(maximum), 최솟값(minmum), 중간값(median)\n",
    "print(np.max(x))\n",
    "print(np.min(x))\n",
    "print(np.median(x)) # 데이터를 크기 대로 정렬 했을 때 가장 가운데 있는 수"
   ]
  },
  {
   "cell_type": "code",
   "execution_count": 98,
   "id": "9a3e85b9-3502-418a-87b3-566699e3b2d9",
   "metadata": {},
   "outputs": [
    {
     "name": "stdout",
     "output_type": "stream",
     "text": [
      "-30.0\n",
      "-1.5\n",
      "5.0\n",
      "10.5\n",
      "80.0\n"
     ]
    }
   ],
   "source": [
    "# 사분위수 (quertile): 데이터를 크기대로 정렬 1/4, 2/4, 3/4 위치에 있는 수 \n",
    "#                                   (1사분위, 2사분위, 3사분위)\n",
    "\n",
    "# numpy에서는 사분위수를 100으로 나눈 백분위수(percentile)를 사용\n",
    "\n",
    "# numpy 사분위수 \n",
    "print(np.percentile(x,0)) # 최솟값\n",
    "print(np.percentile(x,25)) # 1사분위수\n",
    "print(np.percentile(x,50)) # 2사분위수\n",
    "print(np.percentile(x,75)) # 3사분위수\n",
    "print(np.percentile(x,100)) # 최댓값\n",
    " \n"
   ]
  },
  {
   "cell_type": "code",
   "execution_count": 99,
   "id": "51cf2d81-3c5d-440d-bea3-4241213d89ca",
   "metadata": {},
   "outputs": [
    {
     "name": "stdout",
     "output_type": "stream",
     "text": [
      "161\n",
      "0\n"
     ]
    }
   ],
   "source": [
    "# 전체 합, 전체 곱\n",
    "print(np.sum(x))\n",
    "print(np.prod(x))"
   ]
  },
  {
   "cell_type": "markdown",
   "id": "8d28d301-f66b-4f80-aa1e-39c03b8abedc",
   "metadata": {},
   "source": [
    "### 차원 축소 연산(dimention reduction)\n"
   ]
  },
  {
   "cell_type": "raw",
   "id": "6e1a0239-d012-4f90-909b-5a2dfc15117c",
   "metadata": {},
   "source": [
    "'''\n",
    "ex) [1,2,3,4] -> 평균: 2.5, 분산: 1.25, 표준편차: 1.118, 최댓값: 4, 최솟값: 1, 중간값: 2.5\n",
    "\n",
    "   [5,6,7,8] -> 평균: 6.5, 분산: 1.25, 표준편차: 1.118, 최댓값: 8, 최솟값: 5, 중간값: 6.5\n",
    "\n",
    "   # numpy에서 차원 축소 연산 명령 또는 메소드\n",
    "- 최대 / 최소: min, max, argmin(최솟값 위치), argmax(최댓값 위치)\n",
    "- 기술 통계: sum, mean, median, std, var\n",
    "- 참 / 거짓: all, any\n",
    "'''"
   ]
  },
  {
   "cell_type": "code",
   "execution_count": 104,
   "id": "fcfa3ba2-5472-4c13-90d5-1f5357c416f7",
   "metadata": {},
   "outputs": [
    {
     "data": {
      "text/plain": [
       "array([  1,  10, 100])"
      ]
     },
     "execution_count": 104,
     "metadata": {},
     "output_type": "execute_result"
    }
   ],
   "source": [
    "x = np.array([1,10,100]); x"
   ]
  },
  {
   "cell_type": "code",
   "execution_count": 106,
   "id": "b2da9861-e77a-4dd1-81a3-c3cb49ba2ca4",
   "metadata": {},
   "outputs": [
    {
     "name": "stdout",
     "output_type": "stream",
     "text": [
      "1 0\n",
      "------------------------------\n",
      "100 2\n"
     ]
    }
   ],
   "source": [
    "print(np.min(x), np.argmin(x))\n",
    "print('-' * 30)\n",
    "print(np.max(x), np.argmax(x))"
   ]
  },
  {
   "cell_type": "code",
   "execution_count": 107,
   "id": "95e51574-72dc-41af-b653-444c6488961f",
   "metadata": {},
   "outputs": [
    {
     "data": {
      "text/plain": [
       "False"
      ]
     },
     "execution_count": 107,
     "metadata": {},
     "output_type": "execute_result"
    }
   ],
   "source": [
    "# all: 배열의 모든 원소(요소)가 True인지 평가하는 메소드\n",
    "np.all([True, False, True])"
   ]
  },
  {
   "cell_type": "code",
   "execution_count": 108,
   "id": "a63ce817-9c52-4ad6-a063-353c05aeb31a",
   "metadata": {},
   "outputs": [
    {
     "data": {
      "text/plain": [
       "True"
      ]
     },
     "execution_count": 108,
     "metadata": {},
     "output_type": "execute_result"
    }
   ],
   "source": [
    "# any: 배열에서 1개 이상의 원소(요소)가 True인지 평가하는 메소드\n",
    "np.any([False, False, True, True])"
   ]
  },
  {
   "cell_type": "code",
   "execution_count": null,
   "id": "421648f5-ba2a-421f-9fd3-c323c2c0f205",
   "metadata": {},
   "outputs": [],
   "source": []
  }
 ],
 "metadata": {
  "kernelspec": {
   "display_name": "Python 3 (ipykernel)",
   "language": "python",
   "name": "python3"
  },
  "language_info": {
   "codemirror_mode": {
    "name": "ipython",
    "version": 3
   },
   "file_extension": ".py",
   "mimetype": "text/x-python",
   "name": "python",
   "nbconvert_exporter": "python",
   "pygments_lexer": "ipython3",
   "version": "3.9.18"
  }
 },
 "nbformat": 4,
 "nbformat_minor": 5
}
