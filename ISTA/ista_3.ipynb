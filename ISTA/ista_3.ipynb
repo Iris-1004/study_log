{
 "cells": [
  {
   "cell_type": "markdown",
   "id": "101c45ee-bf6f-43ed-9fe1-71812aa19019",
   "metadata": {},
   "source": [
    "- 난수"
   ]
  },
  {
   "cell_type": "code",
   "execution_count": 4,
   "id": "593f1b87-babb-426f-a079-639458ca334e",
   "metadata": {},
   "outputs": [],
   "source": [
    "# 기본: 0부터 1사이 실수값 생성\n",
    "# 보통 프로그래밍 언어를 통한 난수는 난수값이 설정\n",
    "# 조금 더 난수를 만들고 싶으면 난수값을 정하는 씨앗값을 그때그때 바꾸는 형태로 사용"
   ]
  },
  {
   "cell_type": "code",
   "execution_count": 5,
   "id": "9579cfec-3a39-4844-8ca2-36d69b3421eb",
   "metadata": {},
   "outputs": [],
   "source": [
    "import numpy as np"
   ]
  },
  {
   "cell_type": "code",
   "execution_count": 6,
   "id": "90dacfc8-020c-4c1b-8d18-0d80e86f9455",
   "metadata": {},
   "outputs": [
    {
     "data": {
      "text/plain": [
       "0.5488135039273248"
      ]
     },
     "execution_count": 6,
     "metadata": {},
     "output_type": "execute_result"
    }
   ],
   "source": [
    "np.random.seed(0)\n",
    "np.random.rand()"
   ]
  },
  {
   "cell_type": "code",
   "execution_count": 8,
   "id": "9c9f7336-9979-42ad-91d8-fd58a1ef5b14",
   "metadata": {},
   "outputs": [
    {
     "data": {
      "text/plain": [
       "array([0.60276338, 0.54488318, 0.4236548 , 0.64589411, 0.43758721])"
      ]
     },
     "execution_count": 8,
     "metadata": {},
     "output_type": "execute_result"
    }
   ],
   "source": [
    "np.random.rand(5)"
   ]
  },
  {
   "cell_type": "code",
   "execution_count": 16,
   "id": "0b5bc808-ccd7-4497-96bb-3b1c103bd65c",
   "metadata": {},
   "outputs": [
    {
     "data": {
      "text/plain": [
       "array([0.4359949 , 0.02592623, 0.54966248, 0.43532239, 0.4203678 ])"
      ]
     },
     "execution_count": 16,
     "metadata": {},
     "output_type": "execute_result"
    }
   ],
   "source": [
    "np.random.seed(2)\n",
    "np.random.rand(5)"
   ]
  },
  {
   "cell_type": "code",
   "execution_count": 20,
   "id": "f0b028aa-8180-4415-a4ca-f0e6d8f2fb20",
   "metadata": {},
   "outputs": [
    {
     "data": {
      "text/plain": [
       "array([0.5488135 , 0.71518937, 0.60276338, 0.54488318, 0.4236548 ])"
      ]
     },
     "execution_count": 20,
     "metadata": {},
     "output_type": "execute_result"
    }
   ],
   "source": [
    "np.random.seed(0)\n",
    "np.random.rand(5)"
   ]
  },
  {
   "cell_type": "code",
   "execution_count": 21,
   "id": "530b49b8-ed1f-40a9-80ea-b18208f03228",
   "metadata": {},
   "outputs": [
    {
     "data": {
      "text/plain": [
       "array([0.64589411, 0.43758721, 0.891773  , 0.96366276, 0.38344152,\n",
       "       0.79172504, 0.52889492, 0.56804456, 0.92559664, 0.07103606])"
      ]
     },
     "execution_count": 21,
     "metadata": {},
     "output_type": "execute_result"
    }
   ],
   "source": [
    "np.random.rand(10)"
   ]
  },
  {
   "cell_type": "code",
   "execution_count": 22,
   "id": "88535458-1d24-4472-bcad-f3c66ea5aa67",
   "metadata": {},
   "outputs": [
    {
     "name": "stdout",
     "output_type": "stream",
     "text": [
      "0.08712929970154071\n",
      "0.02021839744032572\n",
      "0.832619845547938\n",
      "0.7781567509498505\n",
      "0.8700121482468192\n",
      "0.978618342232764\n",
      "0.7991585642167236\n",
      "0.46147936225293185\n",
      "0.7805291762864555\n",
      "0.11827442586893322\n"
     ]
    }
   ],
   "source": [
    "for i in range(10):\n",
    "    print(np.random.rand())"
   ]
  },
  {
   "cell_type": "code",
   "execution_count": 23,
   "id": "d39853ac-a791-42e0-9ef2-de0fb2f22a7d",
   "metadata": {},
   "outputs": [
    {
     "data": {
      "text/plain": [
       "array([0, 1, 2, 3, 4, 5, 6, 7, 8, 9])"
      ]
     },
     "execution_count": 23,
     "metadata": {},
     "output_type": "execute_result"
    }
   ],
   "source": [
    "x = np.arange(10); x"
   ]
  },
  {
   "cell_type": "code",
   "execution_count": 24,
   "id": "43647405-0026-41fd-9a47-74db226d726b",
   "metadata": {},
   "outputs": [
    {
     "name": "stdout",
     "output_type": "stream",
     "text": [
      "[3 6 4 5 2 9 7 8 1 0]\n"
     ]
    }
   ],
   "source": [
    "# shuffle\n",
    "np.random.shuffle(x)\n",
    "\n",
    "print(x)"
   ]
  },
  {
   "cell_type": "code",
   "execution_count": 25,
   "id": "fe895c36-a66a-4229-bda9-0be96499d70f",
   "metadata": {},
   "outputs": [],
   "source": [
    "# 데이터 샘플링: 이미 있는 데이터 집합에서 무작위로 랜덤하게 선택하는 것\n",
    "# np.random.choice(원본 데이터, size, replace = True/False, p)\n",
    "# - 원본데이터: 데이터 집합, 숫자로 적으면 range(x)로 인식\n",
    "# - size: 샘플 숫자\n",
    "# - replace: True(복원 추출 - 한 번 선택한 데이터를 다시 선택 가능), False(비복원 추출)\n",
    "# - p: 각 데이터가 선택될 수 있는 확률, 생략하면 다 동일한 확률"
   ]
  },
  {
   "cell_type": "code",
   "execution_count": 35,
   "id": "79922c08-7917-4698-9faf-ba43c15d24ff",
   "metadata": {},
   "outputs": [
    {
     "data": {
      "text/plain": [
       "array([3, 1, 0, 2, 4])"
      ]
     },
     "execution_count": 35,
     "metadata": {},
     "output_type": "execute_result"
    }
   ],
   "source": [
    "x = np.random.choice(5,5,replace = False); x"
   ]
  },
  {
   "cell_type": "code",
   "execution_count": 36,
   "id": "d2bcf965-f350-4b2a-b9d8-d97de93b117e",
   "metadata": {},
   "outputs": [
    {
     "data": {
      "text/plain": [
       "array([1, 2, 0])"
      ]
     },
     "execution_count": 36,
     "metadata": {},
     "output_type": "execute_result"
    }
   ],
   "source": [
    "x = np.random.choice(5,3,replace = False); x"
   ]
  },
  {
   "cell_type": "code",
   "execution_count": 39,
   "id": "9dc8c0d1-cdc9-49af-add9-80e369670e1d",
   "metadata": {},
   "outputs": [
    {
     "ename": "ValueError",
     "evalue": "Cannot take a larger sample than population when 'replace=False'",
     "output_type": "error",
     "traceback": [
      "\u001b[1;31m---------------------------------------------------------------------------\u001b[0m",
      "\u001b[1;31mValueError\u001b[0m                                Traceback (most recent call last)",
      "Cell \u001b[1;32mIn[39], line 1\u001b[0m\n\u001b[1;32m----> 1\u001b[0m x \u001b[38;5;241m=\u001b[39m \u001b[43mnp\u001b[49m\u001b[38;5;241;43m.\u001b[39;49m\u001b[43mrandom\u001b[49m\u001b[38;5;241;43m.\u001b[39;49m\u001b[43mchoice\u001b[49m\u001b[43m(\u001b[49m\u001b[38;5;241;43m5\u001b[39;49m\u001b[43m,\u001b[49m\u001b[38;5;241;43m10\u001b[39;49m\u001b[43m,\u001b[49m\u001b[43mreplace\u001b[49m\u001b[43m \u001b[49m\u001b[38;5;241;43m=\u001b[39;49m\u001b[43m \u001b[49m\u001b[38;5;28;43;01mFalse\u001b[39;49;00m\u001b[43m)\u001b[49m; x\n",
      "File \u001b[1;32mnumpy\\\\random\\\\mtrand.pyx:1001\u001b[0m, in \u001b[0;36mnumpy.random.mtrand.RandomState.choice\u001b[1;34m()\u001b[0m\n",
      "\u001b[1;31mValueError\u001b[0m: Cannot take a larger sample than population when 'replace=False'"
     ]
    }
   ],
   "source": [
    "x = np.random.choice(5,10,replace = False); x # 비복원 추출인데 원본 데이터가 5개인데 10개의 데이터를 선택하라고 해서 에러"
   ]
  },
  {
   "cell_type": "code",
   "execution_count": 42,
   "id": "961df38d-a2fd-46e3-b306-fdbac919a525",
   "metadata": {},
   "outputs": [
    {
     "data": {
      "text/plain": [
       "array([0, 1, 2, 4, 2, 0, 3, 2, 2, 0])"
      ]
     },
     "execution_count": 42,
     "metadata": {},
     "output_type": "execute_result"
    }
   ],
   "source": [
    "x = np.random.choice(5,10,replace = True); x # 복원 추출로 하니까 노상관이지?"
   ]
  },
  {
   "cell_type": "code",
   "execution_count": 43,
   "id": "329047c3-e2a8-4c25-b662-e2e25ce199ba",
   "metadata": {},
   "outputs": [
    {
     "data": {
      "text/plain": [
       "array([4, 4, 0, 3, 3, 3, 3, 3, 4, 0])"
      ]
     },
     "execution_count": 43,
     "metadata": {},
     "output_type": "execute_result"
    }
   ],
   "source": [
    "x = np.random.choice(5,10,replace = True, p = [0.1, 0, 0, 0.3, 0.6]); x # p: 요소별 선택될 확률을 지정"
   ]
  },
  {
   "cell_type": "code",
   "execution_count": 45,
   "id": "fb166af8-f929-4015-8c48-791ef0f4c649",
   "metadata": {},
   "outputs": [],
   "source": [
    "# 난수 생성 함수\n",
    "# rand(): 0 ~ 1 사이 실수   - 균일분포\n",
    "#    -rand(\n",
    "# randn(): 실수   - 가우시안 표준 정규 분포\n",
    "# randint(): 정수   - 균일분포의 정수 난수\n",
    "#    - randint(low, high, size)\n"
   ]
  },
  {
   "cell_type": "code",
   "execution_count": 46,
   "id": "1319dab1-0870-47f2-a938-0610b2622f3f",
   "metadata": {},
   "outputs": [
    {
     "data": {
      "text/plain": [
       "array([0.69247212, 0.56660145, 0.26538949, 0.52324805, 0.09394051])"
      ]
     },
     "execution_count": 46,
     "metadata": {},
     "output_type": "execute_result"
    }
   ],
   "source": [
    "np.random.rand(5)"
   ]
  },
  {
   "cell_type": "code",
   "execution_count": 49,
   "id": "9c4b9836-1285-41ea-a51f-502ac60177ba",
   "metadata": {},
   "outputs": [
    {
     "data": {
      "text/plain": [
       "array([-0.40317695,  1.22244507,  0.20827498,  0.97663904,  0.3563664 ,\n",
       "        0.70657317,  0.01050002,  1.78587049,  0.12691209,  0.40198936])"
      ]
     },
     "execution_count": 49,
     "metadata": {},
     "output_type": "execute_result"
    }
   ],
   "source": [
    "np.random.randn(10)"
   ]
  },
  {
   "cell_type": "code",
   "execution_count": 57,
   "id": "47bf699e-58b2-420d-a8cc-7c26b66ad069",
   "metadata": {},
   "outputs": [
    {
     "data": {
      "text/plain": [
       "array([[ 0.68159452,  0.40318568, -0.68405925,  1.26232219, -2.00555659],\n",
       "       [-0.3320304 , -0.2961004 , -2.21836076, -0.18350288,  0.39230806],\n",
       "       [ 0.24163481,  0.10393591, -0.82957119,  0.49275939,  0.09011279]])"
      ]
     },
     "execution_count": 57,
     "metadata": {},
     "output_type": "execute_result"
    }
   ],
   "source": [
    "np.random.randn(3, 5) # 3행 5열짜리"
   ]
  },
  {
   "cell_type": "code",
   "execution_count": 70,
   "id": "6b29d610-c7a6-4da6-88bf-e474e4e5b4aa",
   "metadata": {},
   "outputs": [
    {
     "data": {
      "text/plain": [
       "array([[17, 43, 29, 27, 24,  3],\n",
       "       [39, 10,  3, 45, 42, 26],\n",
       "       [37, 27,  5, 42, 11, 13],\n",
       "       [41, 34, 38, 40, 33, 34],\n",
       "       [27, 36, 26, 25, 19, 21]])"
      ]
     },
     "execution_count": 70,
     "metadata": {},
     "output_type": "execute_result"
    }
   ],
   "source": [
    "# [실습] 로또번호 5천원어치 구해보세요.\n",
    "# 로또번호: 1부터 45까지 숫자 중 6개가 랜덤하게 추출\n",
    "np.random.randint(1, 46, [5, 6]) # 자동으로 행마다 복원 추출"
   ]
  },
  {
   "cell_type": "code",
   "execution_count": 98,
   "id": "3f907922-e7cb-45d3-becb-578d698039ec",
   "metadata": {},
   "outputs": [
    {
     "data": {
      "text/plain": [
       "array([[3, 4, 5, 6],\n",
       "       [2, 4, 6, 8],\n",
       "       [1, 4, 7, 9]])"
      ]
     },
     "execution_count": 98,
     "metadata": {},
     "output_type": "execute_result"
    }
   ],
   "source": [
    "# sort - 매우 중요!!!! 기본: 행 단위로 정렬\n",
    "a = np. array([[3, 4, 5, 6],\n",
    "               [4, 6, 8, 2],\n",
    "               [4, 7, 9, 1]])\n",
    "np.sort(a)"
   ]
  },
  {
   "cell_type": "code",
   "execution_count": 94,
   "id": "3bb94256-5f93-4fbd-839d-cd0c6eee3141",
   "metadata": {},
   "outputs": [
    {
     "data": {
      "text/plain": [
       "array([1, 3, 4, 6, 8, 9, 4, 4, 4, 7, 9, 9])"
      ]
     },
     "execution_count": 94,
     "metadata": {},
     "output_type": "execute_result"
    }
   ],
   "source": [
    "b = np.array([1,3,4,6,8,9,4,4,4,7,9,9])\n",
    "\n",
    "np.sort(b); b"
   ]
  },
  {
   "cell_type": "code",
   "execution_count": 95,
   "id": "6230825b-c0fe-4294-9aad-3d0dd65c178c",
   "metadata": {},
   "outputs": [
    {
     "data": {
      "text/plain": [
       "array([[1, 2, 3, 4],\n",
       "       [4, 4, 5, 6],\n",
       "       [6, 7, 8, 9]])"
      ]
     },
     "execution_count": 95,
     "metadata": {},
     "output_type": "execute_result"
    }
   ],
   "source": [
    "a = a.reshape(-1)\n",
    "np.sort(a).reshape(3,4)"
   ]
  },
  {
   "cell_type": "code",
   "execution_count": 100,
   "id": "c538381d-3386-4769-9fd2-69c044d10aba",
   "metadata": {},
   "outputs": [
    {
     "data": {
      "text/plain": [
       "array([[3, 4, 5, 1],\n",
       "       [4, 6, 8, 2],\n",
       "       [4, 7, 9, 6]])"
      ]
     },
     "execution_count": 100,
     "metadata": {},
     "output_type": "execute_result"
    }
   ],
   "source": [
    "np.sort(a, axis = 0) # 열 단위로 정렬 -> 이거 무슨 기준이지"
   ]
  },
  {
   "cell_type": "code",
   "execution_count": 102,
   "id": "937612e3-798d-43cd-97ad-df72bde782e4",
   "metadata": {},
   "outputs": [
    {
     "data": {
      "text/plain": [
       "array([[1, 2, 3, 4],\n",
       "       [4, 4, 5, 6],\n",
       "       [6, 7, 8, 9]])"
      ]
     },
     "execution_count": 102,
     "metadata": {},
     "output_type": "execute_result"
    }
   ],
   "source": [
    "# 전체 정렬: rank2을 rank1로 바꾼 다음 정렬 수행 -> rank2로 배열\n",
    "np.sort(a.flatten()).reshape(a.shape)"
   ]
  },
  {
   "cell_type": "code",
   "execution_count": 103,
   "id": "2f746a5f-0023-42c4-8474-4ece0014ebc3",
   "metadata": {},
   "outputs": [
    {
     "data": {
      "text/plain": [
       "array([0, 1, 2, 3, 4, 5, 6, 7, 8])"
      ]
     },
     "execution_count": 103,
     "metadata": {},
     "output_type": "execute_result"
    }
   ],
   "source": [
    "x = np.arange(9); x"
   ]
  },
  {
   "cell_type": "code",
   "execution_count": 105,
   "id": "fb8f8461-9488-4451-968b-0efb68a46703",
   "metadata": {},
   "outputs": [
    {
     "data": {
      "text/plain": [
       "[array([0, 1, 2]), array([3, 4, 5]), array([6, 7, 8])]"
      ]
     },
     "execution_count": 105,
     "metadata": {},
     "output_type": "execute_result"
    }
   ],
   "source": [
    "# split: 배열 나누기(쪼개기), 각 값을 지정한 숫자로 등분해서 새로운 배열로 리턴\n",
    "np.split(x, 3)"
   ]
  },
  {
   "cell_type": "code",
   "execution_count": 106,
   "id": "bcee4f34-d032-486a-acb1-b8044bbff449",
   "metadata": {},
   "outputs": [
    {
     "data": {
      "text/plain": [
       "[array([0, 1, 2]), array([3, 4, 5]), array([6, 7, 8])]"
      ]
     },
     "execution_count": 106,
     "metadata": {},
     "output_type": "execute_result"
    }
   ],
   "source": [
    "y = np.split(x, 3); y"
   ]
  },
  {
   "cell_type": "code",
   "execution_count": 108,
   "id": "646b9fbb-72f6-4782-a891-37d357094d39",
   "metadata": {},
   "outputs": [
    {
     "name": "stdout",
     "output_type": "stream",
     "text": [
      "[0 1 2] : [3 4 5] : [6 7 8]\n"
     ]
    }
   ],
   "source": [
    "print(y[0], \":\",y[1],\":\",y[2])"
   ]
  },
  {
   "cell_type": "code",
   "execution_count": 109,
   "id": "cb94ee7e-9e0f-4dfe-b88f-a33307277a89",
   "metadata": {},
   "outputs": [
    {
     "data": {
      "text/plain": [
       "array([0, 1, 2, 3, 4, 5, 6, 7, 8])"
      ]
     },
     "execution_count": 109,
     "metadata": {},
     "output_type": "execute_result"
    }
   ],
   "source": [
    "# 등분할 숫자를 개수가 아닌 원본 배열의 인덱스 번호로 지정 가능\n",
    "x"
   ]
  },
  {
   "cell_type": "code",
   "execution_count": 110,
   "id": "5dbd2830-5649-4c7d-9fa8-d687212e5972",
   "metadata": {},
   "outputs": [
    {
     "data": {
      "text/plain": [
       "[array([0, 1, 2]), array([3, 4, 5, 6, 7, 8])]"
      ]
     },
     "execution_count": 110,
     "metadata": {},
     "output_type": "execute_result"
    }
   ],
   "source": [
    "x2 = np.split(x,[3]); x2"
   ]
  },
  {
   "cell_type": "code",
   "execution_count": 111,
   "id": "8202fdd5-c4a4-41f9-ae35-6d33c6b6d81e",
   "metadata": {},
   "outputs": [
    {
     "data": {
      "text/plain": [
       "[array([0, 1]), array([2, 3, 4]), array([5, 6]), array([7, 8])]"
      ]
     },
     "execution_count": 111,
     "metadata": {},
     "output_type": "execute_result"
    }
   ],
   "source": [
    "# 인덱스 번호 여러 개 지정 가능\n",
    "x3 = np.split(x, [2, 5, 7]); x3"
   ]
  },
  {
   "cell_type": "code",
   "execution_count": 115,
   "id": "6934dcff-2fb2-4b81-9cf5-13c3200aa546",
   "metadata": {},
   "outputs": [
    {
     "data": {
      "text/plain": [
       "[array([0, 1]),\n",
       " array([2, 3, 4]),\n",
       " array([5, 6]),\n",
       " array([7, 8]),\n",
       " array([], dtype=int32)]"
      ]
     },
     "execution_count": 115,
     "metadata": {},
     "output_type": "execute_result"
    }
   ],
   "source": [
    "x4 = np.split(x, [2, 5, 7, 10]); x4 # 없는 인덱스 번호가 있어도 에러가 발생하지 않는다. (pass 처리)"
   ]
  },
  {
   "cell_type": "code",
   "execution_count": 125,
   "id": "5b31af85-3e7d-40da-b058-4b0981cca851",
   "metadata": {},
   "outputs": [
    {
     "name": "stdout",
     "output_type": "stream",
     "text": [
      "[[[ 0  1  2  3]\n",
      "  [ 4  5  6  7]]\n",
      "\n",
      " [[ 8  9 10 11]\n",
      "  [12 13 14 15]]]\n",
      "------------------------------\n",
      "3 (2, 2, 4)\n",
      "------------------------------\n",
      "[array([[[ 0,  1],\n",
      "        [ 4,  5]],\n",
      "\n",
      "       [[ 8,  9],\n",
      "        [12, 13]]]), array([[[ 2,  3],\n",
      "        [ 6,  7]],\n",
      "\n",
      "       [[10, 11],\n",
      "        [14, 15]]])]\n"
     ]
    }
   ],
   "source": [
    "# dsplit(): 다른 깊이를 같은 열 기준으로 나눠서 묶기\n",
    "# dsplit(depth(깊이), axis(축))\n",
    "y = np.arange(16).reshape(2, 2, 4);  print(y)\n",
    "print('-' * 30)\n",
    "print(y.ndim, y.shape)\n",
    "print('-' * 30)\n",
    "print(np.dsplit(y, 2))"
   ]
  },
  {
   "cell_type": "code",
   "execution_count": 127,
   "id": "165cc177-dc37-4b53-95de-bfad8bc5dafb",
   "metadata": {},
   "outputs": [
    {
     "data": {
      "text/plain": [
       "[array([[[ 0,  1,  2,  3]],\n",
       " \n",
       "        [[ 8,  9, 10, 11]]]),\n",
       " array([[[ 4,  5,  6,  7]],\n",
       " \n",
       "        [[12, 13, 14, 15]]])]"
      ]
     },
     "execution_count": 127,
     "metadata": {},
     "output_type": "execute_result"
    }
   ],
   "source": [
    "# hsplit(): 다른 깊이를 같은 행 기준으로 같이 나눠서 묶기\n",
    "y2 = np.hsplit(y, 2); y2"
   ]
  },
  {
   "cell_type": "code",
   "execution_count": 130,
   "id": "d32c0188-edb5-4427-8b38-6475a11b4b19",
   "metadata": {},
   "outputs": [
    {
     "data": {
      "text/plain": [
       "array([[ 1,  2,  3,  4],\n",
       "       [ 5,  6,  7,  8],\n",
       "       [ 9, 10, 11, 12]])"
      ]
     },
     "execution_count": 130,
     "metadata": {},
     "output_type": "execute_result"
    }
   ],
   "source": [
    "# 요소에 대한 추가/ 삭제\n",
    "arr = np.array([[1,2,3,4], \n",
    "                [5,6,7,8],\n",
    "                [9,10,11,12]]); arr"
   ]
  },
  {
   "cell_type": "code",
   "execution_count": 134,
   "id": "73cefcec-0fb5-47d6-b96f-886f520803fb",
   "metadata": {},
   "outputs": [
    {
     "data": {
      "text/plain": [
       "array([ 1,  3,  4,  5,  6,  7,  8,  9, 10, 11, 12])"
      ]
     },
     "execution_count": 134,
     "metadata": {},
     "output_type": "execute_result"
    }
   ],
   "source": [
    "# 삭제: np.delete(원데이터, index, axis)\n",
    "arr1 = np.delete(arr, 1); arr1 # axis를 지정하지 않으면 모든 요소 지정함에 유의 + 공간이 null이 된 게 아니라 자체가 사라짐\n",
    "## why?? delete 자체가 내부에서 flatten화 시켜서 제거하는 것 so, [0, 1] 이렇게 인덱스 지정하면 0행 1열이 삭제되는 게 아니라 0번, 1번 인덱스가 지워지는 것"
   ]
  },
  {
   "cell_type": "code",
   "execution_count": 135,
   "id": "90f93701-1d86-46a1-93e2-f2925909585e",
   "metadata": {},
   "outputs": [
    {
     "data": {
      "text/plain": [
       "array([ 3,  4,  5,  6,  7,  8,  9, 10, 11, 12])"
      ]
     },
     "execution_count": 135,
     "metadata": {},
     "output_type": "execute_result"
    }
   ],
   "source": [
    "arr2 = np.delete(arr, [0,1]); arr2"
   ]
  },
  {
   "cell_type": "code",
   "execution_count": 140,
   "id": "94db0af1-f14d-49ac-a775-8e015ab3ea81",
   "metadata": {},
   "outputs": [
    {
     "data": {
      "text/plain": [
       "array([[ 1,  2,  3,  4],\n",
       "       [ 9, 10, 11, 12]])"
      ]
     },
     "execution_count": 140,
     "metadata": {},
     "output_type": "execute_result"
    }
   ],
   "source": [
    "arr3 = np.delete(arr, 1, 0); arr3 # axis = 0은 행 삭제"
   ]
  },
  {
   "cell_type": "code",
   "execution_count": 141,
   "id": "6591e4da-47af-403d-b69a-72dcd40f5825",
   "metadata": {},
   "outputs": [
    {
     "data": {
      "text/plain": [
       "array([[ 1,  3,  4],\n",
       "       [ 5,  7,  8],\n",
       "       [ 9, 11, 12]])"
      ]
     },
     "execution_count": 141,
     "metadata": {},
     "output_type": "execute_result"
    }
   ],
   "source": [
    "arr4 = np.delete(arr, 1, 1); arr4 # axis = 1은 열 삭제"
   ]
  },
  {
   "cell_type": "code",
   "execution_count": 171,
   "id": "ca49e3a0-f9ec-41e9-a6a6-94b05bb9868a",
   "metadata": {},
   "outputs": [
    {
     "data": {
      "text/plain": [
       "array([[1, 1],\n",
       "       [2, 2],\n",
       "       [3, 3]])"
      ]
     },
     "execution_count": 171,
     "metadata": {},
     "output_type": "execute_result"
    }
   ],
   "source": [
    "# 추가: insert(원데이터, index, 추가할 데이터, axis) -> 특정 위치(인덱스)에 추가하고 싶을 때\n",
    "a = np.array([[1,1],\n",
    "              [2,2],\n",
    "              [3,3]]); a"
   ]
  },
  {
   "cell_type": "code",
   "execution_count": 148,
   "id": "ccde3988-25fd-476a-af4c-669495faa586",
   "metadata": {},
   "outputs": [
    {
     "data": {
      "text/plain": [
       "array([  1, 100,   1,   2,   2,   3,   3])"
      ]
     },
     "execution_count": 148,
     "metadata": {},
     "output_type": "execute_result"
    }
   ],
   "source": [
    "a1 = np.insert(a, 1, 100); a1 # axis를 지정하지 않으면 모든 요소 지정함에 유의 (flatten화 시키고 요소 추가) + 배열의 크기가 자동으로 커짐"
   ]
  },
  {
   "cell_type": "code",
   "execution_count": 158,
   "id": "09374870-09ac-4af7-b1aa-73f6e7c64b63",
   "metadata": {},
   "outputs": [
    {
     "data": {
      "text/plain": [
       "array([[  1,   1],\n",
       "       [100, 100],\n",
       "       [  2,   2],\n",
       "       [  3,   3]])"
      ]
     },
     "execution_count": 158,
     "metadata": {},
     "output_type": "execute_result"
    }
   ],
   "source": [
    "a2 = np.insert(a, 1, 100, 0); a2 # axis = 0은 행 추가"
   ]
  },
  {
   "cell_type": "code",
   "execution_count": 159,
   "id": "4690a497-a902-49ad-a32c-b2d642f2148c",
   "metadata": {},
   "outputs": [
    {
     "data": {
      "text/plain": [
       "array([[ 1, 99,  1],\n",
       "       [ 2, 99,  2],\n",
       "       [ 3, 99,  3]])"
      ]
     },
     "execution_count": 159,
     "metadata": {},
     "output_type": "execute_result"
    }
   ],
   "source": [
    "a3 = np.insert(a, 1, 99, 1); a3 #axis = 1은 열 추가"
   ]
  },
  {
   "cell_type": "code",
   "execution_count": 169,
   "id": "6a54fa61-db79-461d-97e2-195fe24c63bf",
   "metadata": {},
   "outputs": [
    {
     "data": {
      "text/plain": [
       "array([[1, 1],\n",
       "       [2, 2],\n",
       "       [2, 9],\n",
       "       [3, 3]])"
      ]
     },
     "execution_count": 169,
     "metadata": {},
     "output_type": "execute_result"
    }
   ],
   "source": [
    "# 서로 다른 값을 추가하려면 리스트 형식으로 지정\n",
    "a4 = np.insert(a, 2, [2, 9], 0); a4 #axis = 0은 행 추가"
   ]
  },
  {
   "cell_type": "code",
   "execution_count": 170,
   "id": "2eb65463-1269-4427-aca0-c1364055ef00",
   "metadata": {},
   "outputs": [
    {
     "data": {
      "text/plain": [
       "array([[ 1, 99,  1],\n",
       "       [ 2, 31,  2],\n",
       "       [ 3, 28,  3]])"
      ]
     },
     "execution_count": 170,
     "metadata": {},
     "output_type": "execute_result"
    }
   ],
   "source": [
    "# 서로 다른 값을 추가하려면 리스트 형식으로 지정\n",
    "a5 = np.insert(a, 1, [99, 31, 28], 1); a5 #axis = 1은 열 추가"
   ]
  },
  {
   "cell_type": "code",
   "execution_count": 186,
   "id": "8e5c3993-2e8d-46a8-915c-0376d8372637",
   "metadata": {},
   "outputs": [
    {
     "data": {
      "text/plain": [
       "array([[1, 2, 3],\n",
       "       [4, 5, 6]])"
      ]
     },
     "execution_count": 186,
     "metadata": {},
     "output_type": "execute_result"
    }
   ],
   "source": [
    "# 추가: append(원데이터, 추가할 데이터, axis(축)) -> 연속해서(뒷 부분에) 추가(순서대로)하고 싶을 때\n",
    "# np.append()는 rank가 같아야 결합이 가능\n",
    "b = np.array([[1,2,3], \n",
    "              [4,5,6]]); b"
   ]
  },
  {
   "cell_type": "code",
   "execution_count": 187,
   "id": "58810a66-7b1f-463a-834d-adbed37b30ff",
   "metadata": {},
   "outputs": [
    {
     "data": {
      "text/plain": [
       "array([  1,   2,   3,   4,   5,   6, 100])"
      ]
     },
     "execution_count": 187,
     "metadata": {},
     "output_type": "execute_result"
    }
   ],
   "source": [
    "b2 = np.append(b, 100); b2"
   ]
  },
  {
   "cell_type": "code",
   "execution_count": 188,
   "id": "ea98ac29-931d-43b9-bd0e-d16a1bf537af",
   "metadata": {},
   "outputs": [
    {
     "ename": "ValueError",
     "evalue": "all the input arrays must have same number of dimensions, but the array at index 0 has 2 dimension(s) and the array at index 1 has 1 dimension(s)",
     "output_type": "error",
     "traceback": [
      "\u001b[1;31m---------------------------------------------------------------------------\u001b[0m",
      "\u001b[1;31mValueError\u001b[0m                                Traceback (most recent call last)",
      "Cell \u001b[1;32mIn[188], line 1\u001b[0m\n\u001b[1;32m----> 1\u001b[0m b3 \u001b[38;5;241m=\u001b[39m \u001b[43mnp\u001b[49m\u001b[38;5;241;43m.\u001b[39;49m\u001b[43mappend\u001b[49m\u001b[43m(\u001b[49m\u001b[43mb\u001b[49m\u001b[43m,\u001b[49m\u001b[43m \u001b[49m\u001b[43m[\u001b[49m\u001b[38;5;241;43m23\u001b[39;49m\u001b[43m,\u001b[49m\u001b[38;5;241;43m19\u001b[39;49m\u001b[43m,\u001b[49m\u001b[38;5;241;43m21\u001b[39;49m\u001b[43m]\u001b[49m\u001b[43m,\u001b[49m\u001b[43m \u001b[49m\u001b[38;5;241;43m0\u001b[39;49m\u001b[43m)\u001b[49m; b3\n",
      "File \u001b[1;32m~\\anaconda3\\envs\\ju_env\\lib\\site-packages\\numpy\\lib\\function_base.py:5618\u001b[0m, in \u001b[0;36mappend\u001b[1;34m(arr, values, axis)\u001b[0m\n\u001b[0;32m   5616\u001b[0m     values \u001b[38;5;241m=\u001b[39m ravel(values)\n\u001b[0;32m   5617\u001b[0m     axis \u001b[38;5;241m=\u001b[39m arr\u001b[38;5;241m.\u001b[39mndim\u001b[38;5;241m-\u001b[39m\u001b[38;5;241m1\u001b[39m\n\u001b[1;32m-> 5618\u001b[0m \u001b[38;5;28;01mreturn\u001b[39;00m \u001b[43mconcatenate\u001b[49m\u001b[43m(\u001b[49m\u001b[43m(\u001b[49m\u001b[43marr\u001b[49m\u001b[43m,\u001b[49m\u001b[43m \u001b[49m\u001b[43mvalues\u001b[49m\u001b[43m)\u001b[49m\u001b[43m,\u001b[49m\u001b[43m \u001b[49m\u001b[43maxis\u001b[49m\u001b[38;5;241;43m=\u001b[39;49m\u001b[43maxis\u001b[49m\u001b[43m)\u001b[49m\n",
      "\u001b[1;31mValueError\u001b[0m: all the input arrays must have same number of dimensions, but the array at index 0 has 2 dimension(s) and the array at index 1 has 1 dimension(s)"
     ]
    }
   ],
   "source": [
    "b3 = np.append(b, [23,19,21], 0); b3 # 차원이 안 맞는다고 에러"
   ]
  },
  {
   "cell_type": "code",
   "execution_count": 189,
   "id": "3535fa81-afb5-4671-8528-e5b272ed0437",
   "metadata": {},
   "outputs": [
    {
     "data": {
      "text/plain": [
       "array([[ 1,  2,  3],\n",
       "       [ 4,  5,  6],\n",
       "       [34, 29, 51]])"
      ]
     },
     "execution_count": 189,
     "metadata": {},
     "output_type": "execute_result"
    }
   ],
   "source": [
    "b4 = np.append(b, [[34, 29,51]], 0); b4"
   ]
  },
  {
   "cell_type": "code",
   "execution_count": 194,
   "id": "549ee990-8cfb-49bb-bb45-1682cc840401",
   "metadata": {},
   "outputs": [
    {
     "data": {
      "text/plain": [
       "array([[1, 2, 3],\n",
       "       [4, 5, 6],\n",
       "       [7, 8, 9]])"
      ]
     },
     "execution_count": 194,
     "metadata": {},
     "output_type": "execute_result"
    }
   ],
   "source": [
    "# cf) vsatck(): 행을 자동으로 추가해주는 함수\n",
    "b5 = np.vstack((b, [7,8,9])); b5\n",
    "# 왜 괄호 두 개??"
   ]
  },
  {
   "cell_type": "code",
   "execution_count": 201,
   "id": "ac0a2067-ae7a-4a86-819b-6bd063926485",
   "metadata": {},
   "outputs": [
    {
     "data": {
      "text/plain": [
       "array([[1, 2, 3, 7],\n",
       "       [4, 5, 6, 8]])"
      ]
     },
     "execution_count": 201,
     "metadata": {},
     "output_type": "execute_result"
    }
   ],
   "source": [
    "# [실습]\n",
    "# 1, 2, 3, 7\n",
    "# 4, 5, 6, 8 \n",
    "#b에 append로 추가하여 출력\n",
    "b6 = np.append(b, [[7], [8]], 1); b6 # rank가 같아야 하니까 2행 1열로 추가할 데이터를 입력해줘야 함"
   ]
  },
  {
   "cell_type": "code",
   "execution_count": null,
   "id": "a5370a31-9bd8-45d7-bf3c-5fa17e091cc8",
   "metadata": {},
   "outputs": [],
   "source": []
  },
  {
   "cell_type": "code",
   "execution_count": null,
   "id": "f0ed5230-3d07-429c-8a8c-64d9c868d1b6",
   "metadata": {},
   "outputs": [],
   "source": []
  },
  {
   "cell_type": "code",
   "execution_count": null,
   "id": "d7fc2243-ecba-4970-933a-1c82d4733ead",
   "metadata": {},
   "outputs": [],
   "source": []
  },
  {
   "cell_type": "code",
   "execution_count": null,
   "id": "3c948515-164c-404e-bbcf-92a937886dfd",
   "metadata": {},
   "outputs": [],
   "source": []
  },
  {
   "cell_type": "code",
   "execution_count": null,
   "id": "e40787ef-f32d-4c4d-bbc8-a91018e1dcec",
   "metadata": {},
   "outputs": [],
   "source": []
  },
  {
   "cell_type": "code",
   "execution_count": null,
   "id": "1f638236-00d7-4b82-82db-f975fd10ebe4",
   "metadata": {},
   "outputs": [],
   "source": []
  },
  {
   "cell_type": "code",
   "execution_count": null,
   "id": "2af61eb2-ba9d-4b27-8491-06d0d54b4a4e",
   "metadata": {},
   "outputs": [],
   "source": []
  },
  {
   "cell_type": "code",
   "execution_count": null,
   "id": "c1f104ad-d498-4b3b-9e51-c5822210afd0",
   "metadata": {},
   "outputs": [],
   "source": []
  },
  {
   "cell_type": "code",
   "execution_count": null,
   "id": "7a1420d9-8946-4289-8633-a665c4e4ee6c",
   "metadata": {},
   "outputs": [],
   "source": []
  },
  {
   "cell_type": "code",
   "execution_count": null,
   "id": "30133387-0ac5-491d-af37-1e3053926c79",
   "metadata": {},
   "outputs": [],
   "source": []
  },
  {
   "cell_type": "code",
   "execution_count": null,
   "id": "74467019-cea0-47cf-a096-88a859963496",
   "metadata": {},
   "outputs": [],
   "source": []
  },
  {
   "cell_type": "code",
   "execution_count": null,
   "id": "0a781386-1ae8-4011-aa7e-e2e0c73f1fca",
   "metadata": {},
   "outputs": [],
   "source": []
  },
  {
   "cell_type": "code",
   "execution_count": null,
   "id": "b1cda51e-9eb3-49ac-bb5a-5e2bc7c5a31c",
   "metadata": {},
   "outputs": [],
   "source": []
  },
  {
   "cell_type": "code",
   "execution_count": null,
   "id": "b0512605-aee2-425a-b5f4-e50fdc5562b4",
   "metadata": {},
   "outputs": [],
   "source": []
  },
  {
   "cell_type": "code",
   "execution_count": null,
   "id": "0d599975-6388-4863-bdae-34d84f96e2f9",
   "metadata": {},
   "outputs": [],
   "source": []
  }
 ],
 "metadata": {
  "kernelspec": {
   "display_name": "Python 3 (ipykernel)",
   "language": "python",
   "name": "python3"
  },
  "language_info": {
   "codemirror_mode": {
    "name": "ipython",
    "version": 3
   },
   "file_extension": ".py",
   "mimetype": "text/x-python",
   "name": "python",
   "nbconvert_exporter": "python",
   "pygments_lexer": "ipython3",
   "version": "3.9.18"
  }
 },
 "nbformat": 4,
 "nbformat_minor": 5
}
