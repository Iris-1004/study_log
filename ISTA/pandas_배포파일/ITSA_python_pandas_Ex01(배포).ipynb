{
  "nbformat": 4,
  "nbformat_minor": 0,
  "metadata": {
    "colab": {
      "provenance": []
    },
    "kernelspec": {
      "name": "python3",
      "display_name": "Python 3"
    },
    "language_info": {
      "name": "python"
    }
  },
  "cells": [
    {
      "cell_type": "markdown",
      "source": [
        "# Pandas\n",
        "\n",
        "* 데이터 조작 및 분석 기능을 제공하는 라이브러리\n",
        "\n",
        "* 다양한 형식의 데이터를 읽고 원하는 데이터 형식으로 변환하는 작업에 장점이 있다.\n",
        "\n",
        "* pandas 자료 구조 : Series, DataFrame"
      ],
      "metadata": {
        "id": "vt0vlavNqIRE"
      }
    },
    {
      "cell_type": "code",
      "execution_count": null,
      "metadata": {
        "id": "10AGH3oxp_oC"
      },
      "outputs": [],
      "source": [
        "import pandas as pd\n",
        "from pandas import Series, DataFrame\n",
        "import numpy as np"
      ]
    },
    {
      "cell_type": "markdown",
      "source": [
        "## Series 객체"
      ],
      "metadata": {
        "id": "S1j3M43trDS9"
      }
    },
    {
      "cell_type": "code",
      "source": [
        "# Series 객체는 일차원 배열 같은 자료구조 객체\n",
        "obj = Series([3, 22, 34, 11])\n",
        "\n",
        "obj"
      ],
      "metadata": {
        "id": "m-vMZA7QqAK7"
      },
      "execution_count": null,
      "outputs": []
    },
    {
      "cell_type": "code",
      "source": [
        "# cf) list, ndarray, Series 비교\n",
        "arr1 = [3, 22, 34, 11]\n",
        "print(arr1, type(arr1))\n",
        "\n",
        "print('-'*30)\n",
        "\n",
        "import numpy as np\n",
        "arr2 = np.array([3, 22, 34, 11])\n",
        "print(arr2, type(arr2))\n",
        "\n",
        "print('-'*40)\n",
        "print(obj, type(obj))"
      ],
      "metadata": {
        "id": "ErueeA4NqAFc"
      },
      "execution_count": null,
      "outputs": []
    },
    {
      "cell_type": "code",
      "source": [
        "print(obj.values, ' - ', type(obj.values))\n",
        "print('-'*40)\n",
        "print(obj.index)"
      ],
      "metadata": {
        "id": "I-LBp_4HqADE"
      },
      "execution_count": null,
      "outputs": []
    },
    {
      "cell_type": "code",
      "source": [
        "# index를 RangeIndex 객체로 관리 -> 수정 가능\n",
        "obj2 = Series([4, 5, 6, 2], index=['c', 'd', 'e', 'f'])\n",
        "obj2"
      ],
      "metadata": {
        "id": "7yYRSRxutgz1"
      },
      "execution_count": null,
      "outputs": []
    },
    {
      "cell_type": "code",
      "source": [
        "# indexing\n",
        "obj2['c']"
      ],
      "metadata": {
        "id": "mlU17-QLtgw1"
      },
      "execution_count": null,
      "outputs": []
    },
    {
      "cell_type": "code",
      "source": [
        "obj2.index"
      ],
      "metadata": {
        "id": "2N7dU6L1tguN"
      },
      "execution_count": null,
      "outputs": []
    },
    {
      "cell_type": "code",
      "source": [
        "obj2[0]      # Index가 object로 바뀌어도 index number를 통한 indexing은 가능"
      ],
      "metadata": {
        "id": "YEQG8r5Xtgru"
      },
      "execution_count": null,
      "outputs": []
    },
    {
      "cell_type": "code",
      "source": [
        "# 요소를 한꺼번에 지정 : 슬라이싱 - 연속\n",
        "print(obj2[0:2])     # 미만까지로 해석\n",
        "print('--------------')\n",
        "print(obj2['c':'e'])  # 까지로 해석"
      ],
      "metadata": {
        "id": "j_NeAaJAvF0M"
      },
      "execution_count": null,
      "outputs": []
    },
    {
      "cell_type": "code",
      "source": [
        "# 요소를 한꺼번에 지정 : 연속적인 데이터가 아니어도 한꺼번에 추출 가능\n",
        "print(obj2[[0, 1, 3]])\n",
        "print('----------------------')\n",
        "print(obj2[['c', 'd', 'f']])"
      ],
      "metadata": {
        "id": "h8eMzeeCvFt8"
      },
      "execution_count": null,
      "outputs": []
    },
    {
      "cell_type": "code",
      "source": [
        "# 배열 연산 가능\n",
        "obj2 * 2"
      ],
      "metadata": {
        "id": "Y1SS_A58vFrc"
      },
      "execution_count": null,
      "outputs": []
    },
    {
      "cell_type": "code",
      "source": [
        "# cf) 파이썬의 반복 기능과 구분\n",
        "[1, 2, 3] * 2"
      ],
      "metadata": {
        "id": "MjLwEJVMx768"
      },
      "execution_count": null,
      "outputs": []
    },
    {
      "cell_type": "code",
      "source": [
        "# 인덱스 존재 여부 : in (True / False로 리턴)\n",
        "print('b' in obj2)\n",
        "print('-'*40)\n",
        "print('c' in obj2)"
      ],
      "metadata": {
        "id": "87gHv7yTx71c"
      },
      "execution_count": null,
      "outputs": []
    },
    {
      "cell_type": "code",
      "source": [
        "# 파이썬 딕셔너리 자료형으로 Series 객체 생성 가능\n",
        "data = {'kim' : 3400, 'hong' : 2000, 'kang' : 1000, 'lee' : 2400}\n",
        "\n",
        "obj3 = Series(data)\n",
        "obj3"
      ],
      "metadata": {
        "id": "WKsvlexjx7yl"
      },
      "execution_count": null,
      "outputs": []
    },
    {
      "cell_type": "code",
      "source": [
        "name = ['woo', 'hong', 'kang', 'lee']\n",
        "\n",
        "obj4 = Series(data, index=name)\n",
        "obj4"
      ],
      "metadata": {
        "id": "h0FAz2hdywYe"
      },
      "execution_count": null,
      "outputs": []
    },
    {
      "cell_type": "code",
      "source": [
        "data = {'Seoul' : 4000, 'Busan' : 2000, 'Incheon' : 1500, 'Gwangju' : 1000}\n",
        "\n",
        "obj = Series(data)\n",
        "\n",
        "obj"
      ],
      "metadata": {
        "id": "nz0Ic-efywV8"
      },
      "execution_count": null,
      "outputs": []
    },
    {
      "cell_type": "code",
      "source": [
        "print(obj.index)\n",
        "print('------------')\n",
        "print(obj.values)"
      ],
      "metadata": {
        "id": "gAsYuFTQywT1"
      },
      "execution_count": null,
      "outputs": []
    },
    {
      "cell_type": "code",
      "source": [
        "cities = ['Seoul', 'Daegu', 'Incheon', 'Gwangju']\n",
        "\n",
        "obj2 = Series(data, index=cities)\n",
        "\n",
        "obj2"
      ],
      "metadata": {
        "id": "_3NtBZ1EywRF"
      },
      "execution_count": null,
      "outputs": []
    },
    {
      "cell_type": "code",
      "source": [
        "obj + obj2         # NaN은 연산이 안됨"
      ],
      "metadata": {
        "id": "xFWRVHWe6FPt"
      },
      "execution_count": null,
      "outputs": []
    },
    {
      "cell_type": "code",
      "source": [
        "print(obj)\n",
        "print('------------')\n",
        "print(obj2)"
      ],
      "metadata": {
        "id": "zKFT4s5w6FM1"
      },
      "execution_count": null,
      "outputs": []
    },
    {
      "cell_type": "code",
      "source": [
        "obj.index"
      ],
      "metadata": {
        "id": "XV-m5rqn6FKV"
      },
      "execution_count": null,
      "outputs": []
    },
    {
      "cell_type": "code",
      "source": [
        "# index 객체를 통한 이름 변경 가능\n",
        "obj.index = ['Seoul', 'Daegu', 'Incheon', 'Gwangju']\n",
        "\n",
        "obj"
      ],
      "metadata": {
        "id": "DDzX4TBX6FHn"
      },
      "execution_count": null,
      "outputs": []
    },
    {
      "cell_type": "code",
      "source": [
        "obj + obj2"
      ],
      "metadata": {
        "id": "gO3a25Fp7LGl"
      },
      "execution_count": null,
      "outputs": []
    },
    {
      "cell_type": "code",
      "source": [
        "# 결측치(누락데이터)를 찾을 때 사용하는 함수\n",
        "print(pd.isnull(obj2))        # null 인 값\n",
        "print('-'*50)\n",
        "print(pd.notnull(obj2))       # null이 아닌 값"
      ],
      "metadata": {
        "id": "KOICul-77LDm"
      },
      "execution_count": null,
      "outputs": []
    },
    {
      "cell_type": "code",
      "source": [
        "# Series 객체와 Series의 Index(색인) 객체는 모두 name 속성이 있음\n",
        "obj2.name = '인구수'\n",
        "\n",
        "obj2"
      ],
      "metadata": {
        "id": "F5HcHlXh7LBG"
      },
      "execution_count": null,
      "outputs": []
    },
    {
      "cell_type": "code",
      "source": [
        "obj2.index.name = '도시'\n",
        "\n",
        "obj2"
      ],
      "metadata": {
        "id": "R0WCGeXy8M8U"
      },
      "execution_count": null,
      "outputs": []
    },
    {
      "cell_type": "markdown",
      "source": [
        "## DataFrame 객체"
      ],
      "metadata": {
        "id": "LSdadd-4FGb9"
      }
    },
    {
      "cell_type": "code",
      "source": [
        "# DataFrame은 2차원 배열 같은 자료구조 객체\n",
        "x = DataFrame([\n",
        "    [1, 2, 3],\n",
        "    [4, 5, 6],\n",
        "    [7, 8, 9]\n",
        "])\n",
        "\n",
        "x"
      ],
      "metadata": {
        "id": "TrO3pOty8M5M"
      },
      "execution_count": null,
      "outputs": []
    },
    {
      "cell_type": "code",
      "source": [
        "x[0]"
      ],
      "metadata": {
        "id": "hqRBElB3YJGn"
      },
      "execution_count": null,
      "outputs": []
    },
    {
      "cell_type": "code",
      "source": [
        "arr2 = np.arange(9).reshape(3, 3); arr2"
      ],
      "metadata": {
        "id": "99ceXPhH8M2l"
      },
      "execution_count": null,
      "outputs": []
    },
    {
      "cell_type": "code",
      "source": [
        "# 인덱스 객체 확인\n",
        "print(x.columns)\n",
        "print('-'*40)\n",
        "print(x.index)"
      ],
      "metadata": {
        "id": "kVj8SGMzFD9E"
      },
      "execution_count": null,
      "outputs": []
    },
    {
      "cell_type": "code",
      "source": [
        "# 딕셔너리로도 데이터프레임 생성 가능\n",
        "data = {\n",
        "    'city' : ['서울', '부산', '광주', '대구'],\n",
        "    'year' : [2000, 2001, 2002, 2002],\n",
        "    'pop'  : [4000, 2000, 1000, 1000]\n",
        "}\n",
        "\n",
        "df = DataFrame(data)\n",
        "df"
      ],
      "metadata": {
        "id": "OSW-Olp1FD6d"
      },
      "execution_count": null,
      "outputs": []
    },
    {
      "cell_type": "code",
      "source": [
        "# 인덱스 객체 확인\n",
        "print(df.columns)\n",
        "print('-'*40)\n",
        "print(df.index)"
      ],
      "metadata": {
        "id": "Jd4vH4wTFD31"
      },
      "execution_count": null,
      "outputs": []
    },
    {
      "cell_type": "code",
      "source": [
        "# 컬럼 순서를 변경해서 새로운 데이터셋 생성 가능 - 여러 데이터를 한꺼번에 추출\n",
        "df2 = DataFrame(data, columns=['year', 'city', 'pop'])\n",
        "\n",
        "df2"
      ],
      "metadata": {
        "id": "s8Um1gBqFD1e"
      },
      "execution_count": null,
      "outputs": []
    },
    {
      "cell_type": "code",
      "source": [
        "# 컬럼을 지정하면서 인덱스도 변경 가능\n",
        "df3 = DataFrame(data, columns=['year', 'city', 'pop'], index=['one', 'two', 'three', 'four'])\n",
        "df3"
      ],
      "metadata": {
        "id": "zyQlm06BFDy9"
      },
      "execution_count": null,
      "outputs": []
    },
    {
      "cell_type": "code",
      "source": [
        "# 인덱스 객체에서 변경 / 추가 (열)\n",
        "df4 = DataFrame(data, columns=['year', 'city', 'pop', 'debt'], index=['one', 'two', 'three', 'four'])\n",
        "df4"
      ],
      "metadata": {
        "id": "aoJyrXYdFDwX"
      },
      "execution_count": null,
      "outputs": []
    },
    {
      "cell_type": "code",
      "source": [
        "# 데이터프레임 indexing - 기본 컬럼 인덱싱\n",
        "df4['city']   # 열 선택하는 방법 - 1"
      ],
      "metadata": {
        "id": "8Od-0oL0KptO"
      },
      "execution_count": null,
      "outputs": []
    },
    {
      "cell_type": "code",
      "source": [
        "print(type(df['city']))"
      ],
      "metadata": {
        "id": "YWY_y7CwKpqF"
      },
      "execution_count": null,
      "outputs": []
    },
    {
      "cell_type": "code",
      "source": [
        "df4.city      # 열 선택하는 방법 - 2"
      ],
      "metadata": {
        "id": "AJpQYWvoKpnm"
      },
      "execution_count": null,
      "outputs": []
    },
    {
      "cell_type": "code",
      "source": [
        "df4[['city']]   # 열 선택하는 방법 - 3 : 데이터프레임으로 리턴됨"
      ],
      "metadata": {
        "id": "CQk2YMepT61G"
      },
      "execution_count": null,
      "outputs": []
    },
    {
      "cell_type": "code",
      "source": [
        "df4[['city', 'year']]   # 여러 열을 선택하는 방법"
      ],
      "metadata": {
        "id": "pWCSDHsdT6zG"
      },
      "execution_count": null,
      "outputs": []
    },
    {
      "cell_type": "code",
      "source": [
        "df4['city', 'year']"
      ],
      "metadata": {
        "id": "RJtKzuQUT6wn"
      },
      "execution_count": null,
      "outputs": []
    },
    {
      "cell_type": "code",
      "source": [
        "# 컬럼 인덱싱은 현재 컬럼으로만 가능하다\n",
        "print(df4['city'])\n",
        "print('-'*40)\n",
        "print(df4[1])"
      ],
      "metadata": {
        "id": "jiepwp21T6t-"
      },
      "execution_count": null,
      "outputs": []
    },
    {
      "cell_type": "code",
      "source": [
        "# 인덱스 인덱싱\n",
        "#print(df4['one'])\n",
        "print('-'*40)\n",
        "#print(df4[0])"
      ],
      "metadata": {
        "id": "JpWQ1fQEXJMl"
      },
      "execution_count": null,
      "outputs": []
    },
    {
      "cell_type": "code",
      "source": [
        "# 행(row) 기반 인덱싱 할 때 필요한 메소드\n",
        "# .iloc[index number] : position(위치) 기반으로 indexing\n",
        "# .loc[name]          : label 기반을 indexing"
      ],
      "metadata": {
        "id": "6RJPL03QXJKZ"
      },
      "execution_count": null,
      "outputs": []
    },
    {
      "cell_type": "code",
      "source": [
        "df4"
      ],
      "metadata": {
        "id": "9P3G7ZluXJHw"
      },
      "execution_count": null,
      "outputs": []
    },
    {
      "cell_type": "code",
      "source": [
        "df4.loc['three']"
      ],
      "metadata": {
        "id": "TDgMB0fYXJFN"
      },
      "execution_count": null,
      "outputs": []
    },
    {
      "cell_type": "code",
      "source": [
        "df4.loc.three"
      ],
      "metadata": {
        "id": "lUxwmTsfXJCZ"
      },
      "execution_count": null,
      "outputs": []
    },
    {
      "cell_type": "code",
      "source": [
        "df4.loc[['three', 'one']]  # 여러 행을 선택하는 방법"
      ],
      "metadata": {
        "id": "7br2JZ1NZ7gU"
      },
      "execution_count": null,
      "outputs": []
    },
    {
      "cell_type": "code",
      "source": [
        "df4.iloc[2]"
      ],
      "metadata": {
        "id": "leiKIdbnaGY_"
      },
      "execution_count": null,
      "outputs": []
    },
    {
      "cell_type": "code",
      "source": [
        "df4.iloc[[2, 0]]"
      ],
      "metadata": {
        "id": "kTYWFVWcZ7dl"
      },
      "execution_count": null,
      "outputs": []
    },
    {
      "cell_type": "code",
      "source": [
        "df4"
      ],
      "metadata": {
        "id": "VuD_zZz3Z7a1"
      },
      "execution_count": null,
      "outputs": []
    },
    {
      "cell_type": "code",
      "source": [
        "# 값만 추출\n",
        "df4.values"
      ],
      "metadata": {
        "id": "-SyouBb3ai7W"
      },
      "execution_count": null,
      "outputs": []
    },
    {
      "cell_type": "code",
      "source": [
        "df4"
      ],
      "metadata": {
        "id": "4UpcHtIvai4n"
      },
      "execution_count": null,
      "outputs": []
    },
    {
      "cell_type": "code",
      "source": [
        "# 값 삽입\n",
        "df4.debt = 1000\n",
        "df4"
      ],
      "metadata": {
        "id": "y79Rlhg4ai19"
      },
      "execution_count": null,
      "outputs": []
    },
    {
      "cell_type": "code",
      "source": [
        "# 여러 값을 삽입\n",
        "import numpy as np\n",
        "\n",
        "df4['debt'] = np.arange(4)\n",
        "\n",
        "df4"
      ],
      "metadata": {
        "id": "PjmxQc4EbNAd"
      },
      "execution_count": null,
      "outputs": []
    },
    {
      "cell_type": "code",
      "source": [
        "# Series 이용해서 값 삽입 (유의 - index 매칭이 필요)\n",
        "val = Series([1000, 2000, 3000, 4000], index=['one', 'two', 'three', 'four'])\n",
        "\n",
        "df4['debt'] = val\n",
        "\n",
        "df4"
      ],
      "metadata": {
        "id": "9o2e0BLlbM9V"
      },
      "execution_count": null,
      "outputs": []
    },
    {
      "cell_type": "code",
      "source": [
        "# 컬럼을 추가하면서 연산결과를 삽입\n",
        "#(df4['city'] == '서울')\n",
        "df4['cap'] = (df4['city'] == '서울')\n",
        "df4"
      ],
      "metadata": {
        "id": "k4A8pysLcSx9"
      },
      "execution_count": null,
      "outputs": []
    },
    {
      "cell_type": "code",
      "source": [
        "# 특정 컬럼 삭제\n",
        "del df4['cap']\n",
        "\n",
        "df4"
      ],
      "metadata": {
        "id": "akeg87wHcSun"
      },
      "execution_count": null,
      "outputs": []
    },
    {
      "cell_type": "code",
      "source": [],
      "metadata": {
        "id": "10LymH6acSsG"
      },
      "execution_count": null,
      "outputs": []
    }
  ]
}